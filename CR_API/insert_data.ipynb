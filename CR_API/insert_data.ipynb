{
 "cells": [
  {
   "cell_type": "code",
   "execution_count": 2,
   "metadata": {},
   "outputs": [],
   "source": [
    "from pymongo import MongoClient\n",
    "import pandas as pd"
   ]
  },
  {
   "cell_type": "code",
   "execution_count": 3,
   "metadata": {},
   "outputs": [],
   "source": [
    "client = MongoClient(\"mongodb://olin312-04.mathcs.carleton.edu:27017\")"
   ]
  },
  {
   "cell_type": "code",
   "execution_count": 4,
   "metadata": {},
   "outputs": [],
   "source": [
    "db = client.test \n",
    "collection = db.test"
   ]
  },
  {
   "cell_type": "code",
   "execution_count": 5,
   "metadata": {},
   "outputs": [
    {
     "ename": "ServerSelectionTimeoutError",
     "evalue": "olin312-04.mathcs.carleton.edu:27017: timed out, Timeout: 30s, Topology Description: <TopologyDescription id: 63681982182e56ef930907c7, topology_type: Unknown, servers: [<ServerDescription ('olin312-04.mathcs.carleton.edu', 27017) server_type: Unknown, rtt: None, error=NetworkTimeout('olin312-04.mathcs.carleton.edu:27017: timed out')>]>",
     "output_type": "error",
     "traceback": [
      "\u001b[1;31m---------------------------------------------------------------------------\u001b[0m",
      "\u001b[1;31mServerSelectionTimeoutError\u001b[0m               Traceback (most recent call last)",
      "Cell \u001b[1;32mIn [5], line 1\u001b[0m\n\u001b[1;32m----> 1\u001b[0m collection\u001b[39m.\u001b[39mfind_one()\n",
      "File \u001b[1;32mc:\\Users\\aokis\\AppData\\Local\\Programs\\Python\\Python39\\lib\\site-packages\\pymongo\\collection.py:1452\u001b[0m, in \u001b[0;36mCollection.find_one\u001b[1;34m(self, filter, *args, **kwargs)\u001b[0m\n\u001b[0;32m   1450\u001b[0m     \u001b[39mfilter\u001b[39m \u001b[39m=\u001b[39m {\u001b[39m\"\u001b[39m\u001b[39m_id\u001b[39m\u001b[39m\"\u001b[39m: \u001b[39mfilter\u001b[39m}\n\u001b[0;32m   1451\u001b[0m cursor \u001b[39m=\u001b[39m \u001b[39mself\u001b[39m\u001b[39m.\u001b[39mfind(\u001b[39mfilter\u001b[39m, \u001b[39m*\u001b[39margs, \u001b[39m*\u001b[39m\u001b[39m*\u001b[39mkwargs)\n\u001b[1;32m-> 1452\u001b[0m \u001b[39mfor\u001b[39;00m result \u001b[39min\u001b[39;00m cursor\u001b[39m.\u001b[39mlimit(\u001b[39m-\u001b[39m\u001b[39m1\u001b[39m):\n\u001b[0;32m   1453\u001b[0m     \u001b[39mreturn\u001b[39;00m result\n\u001b[0;32m   1454\u001b[0m \u001b[39mreturn\u001b[39;00m \u001b[39mNone\u001b[39;00m\n",
      "File \u001b[1;32mc:\\Users\\aokis\\AppData\\Local\\Programs\\Python\\Python39\\lib\\site-packages\\pymongo\\cursor.py:1248\u001b[0m, in \u001b[0;36mCursor.next\u001b[1;34m(self)\u001b[0m\n\u001b[0;32m   1246\u001b[0m \u001b[39mif\u001b[39;00m \u001b[39mself\u001b[39m\u001b[39m.\u001b[39m__empty:\n\u001b[0;32m   1247\u001b[0m     \u001b[39mraise\u001b[39;00m \u001b[39mStopIteration\u001b[39;00m\n\u001b[1;32m-> 1248\u001b[0m \u001b[39mif\u001b[39;00m \u001b[39mlen\u001b[39m(\u001b[39mself\u001b[39m\u001b[39m.\u001b[39m__data) \u001b[39mor\u001b[39;00m \u001b[39mself\u001b[39;49m\u001b[39m.\u001b[39;49m_refresh():\n\u001b[0;32m   1249\u001b[0m     \u001b[39mreturn\u001b[39;00m \u001b[39mself\u001b[39m\u001b[39m.\u001b[39m__data\u001b[39m.\u001b[39mpopleft()\n\u001b[0;32m   1250\u001b[0m \u001b[39melse\u001b[39;00m:\n",
      "File \u001b[1;32mc:\\Users\\aokis\\AppData\\Local\\Programs\\Python\\Python39\\lib\\site-packages\\pymongo\\cursor.py:1139\u001b[0m, in \u001b[0;36mCursor._refresh\u001b[1;34m(self)\u001b[0m\n\u001b[0;32m   1136\u001b[0m     \u001b[39mreturn\u001b[39;00m \u001b[39mlen\u001b[39m(\u001b[39mself\u001b[39m\u001b[39m.\u001b[39m__data)\n\u001b[0;32m   1138\u001b[0m \u001b[39mif\u001b[39;00m \u001b[39mnot\u001b[39;00m \u001b[39mself\u001b[39m\u001b[39m.\u001b[39m__session:\n\u001b[1;32m-> 1139\u001b[0m     \u001b[39mself\u001b[39m\u001b[39m.\u001b[39m__session \u001b[39m=\u001b[39m \u001b[39mself\u001b[39;49m\u001b[39m.\u001b[39;49m__collection\u001b[39m.\u001b[39;49mdatabase\u001b[39m.\u001b[39;49mclient\u001b[39m.\u001b[39;49m_ensure_session()\n\u001b[0;32m   1141\u001b[0m \u001b[39mif\u001b[39;00m \u001b[39mself\u001b[39m\u001b[39m.\u001b[39m__id \u001b[39mis\u001b[39;00m \u001b[39mNone\u001b[39;00m:  \u001b[39m# Query\u001b[39;00m\n\u001b[0;32m   1142\u001b[0m     \u001b[39mif\u001b[39;00m (\u001b[39mself\u001b[39m\u001b[39m.\u001b[39m__min \u001b[39mor\u001b[39;00m \u001b[39mself\u001b[39m\u001b[39m.\u001b[39m__max) \u001b[39mand\u001b[39;00m \u001b[39mnot\u001b[39;00m \u001b[39mself\u001b[39m\u001b[39m.\u001b[39m__hint:\n",
      "File \u001b[1;32mc:\\Users\\aokis\\AppData\\Local\\Programs\\Python\\Python39\\lib\\site-packages\\pymongo\\mongo_client.py:1740\u001b[0m, in \u001b[0;36mMongoClient._ensure_session\u001b[1;34m(self, session)\u001b[0m\n\u001b[0;32m   1735\u001b[0m     \u001b[39mreturn\u001b[39;00m session\n\u001b[0;32m   1737\u001b[0m \u001b[39mtry\u001b[39;00m:\n\u001b[0;32m   1738\u001b[0m     \u001b[39m# Don't make implicit sessions causally consistent. Applications\u001b[39;00m\n\u001b[0;32m   1739\u001b[0m     \u001b[39m# should always opt-in.\u001b[39;00m\n\u001b[1;32m-> 1740\u001b[0m     \u001b[39mreturn\u001b[39;00m \u001b[39mself\u001b[39;49m\u001b[39m.\u001b[39;49m__start_session(\u001b[39mTrue\u001b[39;49;00m, causal_consistency\u001b[39m=\u001b[39;49m\u001b[39mFalse\u001b[39;49;00m)\n\u001b[0;32m   1741\u001b[0m \u001b[39mexcept\u001b[39;00m (ConfigurationError, InvalidOperation):\n\u001b[0;32m   1742\u001b[0m     \u001b[39m# Sessions not supported.\u001b[39;00m\n\u001b[0;32m   1743\u001b[0m     \u001b[39mreturn\u001b[39;00m \u001b[39mNone\u001b[39;00m\n",
      "File \u001b[1;32mc:\\Users\\aokis\\AppData\\Local\\Programs\\Python\\Python39\\lib\\site-packages\\pymongo\\mongo_client.py:1685\u001b[0m, in \u001b[0;36mMongoClient.__start_session\u001b[1;34m(self, implicit, **kwargs)\u001b[0m\n\u001b[0;32m   1682\u001b[0m \u001b[39mdef\u001b[39;00m \u001b[39m__start_session\u001b[39m(\u001b[39mself\u001b[39m, implicit, \u001b[39m*\u001b[39m\u001b[39m*\u001b[39mkwargs):\n\u001b[0;32m   1683\u001b[0m     \u001b[39m# Raises ConfigurationError if sessions are not supported.\u001b[39;00m\n\u001b[0;32m   1684\u001b[0m     \u001b[39mif\u001b[39;00m implicit:\n\u001b[1;32m-> 1685\u001b[0m         \u001b[39mself\u001b[39;49m\u001b[39m.\u001b[39;49m_topology\u001b[39m.\u001b[39;49m_check_implicit_session_support()\n\u001b[0;32m   1686\u001b[0m         server_session \u001b[39m=\u001b[39m _EmptyServerSession()\n\u001b[0;32m   1687\u001b[0m     \u001b[39melse\u001b[39;00m:\n",
      "File \u001b[1;32mc:\\Users\\aokis\\AppData\\Local\\Programs\\Python\\Python39\\lib\\site-packages\\pymongo\\topology.py:538\u001b[0m, in \u001b[0;36mTopology._check_implicit_session_support\u001b[1;34m(self)\u001b[0m\n\u001b[0;32m    536\u001b[0m \u001b[39mdef\u001b[39;00m \u001b[39m_check_implicit_session_support\u001b[39m(\u001b[39mself\u001b[39m):\n\u001b[0;32m    537\u001b[0m     \u001b[39mwith\u001b[39;00m \u001b[39mself\u001b[39m\u001b[39m.\u001b[39m_lock:\n\u001b[1;32m--> 538\u001b[0m         \u001b[39mself\u001b[39;49m\u001b[39m.\u001b[39;49m_check_session_support()\n",
      "File \u001b[1;32mc:\\Users\\aokis\\AppData\\Local\\Programs\\Python\\Python39\\lib\\site-packages\\pymongo\\topology.py:554\u001b[0m, in \u001b[0;36mTopology._check_session_support\u001b[1;34m(self)\u001b[0m\n\u001b[0;32m    550\u001b[0m         \u001b[39mself\u001b[39m\u001b[39m.\u001b[39m_select_servers_loop(\n\u001b[0;32m    551\u001b[0m             any_server_selector, \u001b[39mself\u001b[39m\u001b[39m.\u001b[39mget_server_selection_timeout(), \u001b[39mNone\u001b[39;00m\n\u001b[0;32m    552\u001b[0m         )\n\u001b[0;32m    553\u001b[0m \u001b[39melif\u001b[39;00m \u001b[39mnot\u001b[39;00m \u001b[39mself\u001b[39m\u001b[39m.\u001b[39m_description\u001b[39m.\u001b[39mreadable_servers:\n\u001b[1;32m--> 554\u001b[0m     \u001b[39mself\u001b[39;49m\u001b[39m.\u001b[39;49m_select_servers_loop(\n\u001b[0;32m    555\u001b[0m         readable_server_selector, \u001b[39mself\u001b[39;49m\u001b[39m.\u001b[39;49mget_server_selection_timeout(), \u001b[39mNone\u001b[39;49;00m\n\u001b[0;32m    556\u001b[0m     )\n\u001b[0;32m    558\u001b[0m session_timeout \u001b[39m=\u001b[39m \u001b[39mself\u001b[39m\u001b[39m.\u001b[39m_description\u001b[39m.\u001b[39mlogical_session_timeout_minutes\n\u001b[0;32m    559\u001b[0m \u001b[39mif\u001b[39;00m session_timeout \u001b[39mis\u001b[39;00m \u001b[39mNone\u001b[39;00m:\n",
      "File \u001b[1;32mc:\\Users\\aokis\\AppData\\Local\\Programs\\Python\\Python39\\lib\\site-packages\\pymongo\\topology.py:238\u001b[0m, in \u001b[0;36mTopology._select_servers_loop\u001b[1;34m(self, selector, timeout, address)\u001b[0m\n\u001b[0;32m    235\u001b[0m \u001b[39mwhile\u001b[39;00m \u001b[39mnot\u001b[39;00m server_descriptions:\n\u001b[0;32m    236\u001b[0m     \u001b[39m# No suitable servers.\u001b[39;00m\n\u001b[0;32m    237\u001b[0m     \u001b[39mif\u001b[39;00m timeout \u001b[39m==\u001b[39m \u001b[39m0\u001b[39m \u001b[39mor\u001b[39;00m now \u001b[39m>\u001b[39m end_time:\n\u001b[1;32m--> 238\u001b[0m         \u001b[39mraise\u001b[39;00m ServerSelectionTimeoutError(\n\u001b[0;32m    239\u001b[0m             \u001b[39m\"\u001b[39m\u001b[39m%s\u001b[39;00m\u001b[39m, Timeout: \u001b[39m\u001b[39m%s\u001b[39;00m\u001b[39ms, Topology Description: \u001b[39m\u001b[39m%r\u001b[39;00m\u001b[39m\"\u001b[39m\n\u001b[0;32m    240\u001b[0m             \u001b[39m%\u001b[39m (\u001b[39mself\u001b[39m\u001b[39m.\u001b[39m_error_message(selector), timeout, \u001b[39mself\u001b[39m\u001b[39m.\u001b[39mdescription)\n\u001b[0;32m    241\u001b[0m         )\n\u001b[0;32m    243\u001b[0m     \u001b[39mself\u001b[39m\u001b[39m.\u001b[39m_ensure_opened()\n\u001b[0;32m    244\u001b[0m     \u001b[39mself\u001b[39m\u001b[39m.\u001b[39m_request_check_all()\n",
      "\u001b[1;31mServerSelectionTimeoutError\u001b[0m: olin312-04.mathcs.carleton.edu:27017: timed out, Timeout: 30s, Topology Description: <TopologyDescription id: 63681982182e56ef930907c7, topology_type: Unknown, servers: [<ServerDescription ('olin312-04.mathcs.carleton.edu', 27017) server_type: Unknown, rtt: None, error=NetworkTimeout('olin312-04.mathcs.carleton.edu:27017: timed out')>]>"
     ]
    }
   ],
   "source": [
    "collection.find_one()"
   ]
  },
  {
   "cell_type": "code",
   "execution_count": 6,
   "metadata": {},
   "outputs": [
    {
     "ename": "ServerSelectionTimeoutError",
     "evalue": "olin312-04.mathcs.carleton.edu:27017: timed out, Timeout: 30s, Topology Description: <TopologyDescription id: 63681982182e56ef930907c7, topology_type: Unknown, servers: [<ServerDescription ('olin312-04.mathcs.carleton.edu', 27017) server_type: Unknown, rtt: None, error=NetworkTimeout('olin312-04.mathcs.carleton.edu:27017: timed out')>]>",
     "output_type": "error",
     "traceback": [
      "\u001b[1;31m---------------------------------------------------------------------------\u001b[0m",
      "\u001b[1;31mServerSelectionTimeoutError\u001b[0m               Traceback (most recent call last)",
      "Cell \u001b[1;32mIn [6], line 1\u001b[0m\n\u001b[1;32m----> 1\u001b[0m test_id \u001b[39m=\u001b[39m collection\u001b[39m.\u001b[39minsert_one({\u001b[39m\"\u001b[39m\u001b[39mx\u001b[39m\u001b[39m\"\u001b[39m: \u001b[39m2\u001b[39m})\u001b[39m.\u001b[39minserted_id\n\u001b[0;32m      2\u001b[0m test_id\n",
      "File \u001b[1;32mc:\\Users\\aokis\\AppData\\Local\\Programs\\Python\\Python39\\lib\\site-packages\\pymongo\\collection.py:621\u001b[0m, in \u001b[0;36mCollection.insert_one\u001b[1;34m(self, document, bypass_document_validation, session, comment)\u001b[0m\n\u001b[0;32m    617\u001b[0m     document[\u001b[39m\"\u001b[39m\u001b[39m_id\u001b[39m\u001b[39m\"\u001b[39m] \u001b[39m=\u001b[39m ObjectId()\n\u001b[0;32m    619\u001b[0m write_concern \u001b[39m=\u001b[39m \u001b[39mself\u001b[39m\u001b[39m.\u001b[39m_write_concern_for(session)\n\u001b[0;32m    620\u001b[0m \u001b[39mreturn\u001b[39;00m InsertOneResult(\n\u001b[1;32m--> 621\u001b[0m     \u001b[39mself\u001b[39;49m\u001b[39m.\u001b[39;49m_insert_one(\n\u001b[0;32m    622\u001b[0m         document,\n\u001b[0;32m    623\u001b[0m         ordered\u001b[39m=\u001b[39;49m\u001b[39mTrue\u001b[39;49;00m,\n\u001b[0;32m    624\u001b[0m         write_concern\u001b[39m=\u001b[39;49mwrite_concern,\n\u001b[0;32m    625\u001b[0m         op_id\u001b[39m=\u001b[39;49m\u001b[39mNone\u001b[39;49;00m,\n\u001b[0;32m    626\u001b[0m         bypass_doc_val\u001b[39m=\u001b[39;49mbypass_document_validation,\n\u001b[0;32m    627\u001b[0m         session\u001b[39m=\u001b[39;49msession,\n\u001b[0;32m    628\u001b[0m         comment\u001b[39m=\u001b[39;49mcomment,\n\u001b[0;32m    629\u001b[0m     ),\n\u001b[0;32m    630\u001b[0m     write_concern\u001b[39m.\u001b[39macknowledged,\n\u001b[0;32m    631\u001b[0m )\n",
      "File \u001b[1;32mc:\\Users\\aokis\\AppData\\Local\\Programs\\Python\\Python39\\lib\\site-packages\\pymongo\\collection.py:562\u001b[0m, in \u001b[0;36mCollection._insert_one\u001b[1;34m(self, doc, ordered, write_concern, op_id, bypass_doc_val, session, comment)\u001b[0m\n\u001b[0;32m    550\u001b[0m     result \u001b[39m=\u001b[39m sock_info\u001b[39m.\u001b[39mcommand(\n\u001b[0;32m    551\u001b[0m         \u001b[39mself\u001b[39m\u001b[39m.\u001b[39m__database\u001b[39m.\u001b[39mname,\n\u001b[0;32m    552\u001b[0m         command,\n\u001b[1;32m   (...)\u001b[0m\n\u001b[0;32m    557\u001b[0m         retryable_write\u001b[39m=\u001b[39mretryable_write,\n\u001b[0;32m    558\u001b[0m     )\n\u001b[0;32m    560\u001b[0m     _check_write_command_response(result)\n\u001b[1;32m--> 562\u001b[0m \u001b[39mself\u001b[39;49m\u001b[39m.\u001b[39;49m__database\u001b[39m.\u001b[39;49mclient\u001b[39m.\u001b[39;49m_retryable_write(acknowledged, _insert_command, session)\n\u001b[0;32m    564\u001b[0m \u001b[39mif\u001b[39;00m \u001b[39mnot\u001b[39;00m \u001b[39misinstance\u001b[39m(doc, RawBSONDocument):\n\u001b[0;32m    565\u001b[0m     \u001b[39mreturn\u001b[39;00m doc\u001b[39m.\u001b[39mget(\u001b[39m\"\u001b[39m\u001b[39m_id\u001b[39m\u001b[39m\"\u001b[39m)\n",
      "File \u001b[1;32mc:\\Users\\aokis\\AppData\\Local\\Programs\\Python\\Python39\\lib\\site-packages\\pymongo\\mongo_client.py:1475\u001b[0m, in \u001b[0;36mMongoClient._retryable_write\u001b[1;34m(self, retryable, func, session)\u001b[0m\n\u001b[0;32m   1473\u001b[0m \u001b[39mdef\u001b[39;00m \u001b[39m_retryable_write\u001b[39m(\u001b[39mself\u001b[39m, retryable, func, session):\n\u001b[0;32m   1474\u001b[0m     \u001b[39m\"\"\"Internal retryable write helper.\"\"\"\u001b[39;00m\n\u001b[1;32m-> 1475\u001b[0m     \u001b[39mwith\u001b[39;00m \u001b[39mself\u001b[39m\u001b[39m.\u001b[39m_tmp_session(session) \u001b[39mas\u001b[39;00m s:\n\u001b[0;32m   1476\u001b[0m         \u001b[39mreturn\u001b[39;00m \u001b[39mself\u001b[39m\u001b[39m.\u001b[39m_retry_with_session(retryable, func, s, \u001b[39mNone\u001b[39;00m)\n",
      "File \u001b[1;32mc:\\Users\\aokis\\AppData\\Local\\Programs\\Python\\Python39\\lib\\contextlib.py:119\u001b[0m, in \u001b[0;36m_GeneratorContextManager.__enter__\u001b[1;34m(self)\u001b[0m\n\u001b[0;32m    117\u001b[0m \u001b[39mdel\u001b[39;00m \u001b[39mself\u001b[39m\u001b[39m.\u001b[39margs, \u001b[39mself\u001b[39m\u001b[39m.\u001b[39mkwds, \u001b[39mself\u001b[39m\u001b[39m.\u001b[39mfunc\n\u001b[0;32m    118\u001b[0m \u001b[39mtry\u001b[39;00m:\n\u001b[1;32m--> 119\u001b[0m     \u001b[39mreturn\u001b[39;00m \u001b[39mnext\u001b[39;49m(\u001b[39mself\u001b[39;49m\u001b[39m.\u001b[39;49mgen)\n\u001b[0;32m    120\u001b[0m \u001b[39mexcept\u001b[39;00m \u001b[39mStopIteration\u001b[39;00m:\n\u001b[0;32m    121\u001b[0m     \u001b[39mraise\u001b[39;00m \u001b[39mRuntimeError\u001b[39;00m(\u001b[39m\"\u001b[39m\u001b[39mgenerator didn\u001b[39m\u001b[39m'\u001b[39m\u001b[39mt yield\u001b[39m\u001b[39m\"\u001b[39m) \u001b[39mfrom\u001b[39;00m \u001b[39mNone\u001b[39m\n",
      "File \u001b[1;32mc:\\Users\\aokis\\AppData\\Local\\Programs\\Python\\Python39\\lib\\site-packages\\pymongo\\mongo_client.py:1757\u001b[0m, in \u001b[0;36mMongoClient._tmp_session\u001b[1;34m(self, session, close)\u001b[0m\n\u001b[0;32m   1754\u001b[0m     \u001b[39myield\u001b[39;00m session\n\u001b[0;32m   1755\u001b[0m     \u001b[39mreturn\u001b[39;00m\n\u001b[1;32m-> 1757\u001b[0m s \u001b[39m=\u001b[39m \u001b[39mself\u001b[39;49m\u001b[39m.\u001b[39;49m_ensure_session(session)\n\u001b[0;32m   1758\u001b[0m \u001b[39mif\u001b[39;00m s:\n\u001b[0;32m   1759\u001b[0m     \u001b[39mtry\u001b[39;00m:\n",
      "File \u001b[1;32mc:\\Users\\aokis\\AppData\\Local\\Programs\\Python\\Python39\\lib\\site-packages\\pymongo\\mongo_client.py:1740\u001b[0m, in \u001b[0;36mMongoClient._ensure_session\u001b[1;34m(self, session)\u001b[0m\n\u001b[0;32m   1735\u001b[0m     \u001b[39mreturn\u001b[39;00m session\n\u001b[0;32m   1737\u001b[0m \u001b[39mtry\u001b[39;00m:\n\u001b[0;32m   1738\u001b[0m     \u001b[39m# Don't make implicit sessions causally consistent. Applications\u001b[39;00m\n\u001b[0;32m   1739\u001b[0m     \u001b[39m# should always opt-in.\u001b[39;00m\n\u001b[1;32m-> 1740\u001b[0m     \u001b[39mreturn\u001b[39;00m \u001b[39mself\u001b[39;49m\u001b[39m.\u001b[39;49m__start_session(\u001b[39mTrue\u001b[39;49;00m, causal_consistency\u001b[39m=\u001b[39;49m\u001b[39mFalse\u001b[39;49;00m)\n\u001b[0;32m   1741\u001b[0m \u001b[39mexcept\u001b[39;00m (ConfigurationError, InvalidOperation):\n\u001b[0;32m   1742\u001b[0m     \u001b[39m# Sessions not supported.\u001b[39;00m\n\u001b[0;32m   1743\u001b[0m     \u001b[39mreturn\u001b[39;00m \u001b[39mNone\u001b[39;00m\n",
      "File \u001b[1;32mc:\\Users\\aokis\\AppData\\Local\\Programs\\Python\\Python39\\lib\\site-packages\\pymongo\\mongo_client.py:1685\u001b[0m, in \u001b[0;36mMongoClient.__start_session\u001b[1;34m(self, implicit, **kwargs)\u001b[0m\n\u001b[0;32m   1682\u001b[0m \u001b[39mdef\u001b[39;00m \u001b[39m__start_session\u001b[39m(\u001b[39mself\u001b[39m, implicit, \u001b[39m*\u001b[39m\u001b[39m*\u001b[39mkwargs):\n\u001b[0;32m   1683\u001b[0m     \u001b[39m# Raises ConfigurationError if sessions are not supported.\u001b[39;00m\n\u001b[0;32m   1684\u001b[0m     \u001b[39mif\u001b[39;00m implicit:\n\u001b[1;32m-> 1685\u001b[0m         \u001b[39mself\u001b[39;49m\u001b[39m.\u001b[39;49m_topology\u001b[39m.\u001b[39;49m_check_implicit_session_support()\n\u001b[0;32m   1686\u001b[0m         server_session \u001b[39m=\u001b[39m _EmptyServerSession()\n\u001b[0;32m   1687\u001b[0m     \u001b[39melse\u001b[39;00m:\n",
      "File \u001b[1;32mc:\\Users\\aokis\\AppData\\Local\\Programs\\Python\\Python39\\lib\\site-packages\\pymongo\\topology.py:538\u001b[0m, in \u001b[0;36mTopology._check_implicit_session_support\u001b[1;34m(self)\u001b[0m\n\u001b[0;32m    536\u001b[0m \u001b[39mdef\u001b[39;00m \u001b[39m_check_implicit_session_support\u001b[39m(\u001b[39mself\u001b[39m):\n\u001b[0;32m    537\u001b[0m     \u001b[39mwith\u001b[39;00m \u001b[39mself\u001b[39m\u001b[39m.\u001b[39m_lock:\n\u001b[1;32m--> 538\u001b[0m         \u001b[39mself\u001b[39;49m\u001b[39m.\u001b[39;49m_check_session_support()\n",
      "File \u001b[1;32mc:\\Users\\aokis\\AppData\\Local\\Programs\\Python\\Python39\\lib\\site-packages\\pymongo\\topology.py:554\u001b[0m, in \u001b[0;36mTopology._check_session_support\u001b[1;34m(self)\u001b[0m\n\u001b[0;32m    550\u001b[0m         \u001b[39mself\u001b[39m\u001b[39m.\u001b[39m_select_servers_loop(\n\u001b[0;32m    551\u001b[0m             any_server_selector, \u001b[39mself\u001b[39m\u001b[39m.\u001b[39mget_server_selection_timeout(), \u001b[39mNone\u001b[39;00m\n\u001b[0;32m    552\u001b[0m         )\n\u001b[0;32m    553\u001b[0m \u001b[39melif\u001b[39;00m \u001b[39mnot\u001b[39;00m \u001b[39mself\u001b[39m\u001b[39m.\u001b[39m_description\u001b[39m.\u001b[39mreadable_servers:\n\u001b[1;32m--> 554\u001b[0m     \u001b[39mself\u001b[39;49m\u001b[39m.\u001b[39;49m_select_servers_loop(\n\u001b[0;32m    555\u001b[0m         readable_server_selector, \u001b[39mself\u001b[39;49m\u001b[39m.\u001b[39;49mget_server_selection_timeout(), \u001b[39mNone\u001b[39;49;00m\n\u001b[0;32m    556\u001b[0m     )\n\u001b[0;32m    558\u001b[0m session_timeout \u001b[39m=\u001b[39m \u001b[39mself\u001b[39m\u001b[39m.\u001b[39m_description\u001b[39m.\u001b[39mlogical_session_timeout_minutes\n\u001b[0;32m    559\u001b[0m \u001b[39mif\u001b[39;00m session_timeout \u001b[39mis\u001b[39;00m \u001b[39mNone\u001b[39;00m:\n",
      "File \u001b[1;32mc:\\Users\\aokis\\AppData\\Local\\Programs\\Python\\Python39\\lib\\site-packages\\pymongo\\topology.py:238\u001b[0m, in \u001b[0;36mTopology._select_servers_loop\u001b[1;34m(self, selector, timeout, address)\u001b[0m\n\u001b[0;32m    235\u001b[0m \u001b[39mwhile\u001b[39;00m \u001b[39mnot\u001b[39;00m server_descriptions:\n\u001b[0;32m    236\u001b[0m     \u001b[39m# No suitable servers.\u001b[39;00m\n\u001b[0;32m    237\u001b[0m     \u001b[39mif\u001b[39;00m timeout \u001b[39m==\u001b[39m \u001b[39m0\u001b[39m \u001b[39mor\u001b[39;00m now \u001b[39m>\u001b[39m end_time:\n\u001b[1;32m--> 238\u001b[0m         \u001b[39mraise\u001b[39;00m ServerSelectionTimeoutError(\n\u001b[0;32m    239\u001b[0m             \u001b[39m\"\u001b[39m\u001b[39m%s\u001b[39;00m\u001b[39m, Timeout: \u001b[39m\u001b[39m%s\u001b[39;00m\u001b[39ms, Topology Description: \u001b[39m\u001b[39m%r\u001b[39;00m\u001b[39m\"\u001b[39m\n\u001b[0;32m    240\u001b[0m             \u001b[39m%\u001b[39m (\u001b[39mself\u001b[39m\u001b[39m.\u001b[39m_error_message(selector), timeout, \u001b[39mself\u001b[39m\u001b[39m.\u001b[39mdescription)\n\u001b[0;32m    241\u001b[0m         )\n\u001b[0;32m    243\u001b[0m     \u001b[39mself\u001b[39m\u001b[39m.\u001b[39m_ensure_opened()\n\u001b[0;32m    244\u001b[0m     \u001b[39mself\u001b[39m\u001b[39m.\u001b[39m_request_check_all()\n",
      "\u001b[1;31mServerSelectionTimeoutError\u001b[0m: olin312-04.mathcs.carleton.edu:27017: timed out, Timeout: 30s, Topology Description: <TopologyDescription id: 63681982182e56ef930907c7, topology_type: Unknown, servers: [<ServerDescription ('olin312-04.mathcs.carleton.edu', 27017) server_type: Unknown, rtt: None, error=NetworkTimeout('olin312-04.mathcs.carleton.edu:27017: timed out')>]>"
     ]
    }
   ],
   "source": [
    "test_id = collection.insert_one({\"x\": 2}).inserted_id\n",
    "test_id"
   ]
  },
  {
   "cell_type": "code",
   "execution_count": null,
   "metadata": {},
   "outputs": [],
   "source": []
  }
 ],
 "metadata": {
  "kernelspec": {
   "display_name": "Python 3.9.13 64-bit",
   "language": "python",
   "name": "python3"
  },
  "language_info": {
   "codemirror_mode": {
    "name": "ipython",
    "version": 3
   },
   "file_extension": ".py",
   "mimetype": "text/x-python",
   "name": "python",
   "nbconvert_exporter": "python",
   "pygments_lexer": "ipython3",
   "version": "3.9.13"
  },
  "orig_nbformat": 4,
  "vscode": {
   "interpreter": {
    "hash": "32f171256852a3ca77585579560ed98ca2ee6915ccfca18b7ba8775af0b7ae3e"
   }
  }
 },
 "nbformat": 4,
 "nbformat_minor": 2
}
