{
 "cells": [
  {
   "attachments": {},
   "cell_type": "markdown",
   "metadata": {},
   "source": [
    "# Collecting statement data from Congress.gov Congressional Record API"
   ]
  },
  {
   "cell_type": "code",
   "execution_count": 4,
   "metadata": {},
   "outputs": [],
   "source": [
    "import re\n",
    "import requests\n",
    "import datetime\n",
    "\n",
    "import pandas as pd\n",
    "from urllib.error import HTTPError\n",
    "from credentials import CONGRESS_API_KEY #get API key from congress.gov"
   ]
  },
  {
   "cell_type": "code",
   "execution_count": 6,
   "metadata": {},
   "outputs": [],
   "source": [
    "# get a month's worth of congressional records from the API\n",
    "\n",
    "base_url = f\"https://api.congress.gov/v3/congressional-record/\"\n",
    "def get_cr_month(year, month):\n",
    "    param_dict = {\n",
    "        \"api_key\": CONGRESS_API_KEY,\n",
    "        \"y\": year,\n",
    "        \"m\": month,\n",
    "        \"limit\": 250 #assuming that there are at most 250 records per month\n",
    "    }\n",
    "    response = requests.get(url=base_url, params=param_dict)\n",
    "    if response.ok:\n",
    "        return response.json()\n",
    "    else:\n",
    "        response.raise_for_status()"
   ]
  },
  {
   "cell_type": "code",
   "execution_count": 7,
   "metadata": {},
   "outputs": [],
   "source": [
    "# test on Jan 2021 subset\n",
    "ex = get_cr_month(2021, 1)\n",
    "ex"
   ]
  },
  {
   "cell_type": "code",
   "execution_count": 1,
   "metadata": {},
   "outputs": [],
   "source": [
    "# extract PDF links from the JSON returned by the congressional record API\n",
    "def extract_pdf_urls(response, congress_num):\n",
    "    try:\n",
    "        links = [issue['Links'] for issue in response['Results']['Issues'] if int(issue['Congress']) == congress_num]\n",
    "        house_links, senate_links = [], []\n",
    "        for link_section in links:\n",
    "            try:\n",
    "                house_links += [link['Url'] for link in link_section['House']['PDF']]\n",
    "                senate_links += [link['Url'] for link in link_section['Senate']['PDF']]\n",
    "            except KeyError:\n",
    "                pass\n",
    "        return house_links, senate_links\n",
    "    except (KeyError, IndexError) as e:\n",
    "        return [], []"
   ]
  },
  {
   "cell_type": "code",
   "execution_count": 9,
   "metadata": {},
   "outputs": [],
   "source": [
    "# test link extraction\n",
    "house, senate = extract_pdf_urls(ex, 117)\n",
    "senate"
   ]
  },
  {
   "cell_type": "code",
   "execution_count": 13,
   "metadata": {},
   "outputs": [],
   "source": [
    "# get start and end years for the congress_num-th congress\n",
    "def get_congress_years(congress_num):\n",
    "    url = f\"https://api.congress.gov/v3/congress/{congress_num}/\"\n",
    "    param_dict = {\n",
    "        \"api_key\": CONGRESS_API_KEY,\n",
    "    }\n",
    "    response = requests.get(url=url, params=param_dict)\n",
    "    if response.ok:\n",
    "        this_congress = response.json()['congress']\n",
    "        return int(this_congress['startYear']), int(this_congress['endYear'])\n",
    "    else:\n",
    "        response.raise_for_status()"
   ]
  },
  {
   "cell_type": "code",
   "execution_count": 12,
   "metadata": {},
   "outputs": [],
   "source": [
    "# query, extract, and store CR PDFs for every day that the congress_num-th congress was in session\n",
    "def congress_cr_df(congress_num):\n",
    "    try:\n",
    "        start_year, end_year = get_congress_years(congress_num)\n",
    "    except HTTPError as e:\n",
    "        raise e\n",
    "    start_date = datetime.datetime(start_year, 1, 1)\n",
    "    end_date = datetime.datetime(end_year, 12, 31)\n",
    "    date_range = pd.date_range(start_date, end_date)\n",
    "    cr_records = []\n",
    "    for date in date_range:\n",
    "        y = date.year\n",
    "        m = date.month\n",
    "        d = date.day\n",
    "        try:\n",
    "            response = get_cr_month(y, m)\n",
    "            house_urls, senate_urls = extract_pdf_urls(response, congress_num)\n",
    "            cr_records += [{\n",
    "                'date': date,\n",
    "                'congress': congress_num,\n",
    "                'chamber': 'house',\n",
    "                'pdf_url': house_url\n",
    "            } for house_url in house_urls]\n",
    "            cr_records += [{\n",
    "                'date': date,\n",
    "                'congress': congress_num,\n",
    "                'chamber': 'senate',\n",
    "                'pdf_url': senate_url\n",
    "            } for senate_url in senate_urls]\n",
    "        except HTTPError as h:\n",
    "            raise h\n",
    "    return pd.DataFrame(cr_records) \n"
   ]
  },
  {
   "cell_type": "code",
   "execution_count": 88,
   "metadata": {},
   "outputs": [
    {
     "ename": "HTTPError",
     "evalue": "429 Client Error: Too Many Requests for url: https://api.congress.gov/v3/congress/117/?api_key=3fenjitGhwzPCqg6fzrj4LwB96YYABLS7iWHqY9M",
     "output_type": "error",
     "traceback": [
      "\u001b[1;31m---------------------------------------------------------------------------\u001b[0m",
      "\u001b[1;31mHTTPError\u001b[0m                                 Traceback (most recent call last)",
      "Cell \u001b[1;32mIn [88], line 1\u001b[0m\n\u001b[1;32m----> 1\u001b[0m df117 \u001b[39m=\u001b[39m congress_cr_df(\u001b[39m117\u001b[39m)\n",
      "Cell \u001b[1;32mIn [86], line 3\u001b[0m, in \u001b[0;36mcongress_cr_df\u001b[1;34m(congress_num)\u001b[0m\n\u001b[0;32m      1\u001b[0m \u001b[39mdef\u001b[39;00m \u001b[39mcongress_cr_df\u001b[39m(congress_num):\n\u001b[0;32m      2\u001b[0m     \u001b[39mtry\u001b[39;00m:\n\u001b[1;32m----> 3\u001b[0m         start_year, end_year \u001b[39m=\u001b[39m get_congress_years(congress_num)\n\u001b[0;32m      4\u001b[0m     \u001b[39mexcept\u001b[39;00m HTTPError \u001b[39mas\u001b[39;00m e:\n\u001b[0;32m      5\u001b[0m         \u001b[39mraise\u001b[39;00m e\n",
      "Cell \u001b[1;32mIn [75], line 11\u001b[0m, in \u001b[0;36mget_congress_years\u001b[1;34m(congress_num)\u001b[0m\n\u001b[0;32m      9\u001b[0m     \u001b[39mreturn\u001b[39;00m \u001b[39mint\u001b[39m(this_congress[\u001b[39m'\u001b[39m\u001b[39mstartYear\u001b[39m\u001b[39m'\u001b[39m]), \u001b[39mint\u001b[39m(this_congress[\u001b[39m'\u001b[39m\u001b[39mendYear\u001b[39m\u001b[39m'\u001b[39m])\n\u001b[0;32m     10\u001b[0m \u001b[39melse\u001b[39;00m:\n\u001b[1;32m---> 11\u001b[0m     response\u001b[39m.\u001b[39;49mraise_for_status()\n",
      "File \u001b[1;32mc:\\Users\\aokis\\AppData\\Local\\Programs\\Python\\Python39\\lib\\site-packages\\requests\\models.py:1021\u001b[0m, in \u001b[0;36mResponse.raise_for_status\u001b[1;34m(self)\u001b[0m\n\u001b[0;32m   1016\u001b[0m     http_error_msg \u001b[39m=\u001b[39m (\n\u001b[0;32m   1017\u001b[0m         \u001b[39mf\u001b[39m\u001b[39m\"\u001b[39m\u001b[39m{\u001b[39;00m\u001b[39mself\u001b[39m\u001b[39m.\u001b[39mstatus_code\u001b[39m}\u001b[39;00m\u001b[39m Server Error: \u001b[39m\u001b[39m{\u001b[39;00mreason\u001b[39m}\u001b[39;00m\u001b[39m for url: \u001b[39m\u001b[39m{\u001b[39;00m\u001b[39mself\u001b[39m\u001b[39m.\u001b[39murl\u001b[39m}\u001b[39;00m\u001b[39m\"\u001b[39m\n\u001b[0;32m   1018\u001b[0m     )\n\u001b[0;32m   1020\u001b[0m \u001b[39mif\u001b[39;00m http_error_msg:\n\u001b[1;32m-> 1021\u001b[0m     \u001b[39mraise\u001b[39;00m HTTPError(http_error_msg, response\u001b[39m=\u001b[39m\u001b[39mself\u001b[39m)\n",
      "\u001b[1;31mHTTPError\u001b[0m: 429 Client Error: Too Many Requests for url: https://api.congress.gov/v3/congress/117/?api_key=3fenjitGhwzPCqg6fzrj4LwB96YYABLS7iWHqY9M"
     ]
    }
   ],
   "source": [
    "df117 = congress_cr_df(117)"
   ]
  },
  {
   "cell_type": "code",
   "execution_count": 80,
   "metadata": {},
   "outputs": [
    {
     "data": {
      "text/html": [
       "<div>\n",
       "<style scoped>\n",
       "    .dataframe tbody tr th:only-of-type {\n",
       "        vertical-align: middle;\n",
       "    }\n",
       "\n",
       "    .dataframe tbody tr th {\n",
       "        vertical-align: top;\n",
       "    }\n",
       "\n",
       "    .dataframe thead th {\n",
       "        text-align: right;\n",
       "    }\n",
       "</style>\n",
       "<table border=\"1\" class=\"dataframe\">\n",
       "  <thead>\n",
       "    <tr style=\"text-align: right;\">\n",
       "      <th></th>\n",
       "      <th>date</th>\n",
       "      <th>chamber</th>\n",
       "      <th>pdf_url</th>\n",
       "    </tr>\n",
       "  </thead>\n",
       "  <tbody>\n",
       "    <tr>\n",
       "      <th>0</th>\n",
       "      <td>2021-01-03</td>\n",
       "      <td>house</td>\n",
       "      <td>https://www.congress.gov/117/crec/2021/01/03/1...</td>\n",
       "    </tr>\n",
       "    <tr>\n",
       "      <th>1</th>\n",
       "      <td>2021-01-03</td>\n",
       "      <td>house</td>\n",
       "      <td>https://www.congress.gov/117/crec/2021/01/03/C...</td>\n",
       "    </tr>\n",
       "    <tr>\n",
       "      <th>2</th>\n",
       "      <td>2021-01-03</td>\n",
       "      <td>senate</td>\n",
       "      <td>https://www.congress.gov/117/crec/2021/01/03/1...</td>\n",
       "    </tr>\n",
       "    <tr>\n",
       "      <th>3</th>\n",
       "      <td>2021-01-03</td>\n",
       "      <td>senate</td>\n",
       "      <td>https://www.congress.gov/117/crec/2021/01/03/C...</td>\n",
       "    </tr>\n",
       "    <tr>\n",
       "      <th>4</th>\n",
       "      <td>2021-01-04</td>\n",
       "      <td>house</td>\n",
       "      <td>https://www.congress.gov/117/crec/2021/01/04/C...</td>\n",
       "    </tr>\n",
       "  </tbody>\n",
       "</table>\n",
       "</div>"
      ],
      "text/plain": [
       "        date chamber                                            pdf_url\n",
       "0 2021-01-03   house  https://www.congress.gov/117/crec/2021/01/03/1...\n",
       "1 2021-01-03   house  https://www.congress.gov/117/crec/2021/01/03/C...\n",
       "2 2021-01-03  senate  https://www.congress.gov/117/crec/2021/01/03/1...\n",
       "3 2021-01-03  senate  https://www.congress.gov/117/crec/2021/01/03/C...\n",
       "4 2021-01-04   house  https://www.congress.gov/117/crec/2021/01/04/C..."
      ]
     },
     "execution_count": 80,
     "metadata": {},
     "output_type": "execute_result"
    }
   ],
   "source": [
    "# the very first entry for every other year is a session to close out the previous congress, link goes like yyyy/mm/dd/CREC...\n",
    "df117.head()"
   ]
  },
  {
   "cell_type": "code",
   "execution_count": null,
   "metadata": {},
   "outputs": [],
   "source": [
    "pd.to_csv(df117, \"cr_117\")"
   ]
  },
  {
   "cell_type": "markdown",
   "metadata": {},
   "source": [
    "Perform spot checks for pdfs: take a small sample from a broad time range and make sure formatting is the same"
   ]
  },
  {
   "cell_type": "code",
   "execution_count": 19,
   "metadata": {},
   "outputs": [
    {
     "data": {
      "text/html": [
       "<div>\n",
       "<style scoped>\n",
       "    .dataframe tbody tr th:only-of-type {\n",
       "        vertical-align: middle;\n",
       "    }\n",
       "\n",
       "    .dataframe tbody tr th {\n",
       "        vertical-align: top;\n",
       "    }\n",
       "\n",
       "    .dataframe thead th {\n",
       "        text-align: right;\n",
       "    }\n",
       "</style>\n",
       "<table border=\"1\" class=\"dataframe\">\n",
       "  <thead>\n",
       "    <tr style=\"text-align: right;\">\n",
       "      <th></th>\n",
       "      <th>date</th>\n",
       "      <th>chamber</th>\n",
       "      <th>pdf_url</th>\n",
       "    </tr>\n",
       "  </thead>\n",
       "  <tbody>\n",
       "    <tr>\n",
       "      <th>0</th>\n",
       "      <td>2021-01-03</td>\n",
       "      <td>house</td>\n",
       "      <td>https://www.congress.gov/117/crec/2021/01/03/1...</td>\n",
       "    </tr>\n",
       "    <tr>\n",
       "      <th>2</th>\n",
       "      <td>2021-01-03</td>\n",
       "      <td>senate</td>\n",
       "      <td>https://www.congress.gov/117/crec/2021/01/03/1...</td>\n",
       "    </tr>\n",
       "    <tr>\n",
       "      <th>4</th>\n",
       "      <td>2021-01-04</td>\n",
       "      <td>house</td>\n",
       "      <td>https://www.congress.gov/117/crec/2021/01/04/C...</td>\n",
       "    </tr>\n",
       "    <tr>\n",
       "      <th>5</th>\n",
       "      <td>2021-01-05</td>\n",
       "      <td>house</td>\n",
       "      <td>https://www.congress.gov/117/crec/2021/01/05/C...</td>\n",
       "    </tr>\n",
       "    <tr>\n",
       "      <th>6</th>\n",
       "      <td>2021-01-06</td>\n",
       "      <td>house</td>\n",
       "      <td>https://www.congress.gov/117/crec/2021/01/06/1...</td>\n",
       "    </tr>\n",
       "  </tbody>\n",
       "</table>\n",
       "</div>"
      ],
      "text/plain": [
       "        date chamber                                            pdf_url\n",
       "0 2021-01-03   house  https://www.congress.gov/117/crec/2021/01/03/1...\n",
       "2 2021-01-03  senate  https://www.congress.gov/117/crec/2021/01/03/1...\n",
       "4 2021-01-04   house  https://www.congress.gov/117/crec/2021/01/04/C...\n",
       "5 2021-01-05   house  https://www.congress.gov/117/crec/2021/01/05/C...\n",
       "6 2021-01-06   house  https://www.congress.gov/117/crec/2021/01/06/1..."
      ]
     },
     "execution_count": 19,
     "metadata": {},
     "output_type": "execute_result"
    }
   ],
   "source": [
    "df117 = pd.read_pickle(\"cr_117\")\n",
    "df117 = df117.drop([1,3])\n",
    "df117.head()"
   ]
  },
  {
   "cell_type": "code",
   "execution_count": 24,
   "metadata": {},
   "outputs": [
    {
     "name": "stdout",
     "output_type": "stream",
     "text": [
      "2021-01-03\n",
      "2021-01-03\n",
      "2021-01-04\n",
      "2021-01-05\n",
      "2021-01-06\n"
     ]
    }
   ],
   "source": [
    "count = 0\n",
    "for row in df117.itertuples():\n",
    "    if count == 5:\n",
    "        break\n",
    "    count += 1\n",
    "    with open(f'{row.Index}.pdf', 'wb') as pdf:\n",
    "        pdf.write(requests.get(row.pdf_url).content)\n",
    "    print(row.date.date())"
   ]
  }
 ],
 "metadata": {
  "kernelspec": {
   "display_name": "Python 3.9.13 64-bit",
   "language": "python",
   "name": "python3"
  },
  "language_info": {
   "codemirror_mode": {
    "name": "ipython",
    "version": 3
   },
   "file_extension": ".py",
   "mimetype": "text/x-python",
   "name": "python",
   "nbconvert_exporter": "python",
   "pygments_lexer": "ipython3",
   "version": "3.9.13"
  },
  "orig_nbformat": 4,
  "vscode": {
   "interpreter": {
    "hash": "32f171256852a3ca77585579560ed98ca2ee6915ccfca18b7ba8775af0b7ae3e"
   }
  }
 },
 "nbformat": 4,
 "nbformat_minor": 2
}
