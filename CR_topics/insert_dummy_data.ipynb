{
 "cells": [
  {
   "cell_type": "code",
   "execution_count": 1,
   "metadata": {},
   "outputs": [],
   "source": [
    "import pymongo\n",
    "import random\n",
    "\n",
    "client = pymongo.MongoClient(\"mongodb://localhost:27017/\") # must be run on olin312-04\n",
    "db = client[\"comps\"] # access the comps db\n",
    "congresspeople_collection = db[\"congresspeople\"]\n",
    "topics_collection = db[\"statement_topics\"]\n",
    "\n",
    "random_words = [\"abortion\", \"government\", \"business\", \"capitalism\", \"Biden\", \"president\", \"guns\", \"violence\", \"crime\", \"rights\", \"freedom\", \"immigration\", \"health\", \"insurance\", \"covid\", \"aid\", \"vaccines\", \"women's rights\", \"policy\", \"labor\", \"covid\", \"Trump\", \"DACA\", \"climate change\", \"environment\", \"police\", \"minimum wage\", \"America\", \"Russia\", \"election\", \"economy\"]\n",
    "\n",
    "for doc in congresspeople_collection.find():\n",
    "    num_words = random.randint(2, 6)\n",
    "    for i in num_words:\n",
    "        frequency = random.random()\n",
    "        topic = random_words[random.randint(0,30)]\n",
    "        new_doc = {\n",
    "            \"opensecrets_id\" : doc[\"opensecrets_id\"],\n",
    "            \"topic\" : topic,\n",
    "            \"frequency\" : frequency\n",
    "        }\n",
    "        topics_collection.insert_one(new_doc)\n"
   ]
  },
  {
   "cell_type": "code",
   "execution_count": null,
   "metadata": {},
   "outputs": [],
   "source": [
    "random_words = []"
   ]
  },
  {
   "cell_type": "markdown",
   "metadata": {},
   "source": [
    "Need in database: \n",
    "Opensecrets id\n",
    "topic\n",
    "frequency\n",
    "\n",
    "could have a bunch of docs with one word each, one opensecrests id, one topic -- would be easy to filter out just the ones of \n",
    "\n",
    "do i want one doc for every word? or one for every congress person? "
   ]
  }
 ],
 "metadata": {
  "kernelspec": {
   "display_name": "Python 3.10.5 64-bit",
   "language": "python",
   "name": "python3"
  },
  "language_info": {
   "codemirror_mode": {
    "name": "ipython",
    "version": 3
   },
   "file_extension": ".py",
   "mimetype": "text/x-python",
   "name": "python",
   "nbconvert_exporter": "python",
   "pygments_lexer": "ipython3",
   "version": "3.10.5"
  },
  "orig_nbformat": 4,
  "vscode": {
   "interpreter": {
    "hash": "aee8b7b246df8f9039afb4144a1f6fd8d2ca17a180786b69acc140d282b71a49"
   }
  }
 },
 "nbformat": 4,
 "nbformat_minor": 2
}
