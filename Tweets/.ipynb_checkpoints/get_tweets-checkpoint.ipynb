{
 "cells": [
  {
   "cell_type": "code",
   "execution_count": 1,
   "id": "7ea74b41",
   "metadata": {},
   "outputs": [],
   "source": [
    "import tweepy\n",
    "import pandas as pd"
   ]
  },
  {
   "cell_type": "code",
   "execution_count": 2,
   "id": "a4f7fd3a",
   "metadata": {},
   "outputs": [],
   "source": [
    "consumer_key = \"cC3xjsO0yoo12iaxDXXO2C9XG\"  #same as api key\n",
    "consumer_secret = \"9CK4KWCqcBlvcPBgkJ6EY78VTDzwUjdwtJbTD10CWFjSJ8p6kk\"  #same as api secret\n",
    "access_key = \"1572984312554786818-wINhA428AvCReSw2BWIhgTAK4orJHs\"\n",
    "access_secret = \"UsU84LHeQ0ny5gddq8DvyqsSWUnWr9CkSRcoUiEsaA8ut\""
   ]
  },
  {
   "cell_type": "code",
   "execution_count": 3,
   "id": "2b69df1a",
   "metadata": {},
   "outputs": [],
   "source": [
    "# Twitter authentication\n",
    "auth = tweepy.OAuthHandler(consumer_key, consumer_secret)   \n",
    "auth.set_access_token(access_key, access_secret) \n",
    "  \n",
    "# Creating an API object \n",
    "api = tweepy.API(auth)"
   ]
  },
  {
   "cell_type": "code",
   "execution_count": 4,
   "id": "81204942",
   "metadata": {},
   "outputs": [],
   "source": [
    "new_tweets = tweepy.Cursor(api.user_timeline, \n",
    "                           screen_name=\"AOC\", \n",
    "                           tweet_mode='extended').items()\n",
    "list = []\n",
    "for tweet in new_tweets:\n",
    "    text = tweet._json[\"full_text\"]\n",
    "\n",
    "    refined_tweet = {'text' : text,\n",
    "                    'favorite_count' : tweet.favorite_count,\n",
    "                    'retweet_count' : tweet.retweet_count,\n",
    "                    'created_at' : tweet.created_at}\n",
    "    \n",
    "    list.append(refined_tweet)\n",
    "\n",
    "df = pd.DataFrame(list)"
   ]
  },
  {
   "cell_type": "code",
   "execution_count": 28,
   "id": "d864f9e4",
   "metadata": {},
   "outputs": [
    {
     "data": {
      "text/plain": [
       "Timestamp('2020-10-08 17:05:56+0000', tz='UTC')"
      ]
     },
     "execution_count": 28,
     "metadata": {},
     "output_type": "execute_result"
    }
   ],
   "source": [
    "df[\"created_at\"].min()"
   ]
  },
  {
   "cell_type": "code",
   "execution_count": 5,
   "id": "14c58baa",
   "metadata": {},
   "outputs": [],
   "source": [
    "df.to_csv('AOC_tweets.csv')"
   ]
  },
  {
   "cell_type": "code",
   "execution_count": 6,
   "id": "7fd5b138",
   "metadata": {},
   "outputs": [
    {
     "data": {
      "text/plain": [
       "'RT @hasanthehun: ofc @elonmusk would shit on domestic union made apparel prices. after all tesla is now the largest non-union US car manufa…'"
      ]
     },
     "execution_count": 6,
     "metadata": {},
     "output_type": "execute_result"
    }
   ],
   "source": [
    "df[\"text\"][3]"
   ]
  },
  {
   "cell_type": "code",
   "execution_count": null,
   "id": "87f9f227",
   "metadata": {},
   "outputs": [],
   "source": []
  }
 ],
 "metadata": {
  "kernelspec": {
   "display_name": "Python 3 (ipykernel)",
   "language": "python",
   "name": "python3"
  },
  "language_info": {
   "codemirror_mode": {
    "name": "ipython",
    "version": 3
   },
   "file_extension": ".py",
   "mimetype": "text/x-python",
   "name": "python",
   "nbconvert_exporter": "python",
   "pygments_lexer": "ipython3",
   "version": "3.9.12"
  }
 },
 "nbformat": 4,
 "nbformat_minor": 5
}
