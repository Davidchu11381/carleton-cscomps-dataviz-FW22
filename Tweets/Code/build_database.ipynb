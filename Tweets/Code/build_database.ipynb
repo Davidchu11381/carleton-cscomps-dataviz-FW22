{
 "cells": [
  {
   "cell_type": "code",
   "execution_count": 1,
   "id": "0e23473d",
   "metadata": {},
   "outputs": [],
   "source": [
    "import pandas as pd\n",
    "import numpy as np"
   ]
  },
  {
   "cell_type": "code",
   "execution_count": 3,
   "id": "2676ad52",
   "metadata": {},
   "outputs": [
    {
     "name": "stdout",
     "output_type": "stream",
     "text": [
      "/Users/davidchu/Desktop/Carleton/Courses/Senior/Fall/CS Comps/carleton-cscomps-dataviz-FW22/Tweets/Code\n"
     ]
    }
   ],
   "source": [
    "import os\n",
    "print(os.getcwd())\n",
    "os.chdir('/Users/davidchu/Desktop/Carleton/Courses/Senior/Fall/CS Comps/carleton-cscomps-dataviz-FW22/Tweets')"
   ]
  },
  {
   "cell_type": "code",
   "execution_count": 36,
   "id": "bdbc00d2",
   "metadata": {},
   "outputs": [],
   "source": [
    "df = pd.read_csv(\"./data/legislators-current.csv\")"
   ]
  },
  {
   "cell_type": "code",
   "execution_count": 10,
   "id": "2fda00cd",
   "metadata": {},
   "outputs": [
    {
     "data": {
      "text/plain": [
       "Index(['last_name', 'first_name', 'middle_name', 'suffix', 'nickname',\n",
       "       'full_name', 'birthday', 'gender', 'type', 'state', 'district',\n",
       "       'senate_class', 'party', 'url', 'address', 'phone', 'contact_form',\n",
       "       'rss_url', 'twitter', 'facebook', 'youtube', 'youtube_id',\n",
       "       'bioguide_id', 'thomas_id', 'opensecrets_id', 'lis_id', 'fec_ids',\n",
       "       'cspan_id', 'govtrack_id', 'votesmart_id', 'ballotpedia_id',\n",
       "       'washington_post_id', 'icpsr_id', 'wikipedia_id'],\n",
       "      dtype='object')"
      ]
     },
     "execution_count": 10,
     "metadata": {},
     "output_type": "execute_result"
    }
   ],
   "source": [
    "df.columns"
   ]
  },
  {
   "cell_type": "code",
   "execution_count": 17,
   "id": "db0106af",
   "metadata": {},
   "outputs": [
    {
     "data": {
      "text/plain": [
       "(array(['AustinScottGA08', 'BennieGThompson', 'BettyMcCollum04',\n",
       "        'BillPascrell', 'BlumenauerMedia', 'BobLatta', 'BobbyScott',\n",
       "        'BradSherman', 'Call_Me_Dutch', 'CathyMcMorris', 'ChelliePingree',\n",
       "        'ChrisCoons', 'ChrisVanHollen', 'ChuckGrassley', 'CongBillPosey',\n",
       "        'CongBoyle', 'CongMikeSimpson', 'CongPalazzo', 'CongressmanGT',\n",
       "        'CongressmanHice', 'CongressmanRaja', 'Congressman_JVD',\n",
       "        'DesJarlaisTN04', 'DonaldNorcross', 'DorisMatsui', 'DrNealDunnFL2',\n",
       "        'EleanorNorton', 'FrankPallone', 'GKButterfield', 'GOPLeader',\n",
       "        'GReschenthaler', 'GerryConnolly', 'GillibrandNY',\n",
       "        'GraceNapolitano', 'GrahamBlog', 'GuamCongressman',\n",
       "        'HerreraBeutler', 'Ilhan', 'JAHimes', 'JacksonLeeTX18',\n",
       "        'JanSchakowsky', 'JayObernolte', 'JerryMoran', 'JimInhofe',\n",
       "        'JimLangevin', 'Jim_Jordan', 'JoaquinCastrotx', 'JohnBoozman',\n",
       "        'JohnCornyn', 'JudgeCarter', 'KenCalvert', 'Kilili_Sablan',\n",
       "        'LeaderHoyer', 'LisaMurkowski', 'MarioDB', 'MarkAmodeiNV2',\n",
       "        'MarkWarner', 'MarshaBlackburn', 'MartinHeinrich', 'MazieHirono',\n",
       "        'McConnellPress', 'MichaelCBurgess', 'MikeCrapo', 'MikeKellyPA',\n",
       "        'NormaJTorres', 'NydiaVelazquez', 'PatrickMcHenry', 'PattyMurray',\n",
       "        'PeteSessions', 'PeterWelch', 'RepAGonzalez', 'RepAOC',\n",
       "        'RepAdamSchiff', 'RepAdamSmith', 'RepAdams', 'RepAdrianSmith',\n",
       "        'RepAlGreen', 'RepAlLawsonJr', 'RepAlexMooney', 'RepAmata',\n",
       "        'RepAndreCarson', 'RepAndyBarr', 'RepAndyBiggsAZ',\n",
       "        'RepAndyHarrisMD', 'RepAndyKimNJ', 'RepAndyLevin', 'RepAngieCraig',\n",
       "        'RepAnnWagner', 'RepAnnaEshoo', 'RepAnnieKuster',\n",
       "        'RepAnthonyBrown', 'RepArmstrongND', 'RepArrington',\n",
       "        'RepAshleyHinson', 'RepAuchincloss', 'RepBalderson',\n",
       "        'RepBarbaraLee', 'RepBarragan', 'RepBarryMoore', 'RepBeatty',\n",
       "        'RepBenCline', 'RepBentz', 'RepBera', 'RepBethVanDuyne', 'RepBice',\n",
       "        'RepBillFoster', 'RepBillJohnson', 'RepBlaine', 'RepBlakeMoore',\n",
       "        'RepBobGibbs', 'RepBobGood', 'RepBobbyRush', 'RepBoebert',\n",
       "        'RepBonamici', 'RepBonnie', 'RepBost', 'RepBourdeaux', 'RepBowman',\n",
       "        'RepBradWenstrup', 'RepBrianBabin', 'RepBrianFitz',\n",
       "        'RepBrianHiggins', 'RepBrianMast', 'RepBrownley', 'RepBryanSteil',\n",
       "        'RepBuddyCarter', 'RepBurgessOwens', 'RepCarbajal', 'RepCardenas',\n",
       "        'RepCarlos', 'RepCarolMiller', 'RepCartwright', 'RepCasten',\n",
       "        'RepCawthorn', 'RepCheri', 'RepChipRoy', 'RepChrisPappas',\n",
       "        'RepChrisStewart', 'RepChuck', 'RepChuyGarcia', 'RepCicilline',\n",
       "        'RepCindyAxne', 'RepClayHiggins', 'RepCleaver', 'RepCloudTX',\n",
       "        'RepCohen', 'RepColinAllred', 'RepConorLamb', 'RepCori',\n",
       "        'RepCuellar', 'RepDLamborn', 'RepDLesko', 'RepDWStweets',\n",
       "        'RepDanBishop', 'RepDanCrenshaw', 'RepDanKildee', 'RepDannyDavis',\n",
       "        'RepDarrenSoto', 'RepDaveJoyce', 'RepDavid', 'RepDavidEPrice',\n",
       "        'RepDavidKustoff', 'RepDavidRouzer', 'RepDavidScott',\n",
       "        'RepDavidTrone', 'RepDavidValadao', 'RepDavids', 'RepDeSaulnier',\n",
       "        'RepDean', 'RepDeanPhillips', 'RepDebDingell', 'RepDeborahRoss',\n",
       "        'RepDelBene', 'RepDerekKilmer', 'RepDianaDeGette', 'RepDinaTitus',\n",
       "        'RepDonBacon', 'RepDonBeyer', 'RepDonaldPayne', 'RepDonaldsPress',\n",
       "        'RepDrewFerguson', 'RepDustyJohnson', 'RepDwightEvans', 'RepEBJ',\n",
       "        'RepEdCase', 'RepElaineLuria', 'RepEllzey', 'RepEscobar',\n",
       "        'RepEspaillat', 'RepFeenstra', 'RepFischbach', 'RepFitzgerald',\n",
       "        'RepFletcher', 'RepFrankLucas', 'RepFranklin', 'RepFredKeller',\n",
       "        'RepFredUpton', 'RepFrenchHill', 'RepGallagher', 'RepGaramendi',\n",
       "        'RepGarbarino', 'RepGarretGraves', 'RepGolden', 'RepGonzalez',\n",
       "        'RepGosar', 'RepGraceMeng', 'RepGregMurphy', 'RepGregPence',\n",
       "        'RepGregStanton', 'RepGregSteube', 'RepGregoryMeeks',\n",
       "        'RepGrothman', 'RepGusBilirakis', 'RepGuthrie', 'RepGwenMoore',\n",
       "        'RepHalRogers', 'RepHaleyStevens', 'RepHankJohnson',\n",
       "        'RepHarshbarger', 'RepHartzler', 'RepHerrell', 'RepHorsford',\n",
       "        'RepHoulahan', 'RepHuffman', 'RepHuizenga', 'RepJackBergman',\n",
       "        'RepJacobs', 'RepJahanaHayes', 'RepJamesComer', 'RepJasonCrow',\n",
       "        'RepJasonSmith', 'RepJayapal', 'RepJeffDuncan', 'RepJeffries',\n",
       "        'RepJenniffer', 'RepJerryCarl', 'RepJerryNadler', 'RepJimBaird',\n",
       "        'RepJimBanks', 'RepJimCooper', 'RepJimCosta', 'RepJimmyGomez',\n",
       "        'RepJimmyPanetta', 'RepJoeCourtney', 'RepJoeMorelle',\n",
       "        'RepJoeNeguse', 'RepJoeWilson', 'RepJohnCurtis', 'RepJohnJoyce',\n",
       "        'RepJohnKatko', 'RepJohnLarson', 'RepJohnRose', 'RepJohnYarmuth',\n",
       "        'RepJoshG', 'RepJoshHarder', 'RepJuanVargas', 'RepJudyChu',\n",
       "        'RepJuliaLetlow', 'RepKClark', 'RepKManning', 'RepKahele',\n",
       "        'RepKarenBass', 'RepKatCammack', 'RepKathleenRice',\n",
       "        'RepKatiePorter', 'RepKayGranger', 'RepKenBuck', 'RepKevinBrady',\n",
       "        'RepKimSchrier', 'RepKinzinger', 'RepKirkpatrick',\n",
       "        'RepKweisiMfume', 'RepLBR', 'RepLaHood', 'RepLaMalfa',\n",
       "        'RepLaTurner', 'RepLarryBucshon', 'RepLawrence', 'RepLeeZeldin',\n",
       "        'RepLindaSanchez', 'RepLisaMcClain', 'RepLizCheney',\n",
       "        'RepLloydDoggett', 'RepLoisFrankel', 'RepLoriTrahan',\n",
       "        'RepLouCorrea', 'RepLoudermilk', 'RepLouieGohmert', 'RepLowenthal',\n",
       "        'RepLucyMcBath', 'RepMGS', 'RepMGriffith', 'RepMMM', 'RepMTG',\n",
       "        'RepMalinowski', 'RepMalliotakis', 'RepMaloney', 'RepMann',\n",
       "        'RepMarcyKaptur', 'RepMariaSalazar', 'RepMarieNewman',\n",
       "        'RepMarkGreen', 'RepMarkPocan', 'RepMarkTakano', 'RepMaryMiller',\n",
       "        'RepMattGaetz', 'RepMaxineWaters', 'RepMcCaul', 'RepMcClintock',\n",
       "        'RepMcEachin', 'RepMcGovern', 'RepMcKinley', 'RepMcNerney',\n",
       "        'RepMeijer', 'RepMeuser', 'RepMichaelGuest', 'RepMikeCarey',\n",
       "        'RepMikeGarcia', 'RepMikeJohnson', 'RepMikeLevin',\n",
       "        'RepMikeQuigley', 'RepMikeRogersAL', 'RepMikeTurner',\n",
       "        'RepMoBrooks', 'RepMondaire', 'RepMoolenaar', 'RepMoulton',\n",
       "        'RepMrvan', 'RepMullin', 'RepNancyMace', 'RepNewhouse',\n",
       "        'RepNikema', 'RepOHalleran', 'RepPatFallon', 'RepPaulTonko',\n",
       "        'RepPerlmutter', 'RepPeteAguilar', 'RepPeteStauber',\n",
       "        'RepPeterDeFazio', 'RepPfluger', 'RepPressley', 'RepRWilliams',\n",
       "        'RepRalphNorman', 'RepRashida', 'RepRaskin', 'RepRaulGrijalva',\n",
       "        'RepRaulRuizMD', 'RepRichHudson', 'RepRichardNeal', 'RepRickAllen',\n",
       "        'RepRickCrawford', 'RepRickLarsen', 'RepRitchie', 'RepRoKhanna',\n",
       "        'RepRobinKelly', 'RepRonEstes', 'RepRonKind', 'RepRonnyJackson',\n",
       "        'RepRosendale', 'RepRoybalAllard', 'RepRubenGallego',\n",
       "        'RepRussFulcher', 'RepRutherfordFL', 'RepSamGraves',\n",
       "        'RepSaraJacobs', 'RepSarbanes', 'RepSchneider', 'RepSchrader',\n",
       "        'RepScottPerry', 'RepScottPeters', 'RepSeanMaloney', 'RepSherrill',\n",
       "        'RepShontelBrown', 'RepSires', 'RepSlotkin', 'RepSmucker',\n",
       "        'RepSpanberger', 'RepSpartz', 'RepSpeier', 'RepSteel',\n",
       "        'RepStefanik', 'RepStephMurphy', 'RepStephenLynch',\n",
       "        'RepSteveChabot', 'RepStricklandWA', 'RepSusanWild', 'RepSusieLee',\n",
       "        'RepSwalwell', 'RepSylviaGarcia', 'RepTedBudd', 'RepTedLieu',\n",
       "        'RepTenney', 'RepTeresaLF', 'RepTerriSewell', 'RepThomasMassie',\n",
       "        'RepThompson', 'RepTiffany', 'RepTimBurchett', 'RepTimRyan',\n",
       "        'RepTimmons', 'RepTomEmmer', 'RepTomRice', 'RepTomSuozzi',\n",
       "        'RepTonyGonzales', 'RepTrentKelly', 'RepTrey', 'RepTroyCarter',\n",
       "        'RepTroyNehls', 'RepUnderwood', 'RepValDemings', 'RepVanTaylor',\n",
       "        'RepVeasey', 'RepWalberg', 'RepWaltzPress', 'RepWebster',\n",
       "        'RepWesterman', 'RepWexton', 'RepWilson', 'RepYoungKim',\n",
       "        'RepYvetteClarke', 'RepZoeLofgren', 'Rep_Clyde', 'Rep_Stansbury',\n",
       "        'Rep_SteveWomack', 'RobWittman', 'Robert_Aderholt', 'RodneyDavis',\n",
       "        'RonWyden', 'RosaDeLauro', 'RoyBlunt', 'SanfordBishop',\n",
       "        'SenAlexPadilla', 'SenAmyKlobuchar', 'SenAngusKing',\n",
       "        'SenBillCassidy', 'SenBlumenthal', 'SenBobCasey', 'SenBooker',\n",
       "        'SenBrianSchatz', 'SenCapito', 'SenCortezMasto', 'SenDanSullivan',\n",
       "        'SenDuckworth', 'SenFeinstein', 'SenGaryPeters', 'SenHawleyPress',\n",
       "        'SenHydeSmith', 'SenJackReed', 'SenJackyRosen', 'SenJeffMerkley',\n",
       "        'SenJohnBarrasso', 'SenJohnHoeven', 'SenJohnKennedy',\n",
       "        'SenJohnThune', 'SenJoniErnst', 'SenKevinCramer', 'SenLummis',\n",
       "        'SenMarkKelly', 'SenMarkey', 'SenMikeLee', 'SenMurphyOffice',\n",
       "        'SenOssoff', 'SenRandPaul', 'SenRickScott', 'SenRobPortman',\n",
       "        'SenRonJohnson', 'SenRubioPress', 'SenSanders', 'SenSasse',\n",
       "        'SenSchumer', 'SenShelby', 'SenSherrodBrown', 'SenStabenow',\n",
       "        'SenTedCruz', 'SenThomTillis', 'SenTinaSmith', 'SenToddYoung',\n",
       "        'SenTomCotton', 'SenToomey', 'SenTuberville', 'SenWarren',\n",
       "        'SenWhitehouse', 'Sen_JoeManchin', 'SenatorBaldwin',\n",
       "        'SenatorBennet', 'SenatorBraun', 'SenatorBurr', 'SenatorCantwell',\n",
       "        'SenatorCardin', 'SenatorCarper', 'SenatorCollins',\n",
       "        'SenatorDurbin', 'SenatorFischer', 'SenatorHagerty',\n",
       "        'SenatorHassan', 'SenatorHick', 'SenatorLankford', 'SenatorLeahy',\n",
       "        'SenatorLujan', 'SenatorMarshall', 'SenatorMenendez',\n",
       "        'SenatorRisch', 'SenatorRomney', 'SenatorRounds', 'SenatorShaheen',\n",
       "        'SenatorSinema', 'SenatorTester', 'SenatorTimScott',\n",
       "        'SenatorWarnock', 'SenatorWicker', 'SpeakerPelosi',\n",
       "        'StaceyPlaskett', 'SteveDaines', 'SteveScalise', 'TXRandy14',\n",
       "        'TomColeOK04', 'USRepGaryPalmer', 'USRepKCastor', 'USRepKeating',\n",
       "        'USRepLong', 'USRepMikeDoyle', 'VernBuchanan', 'VirginiaFoxx',\n",
       "        'WarrenDavidson', 'WhipClyburn', 'nan', 'repdarrellissa',\n",
       "        'repkevinhern'], dtype=object),\n",
       " array([ 1,  1,  1,  1,  1,  1,  1,  1,  1,  1,  1,  1,  1,  1,  1,  1,  1,\n",
       "         1,  1,  1,  1,  1,  1,  1,  1,  1,  1,  1,  1,  1,  1,  1,  1,  1,\n",
       "         1,  1,  1,  1,  1,  1,  1,  1,  1,  1,  1,  1,  1,  1,  1,  1,  1,\n",
       "         1,  1,  1,  1,  1,  1,  1,  1,  1,  1,  1,  1,  1,  1,  1,  1,  1,\n",
       "         1,  1,  1,  1,  1,  1,  1,  1,  1,  1,  1,  1,  1,  1,  1,  1,  1,\n",
       "         1,  1,  1,  1,  1,  1,  1,  1,  1,  1,  1,  1,  1,  1,  1,  1,  1,\n",
       "         1,  1,  1,  1,  1,  1,  1,  1,  1,  1,  1,  1,  1,  1,  1,  1,  1,\n",
       "         1,  1,  1,  1,  1,  1,  1,  1,  1,  1,  1,  1,  1,  1,  1,  1,  1,\n",
       "         1,  1,  1,  1,  1,  1,  1,  1,  1,  1,  1,  1,  1,  1,  1,  1,  1,\n",
       "         1,  1,  1,  1,  1,  1,  1,  1,  1,  1,  1,  1,  1,  1,  1,  1,  1,\n",
       "         1,  1,  1,  1,  1,  1,  1,  1,  1,  1,  1,  1,  1,  1,  1,  1,  1,\n",
       "         1,  1,  1,  1,  1,  1,  1,  1,  1,  1,  1,  1,  1,  1,  1,  1,  1,\n",
       "         1,  1,  1,  1,  1,  1,  1,  1,  1,  1,  1,  1,  1,  1,  1,  1,  1,\n",
       "         1,  1,  1,  1,  1,  1,  1,  1,  1,  1,  1,  1,  1,  1,  1,  1,  1,\n",
       "         1,  1,  1,  1,  1,  1,  1,  1,  1,  1,  1,  1,  1,  1,  1,  1,  1,\n",
       "         1,  1,  1,  1,  1,  1,  1,  1,  1,  1,  1,  1,  1,  1,  1,  1,  1,\n",
       "         1,  1,  1,  1,  1,  1,  1,  1,  1,  1,  1,  1,  1,  1,  1,  1,  1,\n",
       "         1,  1,  1,  1,  1,  1,  1,  1,  1,  1,  1,  1,  1,  1,  1,  1,  1,\n",
       "         1,  1,  1,  1,  1,  1,  1,  1,  1,  1,  1,  1,  1,  1,  1,  1,  1,\n",
       "         1,  1,  1,  1,  1,  1,  1,  1,  1,  1,  1,  1,  1,  1,  1,  1,  1,\n",
       "         1,  1,  1,  1,  1,  1,  1,  1,  1,  1,  1,  1,  1,  1,  1,  1,  1,\n",
       "         1,  1,  1,  1,  1,  1,  1,  1,  1,  1,  1,  1,  1,  1,  1,  1,  1,\n",
       "         1,  1,  1,  1,  1,  1,  1,  1,  1,  1,  1,  1,  1,  1,  1,  1,  1,\n",
       "         1,  1,  1,  1,  1,  1,  1,  1,  1,  1,  1,  1,  1,  1,  1,  1,  1,\n",
       "         1,  1,  1,  1,  1,  1,  1,  1,  1,  1,  1,  1,  1,  1,  1,  1,  1,\n",
       "         1,  1,  1,  1,  1,  1,  1,  1,  1,  1,  1,  1,  1,  1,  1,  1,  1,\n",
       "         1,  1,  1,  1,  1,  1,  1,  1,  1,  1,  1,  1,  1,  1,  1,  1,  1,\n",
       "         1,  1,  1,  1,  1,  1,  1,  1,  1,  1,  1,  1,  1,  1,  1,  1,  1,\n",
       "         1,  1,  1,  1,  1,  1,  1,  1,  1,  1,  1,  1,  1,  1,  1,  1,  1,\n",
       "         1,  1,  1,  1,  1,  1,  1,  1,  1,  1,  1,  1,  1,  1,  1,  1,  1,\n",
       "         1,  1,  1,  1,  1,  1,  1,  1,  1,  1,  1,  1,  1,  1,  1, 11,  1,\n",
       "         1]))"
      ]
     },
     "execution_count": 17,
     "metadata": {},
     "output_type": "execute_result"
    }
   ],
   "source": [
    "np.unique(df['twitter'], return_counts = True)"
   ]
  },
  {
   "cell_type": "code",
   "execution_count": 16,
   "id": "4932a20f",
   "metadata": {},
   "outputs": [],
   "source": [
    "df['twitter'] = df['twitter'].astype(str)"
   ]
  },
  {
   "cell_type": "code",
   "execution_count": 18,
   "id": "ed758ffb",
   "metadata": {},
   "outputs": [],
   "source": [
    "df = df[['last_name', 'first_name', 'opensecrets_id', 'twitter']].astype(str)"
   ]
  },
  {
   "cell_type": "code",
   "execution_count": 19,
   "id": "2e83dbc8",
   "metadata": {},
   "outputs": [
    {
     "data": {
      "text/plain": [
       "0      False\n",
       "1      False\n",
       "2      False\n",
       "3      False\n",
       "4      False\n",
       "       ...  \n",
       "533     True\n",
       "534     True\n",
       "535     True\n",
       "536     True\n",
       "537     True\n",
       "Name: twitter, Length: 538, dtype: bool"
      ]
     },
     "execution_count": 19,
     "metadata": {},
     "output_type": "execute_result"
    }
   ],
   "source": [
    "df['twitter'] == 'nan'"
   ]
  },
  {
   "cell_type": "code",
   "execution_count": 20,
   "id": "4f714215",
   "metadata": {},
   "outputs": [],
   "source": [
    "df['test'] = 4"
   ]
  },
  {
   "cell_type": "code",
   "execution_count": 33,
   "id": "eff1eb54",
   "metadata": {},
   "outputs": [],
   "source": [
    "df[['test1', 'test2']] = 4"
   ]
  },
  {
   "cell_type": "code",
   "execution_count": 37,
   "id": "32ef52f1",
   "metadata": {},
   "outputs": [
    {
     "ename": "KeyError",
     "evalue": "\"None of [Index(['test1', 'test2'], dtype='object')] are in the [columns]\"",
     "output_type": "error",
     "traceback": [
      "\u001b[0;31m---------------------------------------------------------------------------\u001b[0m",
      "\u001b[0;31mKeyError\u001b[0m                                  Traceback (most recent call last)",
      "Input \u001b[0;32mIn [37]\u001b[0m, in \u001b[0;36m<cell line: 1>\u001b[0;34m()\u001b[0m\n\u001b[0;32m----> 1\u001b[0m test \u001b[38;5;241m=\u001b[39m \u001b[43mdf\u001b[49m\u001b[43m[\u001b[49m\u001b[43m[\u001b[49m\u001b[38;5;124;43m'\u001b[39;49m\u001b[38;5;124;43mtest1\u001b[39;49m\u001b[38;5;124;43m'\u001b[39;49m\u001b[43m,\u001b[49m\u001b[43m \u001b[49m\u001b[38;5;124;43m'\u001b[39;49m\u001b[38;5;124;43mtest2\u001b[39;49m\u001b[38;5;124;43m'\u001b[39;49m\u001b[43m]\u001b[49m\u001b[43m]\u001b[49m\n\u001b[1;32m      2\u001b[0m row \u001b[38;5;241m=\u001b[39m [\u001b[38;5;241m2\u001b[39m,\u001b[38;5;241m3\u001b[39m]\n\u001b[1;32m      3\u001b[0m test\u001b[38;5;241m.\u001b[39mappend(row)\n",
      "File \u001b[0;32m~/opt/anaconda3/lib/python3.9/site-packages/pandas/core/frame.py:3511\u001b[0m, in \u001b[0;36mDataFrame.__getitem__\u001b[0;34m(self, key)\u001b[0m\n\u001b[1;32m   3509\u001b[0m     \u001b[38;5;28;01mif\u001b[39;00m is_iterator(key):\n\u001b[1;32m   3510\u001b[0m         key \u001b[38;5;241m=\u001b[39m \u001b[38;5;28mlist\u001b[39m(key)\n\u001b[0;32m-> 3511\u001b[0m     indexer \u001b[38;5;241m=\u001b[39m \u001b[38;5;28;43mself\u001b[39;49m\u001b[38;5;241;43m.\u001b[39;49m\u001b[43mcolumns\u001b[49m\u001b[38;5;241;43m.\u001b[39;49m\u001b[43m_get_indexer_strict\u001b[49m\u001b[43m(\u001b[49m\u001b[43mkey\u001b[49m\u001b[43m,\u001b[49m\u001b[43m \u001b[49m\u001b[38;5;124;43m\"\u001b[39;49m\u001b[38;5;124;43mcolumns\u001b[39;49m\u001b[38;5;124;43m\"\u001b[39;49m\u001b[43m)\u001b[49m[\u001b[38;5;241m1\u001b[39m]\n\u001b[1;32m   3513\u001b[0m \u001b[38;5;66;03m# take() does not accept boolean indexers\u001b[39;00m\n\u001b[1;32m   3514\u001b[0m \u001b[38;5;28;01mif\u001b[39;00m \u001b[38;5;28mgetattr\u001b[39m(indexer, \u001b[38;5;124m\"\u001b[39m\u001b[38;5;124mdtype\u001b[39m\u001b[38;5;124m\"\u001b[39m, \u001b[38;5;28;01mNone\u001b[39;00m) \u001b[38;5;241m==\u001b[39m \u001b[38;5;28mbool\u001b[39m:\n",
      "File \u001b[0;32m~/opt/anaconda3/lib/python3.9/site-packages/pandas/core/indexes/base.py:5782\u001b[0m, in \u001b[0;36mIndex._get_indexer_strict\u001b[0;34m(self, key, axis_name)\u001b[0m\n\u001b[1;32m   5779\u001b[0m \u001b[38;5;28;01melse\u001b[39;00m:\n\u001b[1;32m   5780\u001b[0m     keyarr, indexer, new_indexer \u001b[38;5;241m=\u001b[39m \u001b[38;5;28mself\u001b[39m\u001b[38;5;241m.\u001b[39m_reindex_non_unique(keyarr)\n\u001b[0;32m-> 5782\u001b[0m \u001b[38;5;28;43mself\u001b[39;49m\u001b[38;5;241;43m.\u001b[39;49m\u001b[43m_raise_if_missing\u001b[49m\u001b[43m(\u001b[49m\u001b[43mkeyarr\u001b[49m\u001b[43m,\u001b[49m\u001b[43m \u001b[49m\u001b[43mindexer\u001b[49m\u001b[43m,\u001b[49m\u001b[43m \u001b[49m\u001b[43maxis_name\u001b[49m\u001b[43m)\u001b[49m\n\u001b[1;32m   5784\u001b[0m keyarr \u001b[38;5;241m=\u001b[39m \u001b[38;5;28mself\u001b[39m\u001b[38;5;241m.\u001b[39mtake(indexer)\n\u001b[1;32m   5785\u001b[0m \u001b[38;5;28;01mif\u001b[39;00m \u001b[38;5;28misinstance\u001b[39m(key, Index):\n\u001b[1;32m   5786\u001b[0m     \u001b[38;5;66;03m# GH 42790 - Preserve name from an Index\u001b[39;00m\n",
      "File \u001b[0;32m~/opt/anaconda3/lib/python3.9/site-packages/pandas/core/indexes/base.py:5842\u001b[0m, in \u001b[0;36mIndex._raise_if_missing\u001b[0;34m(self, key, indexer, axis_name)\u001b[0m\n\u001b[1;32m   5840\u001b[0m     \u001b[38;5;28;01mif\u001b[39;00m use_interval_msg:\n\u001b[1;32m   5841\u001b[0m         key \u001b[38;5;241m=\u001b[39m \u001b[38;5;28mlist\u001b[39m(key)\n\u001b[0;32m-> 5842\u001b[0m     \u001b[38;5;28;01mraise\u001b[39;00m \u001b[38;5;167;01mKeyError\u001b[39;00m(\u001b[38;5;124mf\u001b[39m\u001b[38;5;124m\"\u001b[39m\u001b[38;5;124mNone of [\u001b[39m\u001b[38;5;132;01m{\u001b[39;00mkey\u001b[38;5;132;01m}\u001b[39;00m\u001b[38;5;124m] are in the [\u001b[39m\u001b[38;5;132;01m{\u001b[39;00maxis_name\u001b[38;5;132;01m}\u001b[39;00m\u001b[38;5;124m]\u001b[39m\u001b[38;5;124m\"\u001b[39m)\n\u001b[1;32m   5844\u001b[0m not_found \u001b[38;5;241m=\u001b[39m \u001b[38;5;28mlist\u001b[39m(ensure_index(key)[missing_mask\u001b[38;5;241m.\u001b[39mnonzero()[\u001b[38;5;241m0\u001b[39m]]\u001b[38;5;241m.\u001b[39munique())\n\u001b[1;32m   5845\u001b[0m \u001b[38;5;28;01mraise\u001b[39;00m \u001b[38;5;167;01mKeyError\u001b[39;00m(\u001b[38;5;124mf\u001b[39m\u001b[38;5;124m\"\u001b[39m\u001b[38;5;132;01m{\u001b[39;00mnot_found\u001b[38;5;132;01m}\u001b[39;00m\u001b[38;5;124m not in index\u001b[39m\u001b[38;5;124m\"\u001b[39m)\n",
      "\u001b[0;31mKeyError\u001b[0m: \"None of [Index(['test1', 'test2'], dtype='object')] are in the [columns]\""
     ]
    }
   ],
   "source": [
    "test = df[['test1', 'test2']]\n",
    "row = [2,3]\n",
    "test.append(row)"
   ]
  },
  {
   "cell_type": "code",
   "execution_count": 35,
   "id": "7a4e1fc9",
   "metadata": {},
   "outputs": [
    {
     "data": {
      "text/html": [
       "<div>\n",
       "<style scoped>\n",
       "    .dataframe tbody tr th:only-of-type {\n",
       "        vertical-align: middle;\n",
       "    }\n",
       "\n",
       "    .dataframe tbody tr th {\n",
       "        vertical-align: top;\n",
       "    }\n",
       "\n",
       "    .dataframe thead th {\n",
       "        text-align: right;\n",
       "    }\n",
       "</style>\n",
       "<table border=\"1\" class=\"dataframe\">\n",
       "  <thead>\n",
       "    <tr style=\"text-align: right;\">\n",
       "      <th></th>\n",
       "      <th>test1</th>\n",
       "      <th>test2</th>\n",
       "    </tr>\n",
       "  </thead>\n",
       "  <tbody>\n",
       "    <tr>\n",
       "      <th>0</th>\n",
       "      <td>4</td>\n",
       "      <td>4</td>\n",
       "    </tr>\n",
       "    <tr>\n",
       "      <th>1</th>\n",
       "      <td>4</td>\n",
       "      <td>4</td>\n",
       "    </tr>\n",
       "    <tr>\n",
       "      <th>2</th>\n",
       "      <td>4</td>\n",
       "      <td>4</td>\n",
       "    </tr>\n",
       "    <tr>\n",
       "      <th>3</th>\n",
       "      <td>4</td>\n",
       "      <td>4</td>\n",
       "    </tr>\n",
       "    <tr>\n",
       "      <th>4</th>\n",
       "      <td>4</td>\n",
       "      <td>4</td>\n",
       "    </tr>\n",
       "    <tr>\n",
       "      <th>...</th>\n",
       "      <td>...</td>\n",
       "      <td>...</td>\n",
       "    </tr>\n",
       "    <tr>\n",
       "      <th>533</th>\n",
       "      <td>4</td>\n",
       "      <td>4</td>\n",
       "    </tr>\n",
       "    <tr>\n",
       "      <th>534</th>\n",
       "      <td>4</td>\n",
       "      <td>4</td>\n",
       "    </tr>\n",
       "    <tr>\n",
       "      <th>535</th>\n",
       "      <td>4</td>\n",
       "      <td>4</td>\n",
       "    </tr>\n",
       "    <tr>\n",
       "      <th>536</th>\n",
       "      <td>4</td>\n",
       "      <td>4</td>\n",
       "    </tr>\n",
       "    <tr>\n",
       "      <th>537</th>\n",
       "      <td>4</td>\n",
       "      <td>4</td>\n",
       "    </tr>\n",
       "  </tbody>\n",
       "</table>\n",
       "<p>538 rows × 2 columns</p>\n",
       "</div>"
      ],
      "text/plain": [
       "     test1  test2\n",
       "0        4      4\n",
       "1        4      4\n",
       "2        4      4\n",
       "3        4      4\n",
       "4        4      4\n",
       "..     ...    ...\n",
       "533      4      4\n",
       "534      4      4\n",
       "535      4      4\n",
       "536      4      4\n",
       "537      4      4\n",
       "\n",
       "[538 rows x 2 columns]"
      ]
     },
     "execution_count": 35,
     "metadata": {},
     "output_type": "execute_result"
    }
   ],
   "source": [
    "test"
   ]
  },
  {
   "cell_type": "code",
   "execution_count": null,
   "id": "36022e69",
   "metadata": {},
   "outputs": [],
   "source": []
  }
 ],
 "metadata": {
  "kernelspec": {
   "display_name": "Python 3 (ipykernel)",
   "language": "python",
   "name": "python3"
  },
  "language_info": {
   "codemirror_mode": {
    "name": "ipython",
    "version": 3
   },
   "file_extension": ".py",
   "mimetype": "text/x-python",
   "name": "python",
   "nbconvert_exporter": "python",
   "pygments_lexer": "ipython3",
   "version": "3.9.12"
  }
 },
 "nbformat": 4,
 "nbformat_minor": 5
}
