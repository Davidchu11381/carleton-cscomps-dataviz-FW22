{
 "cells": [
  {
   "cell_type": "code",
   "execution_count": 9,
   "id": "7ea74b41",
   "metadata": {},
   "outputs": [],
   "source": [
    "import tweepy\n",
    "import pandas as pd"
   ]
  },
  {
   "cell_type": "code",
   "execution_count": 16,
   "id": "a4f7fd3a",
   "metadata": {},
   "outputs": [],
   "source": [
    "consumer_key = \"YauX4ahOHAxcsDgcX4zrtkWid\"  #same as api key\n",
    "consumer_secret = \"PNezX7Ne2xEAnkomoNBuPw7NWvgQt1w5OvtxTTzgRZZNgSsGRA\"  #same as api secret\n",
    "access_key = \"1572984312554786818-eoA2bVWAu0g9FHzhLprwAiOUOwSw5H\"\n",
    "access_secret = \"ieTStsQ3LsfFomPAMTEgLjnWU90fODIS543LDvnihfaSn\""
   ]
  },
  {
   "cell_type": "code",
   "execution_count": 17,
   "id": "2b69df1a",
   "metadata": {},
   "outputs": [],
   "source": [
    "# Twitter authentication\n",
    "auth = tweepy.OAuthHandler(consumer_key, consumer_secret)   \n",
    "auth.set_access_token(access_key, access_secret) \n",
    "  \n",
    "# Creating an API object \n",
    "api = tweepy.API(auth)"
   ]
  },
  {
   "cell_type": "code",
   "execution_count": 18,
   "id": "81204942",
   "metadata": {},
   "outputs": [],
   "source": [
    "id = \"tedcruz\"\n",
    "new_tweets = tweepy.Cursor(api.user_timeline, \n",
    "                           screen_name=id, \n",
    "                           tweet_mode='extended',\n",
    "                           include_rts=False).items()\n",
    "list = []\n",
    "for tweet in new_tweets:\n",
    "    text = tweet._json[\"full_text\"]\n",
    "\n",
    "    refined_tweet = {'text' : text,\n",
    "                    'favorite_count' : tweet.favorite_count,\n",
    "                    'retweet_count' : tweet.retweet_count,\n",
    "                    'created_at' : tweet.created_at}\n",
    "    \n",
    "    list.append(refined_tweet)\n",
    "\n",
    "df = pd.DataFrame(list)"
   ]
  },
  {
   "cell_type": "code",
   "execution_count": 7,
   "id": "14c58baa",
   "metadata": {},
   "outputs": [
    {
     "name": "stdout",
     "output_type": "stream",
     "text": [
      "/Users/davidchu/Desktop/Carleton/Courses/Senior/Fall/CS Comps/carleton-cscomps-dataviz-FW22/Tweets/Code\n"
     ]
    }
   ],
   "source": [
    "import os\n",
    "print(os.getcwd())\n",
    "os.chdir('/Users/davidchu/Desktop/Carleton/Courses/Senior/Fall/CS Comps/carleton-cscomps-dataviz-FW22/Tweets')\n",
    "df.to_csv('./data/'+id + '_tweets.csv')"
   ]
  },
  {
   "cell_type": "code",
   "execution_count": 8,
   "id": "87f9f227",
   "metadata": {},
   "outputs": [
    {
     "data": {
      "text/html": [
       "<div>\n",
       "<style scoped>\n",
       "    .dataframe tbody tr th:only-of-type {\n",
       "        vertical-align: middle;\n",
       "    }\n",
       "\n",
       "    .dataframe tbody tr th {\n",
       "        vertical-align: top;\n",
       "    }\n",
       "\n",
       "    .dataframe thead th {\n",
       "        text-align: right;\n",
       "    }\n",
       "</style>\n",
       "<table border=\"1\" class=\"dataframe\">\n",
       "  <thead>\n",
       "    <tr style=\"text-align: right;\">\n",
       "      <th></th>\n",
       "      <th>text</th>\n",
       "      <th>favorite_count</th>\n",
       "      <th>retweet_count</th>\n",
       "      <th>created_at</th>\n",
       "    </tr>\n",
       "  </thead>\n",
       "  <tbody>\n",
       "    <tr>\n",
       "      <th>0</th>\n",
       "      <td>We need CLEAN HOUSE at the FBI and DOJ and rem...</td>\n",
       "      <td>38</td>\n",
       "      <td>10</td>\n",
       "      <td>2022-11-13 21:12:57+00:00</td>\n",
       "    </tr>\n",
       "    <tr>\n",
       "      <th>1</th>\n",
       "      <td>Fact check: true. https://t.co/pDv4Wm7wcQ</td>\n",
       "      <td>6959</td>\n",
       "      <td>1064</td>\n",
       "      <td>2022-11-13 03:48:45+00:00</td>\n",
       "    </tr>\n",
       "    <tr>\n",
       "      <th>2</th>\n",
       "      <td>The DOJ views itself as the enforcement arm fo...</td>\n",
       "      <td>4212</td>\n",
       "      <td>826</td>\n",
       "      <td>2022-11-12 23:59:00+00:00</td>\n",
       "    </tr>\n",
       "    <tr>\n",
       "      <th>3</th>\n",
       "      <td>Raphael Warnock votes in favor of George Soros...</td>\n",
       "      <td>2443</td>\n",
       "      <td>618</td>\n",
       "      <td>2022-11-12 22:52:00+00:00</td>\n",
       "    </tr>\n",
       "    <tr>\n",
       "      <th>4</th>\n",
       "      <td>Heidi and I are praying for those involved in ...</td>\n",
       "      <td>3619</td>\n",
       "      <td>298</td>\n",
       "      <td>2022-11-12 21:06:45+00:00</td>\n",
       "    </tr>\n",
       "    <tr>\n",
       "      <th>...</th>\n",
       "      <td>...</td>\n",
       "      <td>...</td>\n",
       "      <td>...</td>\n",
       "      <td>...</td>\n",
       "    </tr>\n",
       "    <tr>\n",
       "      <th>2108</th>\n",
       "      <td>This will be great…in 2042. https://t.co/BzVld...</td>\n",
       "      <td>736</td>\n",
       "      <td>56</td>\n",
       "      <td>2022-05-10 16:57:23+00:00</td>\n",
       "    </tr>\n",
       "    <tr>\n",
       "      <th>2109</th>\n",
       "      <td>Yet another Soros DA refusing to prosecute vio...</td>\n",
       "      <td>1951</td>\n",
       "      <td>297</td>\n",
       "      <td>2022-05-10 16:54:06+00:00</td>\n",
       "    </tr>\n",
       "    <tr>\n",
       "      <th>2110</th>\n",
       "      <td>👇 https://t.co/0O2xGtenf6</td>\n",
       "      <td>2613</td>\n",
       "      <td>358</td>\n",
       "      <td>2022-05-10 16:29:59+00:00</td>\n",
       "    </tr>\n",
       "    <tr>\n",
       "      <th>2111</th>\n",
       "      <td>Biden plan: https://t.co/RlM2WEW0MJ https://t....</td>\n",
       "      <td>771</td>\n",
       "      <td>114</td>\n",
       "      <td>2022-05-10 14:34:45+00:00</td>\n",
       "    </tr>\n",
       "    <tr>\n",
       "      <th>2112</th>\n",
       "      <td>👇 https://t.co/TnDRDK8POd</td>\n",
       "      <td>2919</td>\n",
       "      <td>213</td>\n",
       "      <td>2022-05-10 14:31:14+00:00</td>\n",
       "    </tr>\n",
       "  </tbody>\n",
       "</table>\n",
       "<p>2113 rows × 4 columns</p>\n",
       "</div>"
      ],
      "text/plain": [
       "                                                   text  favorite_count  \\\n",
       "0     We need CLEAN HOUSE at the FBI and DOJ and rem...              38   \n",
       "1             Fact check: true. https://t.co/pDv4Wm7wcQ            6959   \n",
       "2     The DOJ views itself as the enforcement arm fo...            4212   \n",
       "3     Raphael Warnock votes in favor of George Soros...            2443   \n",
       "4     Heidi and I are praying for those involved in ...            3619   \n",
       "...                                                 ...             ...   \n",
       "2108  This will be great…in 2042. https://t.co/BzVld...             736   \n",
       "2109  Yet another Soros DA refusing to prosecute vio...            1951   \n",
       "2110                          👇 https://t.co/0O2xGtenf6            2613   \n",
       "2111  Biden plan: https://t.co/RlM2WEW0MJ https://t....             771   \n",
       "2112                          👇 https://t.co/TnDRDK8POd            2919   \n",
       "\n",
       "      retweet_count                created_at  \n",
       "0                10 2022-11-13 21:12:57+00:00  \n",
       "1              1064 2022-11-13 03:48:45+00:00  \n",
       "2               826 2022-11-12 23:59:00+00:00  \n",
       "3               618 2022-11-12 22:52:00+00:00  \n",
       "4               298 2022-11-12 21:06:45+00:00  \n",
       "...             ...                       ...  \n",
       "2108             56 2022-05-10 16:57:23+00:00  \n",
       "2109            297 2022-05-10 16:54:06+00:00  \n",
       "2110            358 2022-05-10 16:29:59+00:00  \n",
       "2111            114 2022-05-10 14:34:45+00:00  \n",
       "2112            213 2022-05-10 14:31:14+00:00  \n",
       "\n",
       "[2113 rows x 4 columns]"
      ]
     },
     "execution_count": 8,
     "metadata": {},
     "output_type": "execute_result"
    }
   ],
   "source": [
    "df"
   ]
  },
  {
   "cell_type": "code",
   "execution_count": 20,
   "id": "2605362e",
   "metadata": {},
   "outputs": [
    {
     "name": "stdout",
     "output_type": "stream",
     "text": [
      "0\n",
      "1\n",
      "2\n",
      "3\n",
      "4\n",
      "5\n",
      "6\n",
      "7\n",
      "8\n",
      "9\n",
      "10\n",
      "11\n",
      "12\n",
      "13\n",
      "14\n",
      "15\n",
      "16\n",
      "17\n",
      "18\n",
      "19\n",
      "20\n",
      "21\n",
      "22\n",
      "23\n",
      "24\n",
      "25\n",
      "26\n",
      "27\n",
      "28\n",
      "29\n"
     ]
    }
   ],
   "source": [
    "import time\n",
    "k = 0\n",
    "while(k < 30/5):\n",
    "    for i in range(5*k, 5*(k+1)):\n",
    "        print(i)\n",
    "    k += 1\n",
    "    time.sleep(5)\n"
   ]
  },
  {
   "cell_type": "code",
   "execution_count": null,
   "id": "b0d1cb83",
   "metadata": {},
   "outputs": [],
   "source": []
  }
 ],
 "metadata": {
  "kernelspec": {
   "display_name": "Python 3 (ipykernel)",
   "language": "python",
   "name": "python3"
  },
  "language_info": {
   "codemirror_mode": {
    "name": "ipython",
    "version": 3
   },
   "file_extension": ".py",
   "mimetype": "text/x-python",
   "name": "python",
   "nbconvert_exporter": "python",
   "pygments_lexer": "ipython3",
   "version": "3.9.12"
  }
 },
 "nbformat": 4,
 "nbformat_minor": 5
}
