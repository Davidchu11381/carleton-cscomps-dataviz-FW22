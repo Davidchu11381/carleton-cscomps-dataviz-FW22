{
 "cells": [
  {
   "cell_type": "code",
   "execution_count": 1,
   "id": "7ea74b41",
   "metadata": {},
   "outputs": [],
   "source": [
    "import tweepy\n",
    "import pandas as pd"
   ]
  },
  {
   "cell_type": "code",
   "execution_count": 2,
   "id": "a4f7fd3a",
   "metadata": {},
   "outputs": [],
   "source": [
    "consumer_key = \"YauX4ahOHAxcsDgcX4zrtkWid\"  #same as api key\n",
    "consumer_secret = \"PNezX7Ne2xEAnkomoNBuPw7NWvgQt1w5OvtxTTzgRZZNgSsGRA\"  #same as api secret\n",
    "access_key = \"1572984312554786818-eoA2bVWAu0g9FHzhLprwAiOUOwSw5H\"\n",
    "access_secret = \"ieTStsQ3LsfFomPAMTEgLjnWU90fODIS543LDvnihfaSn\""
   ]
  },
  {
   "cell_type": "code",
   "execution_count": 3,
   "id": "2b69df1a",
   "metadata": {},
   "outputs": [],
   "source": [
    "# Twitter authentication\n",
    "auth = tweepy.OAuthHandler(consumer_key, consumer_secret)   \n",
    "auth.set_access_token(access_key, access_secret) \n",
    "  \n",
    "# Creating an API object \n",
    "api = tweepy.API(auth)"
   ]
  },
  {
   "cell_type": "code",
   "execution_count": 15,
   "id": "81204942",
   "metadata": {},
   "outputs": [],
   "source": [
    "query = 'Amazon OR AMZN OR \"Amazon Company\" -is:retweet lang:en'\n",
    "start_time = '202211170000'\n",
    "end_time = '202211180000'"
   ]
  },
  {
   "cell_type": "code",
   "execution_count": 21,
   "id": "a42e1b72",
   "metadata": {},
   "outputs": [
    {
     "ename": "TooManyRequests",
     "evalue": "429 Too Many Requests\nRequest exceeds account’s current package request limits. Please upgrade your package and retry or contact Twitter about enterprise access.",
     "output_type": "error",
     "traceback": [
      "\u001b[0;31m---------------------------------------------------------------------------\u001b[0m",
      "\u001b[0;31mTooManyRequests\u001b[0m                           Traceback (most recent call last)",
      "Input \u001b[0;32mIn [21]\u001b[0m, in \u001b[0;36m<cell line: 1>\u001b[0;34m()\u001b[0m\n\u001b[0;32m----> 1\u001b[0m tweets_3_months \u001b[38;5;241m=\u001b[39m \u001b[43mapi\u001b[49m\u001b[38;5;241;43m.\u001b[39;49m\u001b[43msearch_full_archive\u001b[49m\u001b[43m(\u001b[49m\u001b[43mlabel\u001b[49m\u001b[38;5;241;43m=\u001b[39;49m\u001b[38;5;124;43m'\u001b[39;49m\u001b[38;5;124;43mdevelopment\u001b[39;49m\u001b[38;5;124;43m'\u001b[39;49m\u001b[43m,\u001b[49m\u001b[43m \u001b[49m\n\u001b[1;32m      2\u001b[0m \u001b[43m                           \u001b[49m\u001b[43mquery\u001b[49m\u001b[38;5;241;43m=\u001b[39;49m\u001b[43mquery\u001b[49m\u001b[43m,\u001b[49m\n\u001b[1;32m      3\u001b[0m \u001b[43m                           \u001b[49m\u001b[43mfromDate\u001b[49m\u001b[38;5;241;43m=\u001b[39;49m\u001b[43mstart_time\u001b[49m\u001b[43m,\u001b[49m\u001b[43m \u001b[49m\n\u001b[1;32m      4\u001b[0m \u001b[43m                           \u001b[49m\u001b[43mtoDate\u001b[49m\u001b[43m \u001b[49m\u001b[38;5;241;43m=\u001b[39;49m\u001b[43m \u001b[49m\u001b[43mend_time\u001b[49m\u001b[43m,\u001b[49m\n\u001b[1;32m      5\u001b[0m \u001b[43m                           \u001b[49m\u001b[43mmaxResults\u001b[49m\u001b[43m \u001b[49m\u001b[38;5;241;43m=\u001b[39;49m\u001b[43m \u001b[49m\u001b[38;5;241;43m100\u001b[39;49m\n\u001b[1;32m      6\u001b[0m \u001b[43m                           \u001b[49m\u001b[43m)\u001b[49m\n\u001b[1;32m      7\u001b[0m min_date \u001b[38;5;241m=\u001b[39m (\u001b[38;5;28mstr\u001b[39m(new_tweets[\u001b[38;5;241m-\u001b[39m\u001b[38;5;241m1\u001b[39m]\u001b[38;5;241m.\u001b[39mcreated_at)[\u001b[38;5;241m0\u001b[39m:\u001b[38;5;241m10\u001b[39m])\u001b[38;5;241m.\u001b[39mreplace(\u001b[38;5;124m'\u001b[39m\u001b[38;5;124m-\u001b[39m\u001b[38;5;124m'\u001b[39m,\u001b[38;5;124m'\u001b[39m\u001b[38;5;124m'\u001b[39m)\u001b[38;5;241m+\u001b[39m\u001b[38;5;124m'\u001b[39m\u001b[38;5;124m0000\u001b[39m\u001b[38;5;124m'\u001b[39m\n\u001b[1;32m      9\u001b[0m all_mentions \u001b[38;5;241m=\u001b[39m []\n",
      "File \u001b[0;32m~/opt/anaconda3/lib/python3.9/site-packages/tweepy/api.py:33\u001b[0m, in \u001b[0;36mpagination.<locals>.decorator.<locals>.wrapper\u001b[0;34m(*args, **kwargs)\u001b[0m\n\u001b[1;32m     31\u001b[0m \u001b[38;5;129m@functools\u001b[39m\u001b[38;5;241m.\u001b[39mwraps(method)\n\u001b[1;32m     32\u001b[0m \u001b[38;5;28;01mdef\u001b[39;00m \u001b[38;5;21mwrapper\u001b[39m(\u001b[38;5;241m*\u001b[39margs, \u001b[38;5;241m*\u001b[39m\u001b[38;5;241m*\u001b[39mkwargs):\n\u001b[0;32m---> 33\u001b[0m     \u001b[38;5;28;01mreturn\u001b[39;00m \u001b[43mmethod\u001b[49m\u001b[43m(\u001b[49m\u001b[38;5;241;43m*\u001b[39;49m\u001b[43margs\u001b[49m\u001b[43m,\u001b[49m\u001b[43m \u001b[49m\u001b[38;5;241;43m*\u001b[39;49m\u001b[38;5;241;43m*\u001b[39;49m\u001b[43mkwargs\u001b[49m\u001b[43m)\u001b[49m\n",
      "File \u001b[0;32m~/opt/anaconda3/lib/python3.9/site-packages/tweepy/api.py:46\u001b[0m, in \u001b[0;36mpayload.<locals>.decorator.<locals>.wrapper\u001b[0;34m(*args, **kwargs)\u001b[0m\n\u001b[1;32m     44\u001b[0m kwargs[\u001b[38;5;124m'\u001b[39m\u001b[38;5;124mpayload_list\u001b[39m\u001b[38;5;124m'\u001b[39m] \u001b[38;5;241m=\u001b[39m payload_list\n\u001b[1;32m     45\u001b[0m kwargs[\u001b[38;5;124m'\u001b[39m\u001b[38;5;124mpayload_type\u001b[39m\u001b[38;5;124m'\u001b[39m] \u001b[38;5;241m=\u001b[39m payload_type\n\u001b[0;32m---> 46\u001b[0m \u001b[38;5;28;01mreturn\u001b[39;00m \u001b[43mmethod\u001b[49m\u001b[43m(\u001b[49m\u001b[38;5;241;43m*\u001b[39;49m\u001b[43margs\u001b[49m\u001b[43m,\u001b[49m\u001b[43m \u001b[49m\u001b[38;5;241;43m*\u001b[39;49m\u001b[38;5;241;43m*\u001b[39;49m\u001b[43mkwargs\u001b[49m\u001b[43m)\u001b[49m\n",
      "File \u001b[0;32m~/opt/anaconda3/lib/python3.9/site-packages/tweepy/api.py:453\u001b[0m, in \u001b[0;36mAPI.search_full_archive\u001b[0;34m(self, label, query, **kwargs)\u001b[0m\n\u001b[1;32m    375\u001b[0m \u001b[38;5;129m@pagination\u001b[39m(mode\u001b[38;5;241m=\u001b[39m\u001b[38;5;124m'\u001b[39m\u001b[38;5;124mnext\u001b[39m\u001b[38;5;124m'\u001b[39m)\n\u001b[1;32m    376\u001b[0m \u001b[38;5;129m@payload\u001b[39m(\u001b[38;5;124m'\u001b[39m\u001b[38;5;124mstatus\u001b[39m\u001b[38;5;124m'\u001b[39m, \u001b[38;5;28mlist\u001b[39m\u001b[38;5;241m=\u001b[39m\u001b[38;5;28;01mTrue\u001b[39;00m)\n\u001b[1;32m    377\u001b[0m \u001b[38;5;28;01mdef\u001b[39;00m \u001b[38;5;21msearch_full_archive\u001b[39m(\u001b[38;5;28mself\u001b[39m, label, query, \u001b[38;5;241m*\u001b[39m\u001b[38;5;241m*\u001b[39mkwargs):\n\u001b[1;32m    378\u001b[0m     \u001b[38;5;124;03m\"\"\"search_full_archive(label, query, *, tag, fromDate, toDate, \\\u001b[39;00m\n\u001b[1;32m    379\u001b[0m \u001b[38;5;124;03m                           maxResults, next)\u001b[39;00m\n\u001b[1;32m    380\u001b[0m \n\u001b[0;32m   (...)\u001b[0m\n\u001b[1;32m    451\u001b[0m \u001b[38;5;124;03m    https://developer.twitter.com/en/docs/twitter-api/premium/search-api/api-reference/premium-search\u001b[39;00m\n\u001b[1;32m    452\u001b[0m \u001b[38;5;124;03m    \"\"\"\u001b[39;00m\n\u001b[0;32m--> 453\u001b[0m     \u001b[38;5;28;01mreturn\u001b[39;00m \u001b[38;5;28;43mself\u001b[39;49m\u001b[38;5;241;43m.\u001b[39;49m\u001b[43mrequest\u001b[49m\u001b[43m(\u001b[49m\n\u001b[1;32m    454\u001b[0m \u001b[43m        \u001b[49m\u001b[38;5;124;43m'\u001b[39;49m\u001b[38;5;124;43mGET\u001b[39;49m\u001b[38;5;124;43m'\u001b[39;49m\u001b[43m,\u001b[49m\u001b[43m \u001b[49m\u001b[38;5;124;43mf\u001b[39;49m\u001b[38;5;124;43m'\u001b[39;49m\u001b[38;5;124;43mtweets/search/fullarchive/\u001b[39;49m\u001b[38;5;132;43;01m{\u001b[39;49;00m\u001b[43mlabel\u001b[49m\u001b[38;5;132;43;01m}\u001b[39;49;00m\u001b[38;5;124;43m'\u001b[39;49m\u001b[43m,\u001b[49m\u001b[43m \u001b[49m\u001b[43mendpoint_parameters\u001b[49m\u001b[38;5;241;43m=\u001b[39;49m\u001b[43m(\u001b[49m\n\u001b[1;32m    455\u001b[0m \u001b[43m            \u001b[49m\u001b[38;5;124;43m'\u001b[39;49m\u001b[38;5;124;43mquery\u001b[39;49m\u001b[38;5;124;43m'\u001b[39;49m\u001b[43m,\u001b[49m\u001b[43m \u001b[49m\u001b[38;5;124;43m'\u001b[39;49m\u001b[38;5;124;43mtag\u001b[39;49m\u001b[38;5;124;43m'\u001b[39;49m\u001b[43m,\u001b[49m\u001b[43m \u001b[49m\u001b[38;5;124;43m'\u001b[39;49m\u001b[38;5;124;43mfromDate\u001b[39;49m\u001b[38;5;124;43m'\u001b[39;49m\u001b[43m,\u001b[49m\u001b[43m \u001b[49m\u001b[38;5;124;43m'\u001b[39;49m\u001b[38;5;124;43mtoDate\u001b[39;49m\u001b[38;5;124;43m'\u001b[39;49m\u001b[43m,\u001b[49m\u001b[43m \u001b[49m\u001b[38;5;124;43m'\u001b[39;49m\u001b[38;5;124;43mmaxResults\u001b[39;49m\u001b[38;5;124;43m'\u001b[39;49m\u001b[43m,\u001b[49m\u001b[43m \u001b[49m\u001b[38;5;124;43m'\u001b[39;49m\u001b[38;5;124;43mnext\u001b[39;49m\u001b[38;5;124;43m'\u001b[39;49m\n\u001b[1;32m    456\u001b[0m \u001b[43m        \u001b[49m\u001b[43m)\u001b[49m\u001b[43m,\u001b[49m\u001b[43m \u001b[49m\u001b[43mquery\u001b[49m\u001b[38;5;241;43m=\u001b[39;49m\u001b[43mquery\u001b[49m\u001b[43m,\u001b[49m\u001b[43m \u001b[49m\u001b[38;5;241;43m*\u001b[39;49m\u001b[38;5;241;43m*\u001b[39;49m\u001b[43mkwargs\u001b[49m\n\u001b[1;32m    457\u001b[0m \u001b[43m    \u001b[49m\u001b[43m)\u001b[49m\n",
      "File \u001b[0;32m~/opt/anaconda3/lib/python3.9/site-packages/tweepy/api.py:269\u001b[0m, in \u001b[0;36mAPI.request\u001b[0;34m(self, method, endpoint, endpoint_parameters, params, headers, json_payload, parser, payload_list, payload_type, post_data, files, require_auth, return_cursors, upload_api, use_cache, **kwargs)\u001b[0m\n\u001b[1;32m    267\u001b[0m     \u001b[38;5;28;01mraise\u001b[39;00m NotFound(resp)\n\u001b[1;32m    268\u001b[0m \u001b[38;5;28;01mif\u001b[39;00m resp\u001b[38;5;241m.\u001b[39mstatus_code \u001b[38;5;241m==\u001b[39m \u001b[38;5;241m429\u001b[39m:\n\u001b[0;32m--> 269\u001b[0m     \u001b[38;5;28;01mraise\u001b[39;00m TooManyRequests(resp)\n\u001b[1;32m    270\u001b[0m \u001b[38;5;28;01mif\u001b[39;00m resp\u001b[38;5;241m.\u001b[39mstatus_code \u001b[38;5;241m>\u001b[39m\u001b[38;5;241m=\u001b[39m \u001b[38;5;241m500\u001b[39m:\n\u001b[1;32m    271\u001b[0m     \u001b[38;5;28;01mraise\u001b[39;00m TwitterServerError(resp)\n",
      "\u001b[0;31mTooManyRequests\u001b[0m: 429 Too Many Requests\nRequest exceeds account’s current package request limits. Please upgrade your package and retry or contact Twitter about enterprise access."
     ]
    }
   ],
   "source": [
    "tweets_3_months = api.search_full_archive(label='development', \n",
    "                           query=query,\n",
    "                           fromDate=start_time, \n",
    "                           toDate = end_time,\n",
    "                           maxResults = 100\n",
    "                           )\n",
    "min_date = (str(new_tweets[-1].created_at)[0:10]).replace('-','')+'0000'\n",
    "\n",
    "all_mentions = []\n",
    "all_mentions.extend(new_tweets)\n",
    "while True:\n",
    "    tweets_3_months = api.search_full_archive(label='dev', \n",
    "                           query='@TO_WinterOps',\n",
    "                           fromDate=start_time, \n",
    "                           toDate = min_date,\n",
    "                           maxResults = 10\n",
    "                           )\n",
    "    if len(tweets_3_months) == 0:\n",
    "        break\n",
    "        \n",
    "    min_date = (str(tweets_3_months[-1].created_at)[0:10]).replace('-','')+'0000'\n",
    "    print(min_date)\n",
    "    all_mentions.extend(tweets_3_months)\n",
    "    print('Number of tweets in all_mentions dataframe: {}'.format(len(all_mentions)))"
   ]
  },
  {
   "cell_type": "code",
   "execution_count": null,
   "id": "0e4a016c",
   "metadata": {},
   "outputs": [],
   "source": [
    "from pandas import DataFrame\n",
    "\n",
    "mentions_tweets = [[ info.id, \n",
    "              info.created_at, \n",
    "              info.favorite_count, \n",
    "              info.retweet_count, \n",
    "              info.text.encode(\"utf-8\").decode(\"utf-8\"),\n",
    "              info.entities,\n",
    "              info.user.screen_name] \n",
    "             for idx,info in enumerate(all_mentions)]\n",
    "mentions_df = DataFrame(mentions_tweets,columns=[\"id\",\"created_at\",\"favorite_count\",\"retweet_count\", \"text\", \"entities\",\"screen_name\"])\n",
    "mentions_df.head()"
   ]
  },
  {
   "cell_type": "code",
   "execution_count": 7,
   "id": "14c58baa",
   "metadata": {},
   "outputs": [
    {
     "name": "stdout",
     "output_type": "stream",
     "text": [
      "/Users/davidchu/Desktop/Carleton/Courses/Senior/Fall/CS Comps/carleton-cscomps-dataviz-FW22/Tweets/Code\n"
     ]
    }
   ],
   "source": [
    "import os\n",
    "print(os.getcwd())\n",
    "os.chdir('/Users/davidchu/Desktop/Carleton/Courses/Senior/Fall/CS Comps/carleton-cscomps-dataviz-FW22/Tweets')\n",
    "df.to_csv('./data/'+id + '_tweets.csv')"
   ]
  },
  {
   "cell_type": "code",
   "execution_count": 8,
   "id": "87f9f227",
   "metadata": {},
   "outputs": [
    {
     "data": {
      "text/html": [
       "<div>\n",
       "<style scoped>\n",
       "    .dataframe tbody tr th:only-of-type {\n",
       "        vertical-align: middle;\n",
       "    }\n",
       "\n",
       "    .dataframe tbody tr th {\n",
       "        vertical-align: top;\n",
       "    }\n",
       "\n",
       "    .dataframe thead th {\n",
       "        text-align: right;\n",
       "    }\n",
       "</style>\n",
       "<table border=\"1\" class=\"dataframe\">\n",
       "  <thead>\n",
       "    <tr style=\"text-align: right;\">\n",
       "      <th></th>\n",
       "      <th>text</th>\n",
       "      <th>favorite_count</th>\n",
       "      <th>retweet_count</th>\n",
       "      <th>created_at</th>\n",
       "    </tr>\n",
       "  </thead>\n",
       "  <tbody>\n",
       "    <tr>\n",
       "      <th>0</th>\n",
       "      <td>We need CLEAN HOUSE at the FBI and DOJ and rem...</td>\n",
       "      <td>38</td>\n",
       "      <td>10</td>\n",
       "      <td>2022-11-13 21:12:57+00:00</td>\n",
       "    </tr>\n",
       "    <tr>\n",
       "      <th>1</th>\n",
       "      <td>Fact check: true. https://t.co/pDv4Wm7wcQ</td>\n",
       "      <td>6959</td>\n",
       "      <td>1064</td>\n",
       "      <td>2022-11-13 03:48:45+00:00</td>\n",
       "    </tr>\n",
       "    <tr>\n",
       "      <th>2</th>\n",
       "      <td>The DOJ views itself as the enforcement arm fo...</td>\n",
       "      <td>4212</td>\n",
       "      <td>826</td>\n",
       "      <td>2022-11-12 23:59:00+00:00</td>\n",
       "    </tr>\n",
       "    <tr>\n",
       "      <th>3</th>\n",
       "      <td>Raphael Warnock votes in favor of George Soros...</td>\n",
       "      <td>2443</td>\n",
       "      <td>618</td>\n",
       "      <td>2022-11-12 22:52:00+00:00</td>\n",
       "    </tr>\n",
       "    <tr>\n",
       "      <th>4</th>\n",
       "      <td>Heidi and I are praying for those involved in ...</td>\n",
       "      <td>3619</td>\n",
       "      <td>298</td>\n",
       "      <td>2022-11-12 21:06:45+00:00</td>\n",
       "    </tr>\n",
       "    <tr>\n",
       "      <th>...</th>\n",
       "      <td>...</td>\n",
       "      <td>...</td>\n",
       "      <td>...</td>\n",
       "      <td>...</td>\n",
       "    </tr>\n",
       "    <tr>\n",
       "      <th>2108</th>\n",
       "      <td>This will be great…in 2042. https://t.co/BzVld...</td>\n",
       "      <td>736</td>\n",
       "      <td>56</td>\n",
       "      <td>2022-05-10 16:57:23+00:00</td>\n",
       "    </tr>\n",
       "    <tr>\n",
       "      <th>2109</th>\n",
       "      <td>Yet another Soros DA refusing to prosecute vio...</td>\n",
       "      <td>1951</td>\n",
       "      <td>297</td>\n",
       "      <td>2022-05-10 16:54:06+00:00</td>\n",
       "    </tr>\n",
       "    <tr>\n",
       "      <th>2110</th>\n",
       "      <td>👇 https://t.co/0O2xGtenf6</td>\n",
       "      <td>2613</td>\n",
       "      <td>358</td>\n",
       "      <td>2022-05-10 16:29:59+00:00</td>\n",
       "    </tr>\n",
       "    <tr>\n",
       "      <th>2111</th>\n",
       "      <td>Biden plan: https://t.co/RlM2WEW0MJ https://t....</td>\n",
       "      <td>771</td>\n",
       "      <td>114</td>\n",
       "      <td>2022-05-10 14:34:45+00:00</td>\n",
       "    </tr>\n",
       "    <tr>\n",
       "      <th>2112</th>\n",
       "      <td>👇 https://t.co/TnDRDK8POd</td>\n",
       "      <td>2919</td>\n",
       "      <td>213</td>\n",
       "      <td>2022-05-10 14:31:14+00:00</td>\n",
       "    </tr>\n",
       "  </tbody>\n",
       "</table>\n",
       "<p>2113 rows × 4 columns</p>\n",
       "</div>"
      ],
      "text/plain": [
       "                                                   text  favorite_count  \\\n",
       "0     We need CLEAN HOUSE at the FBI and DOJ and rem...              38   \n",
       "1             Fact check: true. https://t.co/pDv4Wm7wcQ            6959   \n",
       "2     The DOJ views itself as the enforcement arm fo...            4212   \n",
       "3     Raphael Warnock votes in favor of George Soros...            2443   \n",
       "4     Heidi and I are praying for those involved in ...            3619   \n",
       "...                                                 ...             ...   \n",
       "2108  This will be great…in 2042. https://t.co/BzVld...             736   \n",
       "2109  Yet another Soros DA refusing to prosecute vio...            1951   \n",
       "2110                          👇 https://t.co/0O2xGtenf6            2613   \n",
       "2111  Biden plan: https://t.co/RlM2WEW0MJ https://t....             771   \n",
       "2112                          👇 https://t.co/TnDRDK8POd            2919   \n",
       "\n",
       "      retweet_count                created_at  \n",
       "0                10 2022-11-13 21:12:57+00:00  \n",
       "1              1064 2022-11-13 03:48:45+00:00  \n",
       "2               826 2022-11-12 23:59:00+00:00  \n",
       "3               618 2022-11-12 22:52:00+00:00  \n",
       "4               298 2022-11-12 21:06:45+00:00  \n",
       "...             ...                       ...  \n",
       "2108             56 2022-05-10 16:57:23+00:00  \n",
       "2109            297 2022-05-10 16:54:06+00:00  \n",
       "2110            358 2022-05-10 16:29:59+00:00  \n",
       "2111            114 2022-05-10 14:34:45+00:00  \n",
       "2112            213 2022-05-10 14:31:14+00:00  \n",
       "\n",
       "[2113 rows x 4 columns]"
      ]
     },
     "execution_count": 8,
     "metadata": {},
     "output_type": "execute_result"
    }
   ],
   "source": [
    "df"
   ]
  },
  {
   "cell_type": "code",
   "execution_count": null,
   "id": "b0d1cb83",
   "metadata": {},
   "outputs": [],
   "source": []
  }
 ],
 "metadata": {
  "kernelspec": {
   "display_name": "Python 3 (ipykernel)",
   "language": "python",
   "name": "python3"
  },
  "language_info": {
   "codemirror_mode": {
    "name": "ipython",
    "version": 3
   },
   "file_extension": ".py",
   "mimetype": "text/x-python",
   "name": "python",
   "nbconvert_exporter": "python",
   "pygments_lexer": "ipython3",
   "version": "3.9.12"
  }
 },
 "nbformat": 4,
 "nbformat_minor": 5
}
