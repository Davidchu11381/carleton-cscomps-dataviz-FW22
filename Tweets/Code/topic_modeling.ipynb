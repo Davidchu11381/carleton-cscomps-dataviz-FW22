{
 "cells": [
  {
   "cell_type": "code",
   "execution_count": 1,
   "id": "017d7756",
   "metadata": {},
   "outputs": [
    {
     "name": "stderr",
     "output_type": "stream",
     "text": [
      "2023-01-05 11:48:28.192280: I tensorflow/core/platform/cpu_feature_guard.cc:193] This TensorFlow binary is optimized with oneAPI Deep Neural Network Library (oneDNN) to use the following CPU instructions in performance-critical operations:  AVX2 FMA\n",
      "To enable them in other operations, rebuild TensorFlow with the appropriate compiler flags.\n",
      "/Users/davidchu/opt/anaconda3/lib/python3.9/site-packages/scipy/sparse/sparsetools.py:21: DeprecationWarning: `scipy.sparse.sparsetools` is deprecated!\n",
      "scipy.sparse.sparsetools is a private module for scipy.sparse, and should not be used.\n",
      "  _deprecated()\n"
     ]
    }
   ],
   "source": [
    "# Required Libraries\n",
    "\n",
    "#Base and Cleaning \n",
    "import json\n",
    "import requests\n",
    "import pandas as pd\n",
    "import numpy as np\n",
    "import emoji\n",
    "import regex\n",
    "import re\n",
    "import string\n",
    "from collections import Counter\n",
    "\n",
    "#Visualizations\n",
    "import plotly.express as px\n",
    "import seaborn as sns\n",
    "import matplotlib.pyplot as plt \n",
    "import pyLDAvis.gensim_models\n",
    "import chart_studio\n",
    "import chart_studio.plotly as py \n",
    "import chart_studio.tools as tls\n",
    "\n",
    "#Natural Language Processing (NLP)\n",
    "import spacy\n",
    "import gensim\n",
    "from spacy.tokenizer import Tokenizer\n",
    "from gensim.corpora import Dictionary\n",
    "from gensim.models.ldamulticore import LdaMulticore\n",
    "from gensim.models.coherencemodel import CoherenceModel\n",
    "from gensim.parsing.preprocessing import STOPWORDS as SW\n",
    "from sklearn.decomposition import LatentDirichletAllocation, TruncatedSVD\n",
    "from sklearn.feature_extraction.text import CountVectorizer, TfidfVectorizer\n",
    "from sklearn.model_selection import GridSearchCV\n",
    "from pprint import pprint\n",
    "from wordcloud import STOPWORDS\n",
    "stopwords = set(STOPWORDS)"
   ]
  },
  {
   "cell_type": "code",
   "execution_count": 24,
   "id": "4e1a6d5e",
   "metadata": {},
   "outputs": [
    {
     "name": "stdout",
     "output_type": "stream",
     "text": [
      "/Users/davidchu/Desktop/Carleton/Courses/Comps/CS Comps/carleton-cscomps-dataviz-FW22/Tweets\n"
     ]
    }
   ],
   "source": [
    "import os\n",
    "print(os.getcwd())\n",
    "os.chdir('/Users/davidchu/Desktop/Carleton/Courses/Comps/CS Comps/carleton-cscomps-dataviz-FW22/Tweets')"
   ]
  },
  {
   "cell_type": "code",
   "execution_count": 3,
   "id": "52af7ced",
   "metadata": {},
   "outputs": [],
   "source": [
    "id = \"tedcruz\"\n",
    "df = pd.read_csv(\"./Data/\"+id+\"_tweets.csv\")"
   ]
  },
  {
   "cell_type": "code",
   "execution_count": 4,
   "id": "d453878c",
   "metadata": {},
   "outputs": [],
   "source": [
    "def give_emoji_free_text(text):\n",
    "    \"\"\"\n",
    "    Removes emoji's from tweets\n",
    "    Accepts:\n",
    "        Text (tweets)\n",
    "    Returns:\n",
    "        Text (emoji free tweets)\n",
    "    \"\"\"\n",
    "    emoji_list = [c for c in text if c in emoji.UNICODE_EMOJI]\n",
    "    clean_text = ' '.join([str for str in text.split() if not any(i in str for i in emoji_list)])\n",
    "    return clean_text\n",
    "\n",
    "def url_free_text(text):\n",
    "    '''\n",
    "    Cleans text from urls\n",
    "    '''\n",
    "    text = re.sub(r'http\\S+', '', text)\n",
    "    return text\n",
    "\n",
    "# Apply the function above and get tweets free of emoji's\n",
    "call_emoji_free = lambda x: give_emoji_free_text(x)\n",
    "\n",
    "# Apply `call_emoji_free` which calls the function to remove all emoji's\n",
    "# df['emoji_free_tweets'] = df['text'].apply(call_emoji_free)\n",
    "\n",
    "#Create a new column with url free tweets\n",
    "df['url_free_tweets'] = df['text'].apply(url_free_text)"
   ]
  },
  {
   "cell_type": "code",
   "execution_count": 5,
   "id": "d3dc418c",
   "metadata": {},
   "outputs": [],
   "source": [
    "# Load spacy\n",
    "# Make sure to restart the runtime after running installations and libraries tab\n",
    "nlp = spacy.load('en_core_web_lg')"
   ]
  },
  {
   "cell_type": "code",
   "execution_count": 6,
   "id": "7d18a1e3",
   "metadata": {},
   "outputs": [],
   "source": [
    "# Tokenizer\n",
    "tokenizer = Tokenizer(nlp.vocab)\n",
    "\n",
    "\n",
    "# Custom stopwords\n",
    "custom_stopwords = ['hi','\\n','\\n\\n', '&', ' ', '.', '-', 'got', \"it's\", 'it’s', \"i'm\", 'i’m', 'im', 'want', 'like', '$', '@']\n",
    "\n",
    "# Customize stop words by adding to the default list\n",
    "STOP_WORDS = nlp.Defaults.stop_words.union(custom_stopwords)\n",
    "\n",
    "# ALL_STOP_WORDS = spacy + gensim + wordcloud\n",
    "ALL_STOP_WORDS = STOP_WORDS.union(SW).union(stopwords)\n",
    "\n",
    "\n",
    "tokens = []\n",
    "\n",
    "for doc in tokenizer.pipe(df['url_free_tweets'], batch_size=500):\n",
    "    doc_tokens = []    \n",
    "    for token in doc: \n",
    "        if token.text.lower() not in ALL_STOP_WORDS:\n",
    "            doc_tokens.append(token.text.lower())   \n",
    "    tokens.append(doc_tokens)\n",
    "\n",
    "# Makes tokens column\n",
    "df['tokens'] = tokens"
   ]
  },
  {
   "cell_type": "code",
   "execution_count": 7,
   "id": "cf4cbb49",
   "metadata": {},
   "outputs": [],
   "source": [
    "# Make tokens a string again\n",
    "df['tokens_back_to_text'] = [' '.join(map(str, l)) for l in df['tokens']]\n",
    "\n",
    "def get_lemmas(text):\n",
    "    '''Used to lemmatize the processed tweets'''\n",
    "    lemmas = []\n",
    "    \n",
    "    doc = nlp(text)\n",
    "    \n",
    "    # Something goes here :P\n",
    "    for token in doc: \n",
    "        if ((token.is_stop == False) and (token.is_punct == False)) and (token.pos_ != 'PRON'):\n",
    "            lemmas.append(token.lemma_)\n",
    "    \n",
    "    return lemmas\n",
    "\n",
    "df['lemmas'] = df['tokens_back_to_text'].apply(get_lemmas)"
   ]
  },
  {
   "cell_type": "code",
   "execution_count": 8,
   "id": "7a6f05b0",
   "metadata": {},
   "outputs": [],
   "source": [
    "# Make lemmas a string again\n",
    "df['lemmas_back_to_text'] = [' '.join(map(str, l)) for l in df['lemmas']]\n",
    "\n",
    "# Tokenizer function\n",
    "def tokenize(text):\n",
    "    \"\"\"\n",
    "    Parses a string into a list of semantic units (words)\n",
    "    Args:\n",
    "        text (str): The string that the function will tokenize.\n",
    "    Returns:\n",
    "        list: tokens parsed out\n",
    "    \"\"\"\n",
    "    # removing hashtags and mentions\n",
    "    tokens = re.sub(r\"@[A-Za-z0-9_]+\",\"\", text)\n",
    "    tokens = re.sub(r\"#[A-Za-z0-9_]+\",\"\", tokens)\n",
    "    # removing numbers\n",
    "    tokens = re.sub(r\"\\b\\d+\\b\",\"\", tokens)\n",
    "    # removing &amp\n",
    "    tokens = re.sub(r\"&amp|amp\", \"\", tokens)\n",
    "    # removing urls\n",
    "    tokens = re.sub(r\"http\\S+\", \"\", tokens)\n",
    "    tokens = re.sub(r\"www.\\S+\", \"\", tokens)\n",
    "    # removing punctuations \n",
    "    tokens = re.sub(r'[()!?]', ' ', tokens)\n",
    "    tokens = re.sub(r'\\[.*?\\]',' ', tokens)\n",
    "    # removing non-alphanumeric characters\n",
    "    tokens = re.sub(r'\\W+',' ', tokens)\n",
    "    # make text lowercase and split it\n",
    "    tokens = tokens.lower().split() \n",
    "    # removing stop words\n",
    "    stop_words = open(\"./data/stopwords.txt\",'r').read().splitlines()\n",
    "    stop_words = [word.strip() for word in stop_words]\n",
    "    tokens = [w for w in tokens if not w in stop_words]\n",
    "\n",
    "    return tokens\n",
    "\n",
    "# Apply tokenizer\n",
    "df['lemma_tokens'] = df['lemmas_back_to_text'].apply(tokenize)"
   ]
  },
  {
   "cell_type": "code",
   "execution_count": 59,
   "id": "3e1d02be",
   "metadata": {},
   "outputs": [
    {
     "name": "stdout",
     "output_type": "stream",
     "text": [
      "3867\n",
      "1975\n",
      "------ Topic 0 ------\n",
      "verdict episode democrat youtube people vote dem podcast spotify kid\n",
      "\n",
      "------ Topic 1 ------\n",
      "democrats day american house america white friend time yes inflation\n",
      "\n",
      "------ Topic 2 ------\n",
      "vote school democrats woman police man border friend know today\n",
      "\n",
      "------ Topic 3 ------\n",
      "verdict fact episode border people say youtube today democrat american\n",
      "\n",
      "------ Topic 4 ------\n",
      "verdict episode podcast apple spotify late youtube miss iheart people\n",
      "\n",
      "------ Topic 5 ------\n",
      "need court verdict right corrupt supreme good law world wow\n",
      "\n",
      "------ Topic 6 ------\n",
      "new book justice leave corrupt democrat order today powerful legal\n",
      "\n",
      "------ Topic 7 ------\n",
      "illegal border inflation immigrant alien vineyard martha democrat price tell\n",
      "\n",
      "------ Topic 8 ------\n",
      "verdict justice new illegal democrats right country border work fbi\n",
      "\n",
      "------ Topic 9 ------\n",
      "true need verdict america vote school today country friend new\n",
      "\n"
     ]
    }
   ],
   "source": [
    "# Create a id2word dictionary\n",
    "id2word = Dictionary(df['lemma_tokens'])\n",
    "print(len(id2word))\n",
    "# Filtering Extremes\n",
    "id2word.filter_extremes(no_below=2, no_above=.99)\n",
    "print(len(id2word))\n",
    "# Creating a corpus object \n",
    "corpus = [id2word.doc2bow(d) for d in df['lemma_tokens']]\n",
    "# Instantiating a Base LDA model \n",
    "base_model = LdaMulticore(corpus=corpus, \n",
    "                          num_topics=10, \n",
    "                          id2word=id2word, \n",
    "                          workers=12, \n",
    "                          passes=5, \n",
    "                          decay = 0.7)\n",
    "# Filtering for words \n",
    "words = [re.findall(r'\"([^\"]*)\"',t[1]) for t in base_model.print_topics()]\n",
    "# Create Topics\n",
    "topics = [' '.join(t[0:15]) for t in words]\n",
    "# Getting the topics\n",
    "for id, t in enumerate(topics): \n",
    "    print(f\"------ Topic {id} ------\")\n",
    "    print(t, end=\"\\n\\n\")"
   ]
  },
  {
   "cell_type": "code",
   "execution_count": 62,
   "id": "7addcaf1",
   "metadata": {},
   "outputs": [
    {
     "data": {
      "text/plain": [
       "(array(['democrats', 'illegal', 'need', 'new', 'true', 'verdict', 'vote'],\n",
       "       dtype='<U9'),\n",
       " array([1, 1, 1, 1, 1, 4, 1]))"
      ]
     },
     "execution_count": 62,
     "metadata": {},
     "output_type": "execute_result"
    }
   ],
   "source": [
    "# get top topics\n",
    "topics = base_model.top_topics(corpus)\n",
    "top_topics = [topics[i][0][0][1] for i in range(len(topics))]\n",
    "np.unique(top_topics, return_counts=True)"
   ]
  },
  {
   "cell_type": "code",
   "execution_count": 294,
   "id": "e6886f8b",
   "metadata": {},
   "outputs": [
    {
     "name": "stdout",
     "output_type": "stream",
     "text": [
      "\n",
      "Perplexity:  -7.580846434116392\n",
      "\n",
      "Coherence Score:  0.35844886165144707\n"
     ]
    }
   ],
   "source": [
    "# Compute Perplexity\n",
    "# a measure of how good the model is. lower the better\n",
    "base_perplexity = base_model.log_perplexity(corpus)\n",
    "print('\\nPerplexity: ', base_perplexity) \n",
    "\n",
    "# Compute Coherence Score\n",
    "coherence_model = CoherenceModel(model=base_model, texts=df['lemma_tokens'], \n",
    "                                   dictionary=id2word, coherence='c_v')\n",
    "coherence_lda_model_base = coherence_model.get_coherence()\n",
    "print('\\nCoherence Score: ', coherence_lda_model_base)"
   ]
  },
  {
   "cell_type": "code",
   "execution_count": 295,
   "id": "6e827a25",
   "metadata": {},
   "outputs": [
    {
     "name": "stderr",
     "output_type": "stream",
     "text": [
      "/Users/davidchu/opt/anaconda3/lib/python3.9/site-packages/pyLDAvis/_prepare.py:246: FutureWarning: In a future version of pandas all arguments of DataFrame.drop except for the argument 'labels' will be keyword-only.\n",
      "  default_term_info = default_term_info.sort_values(\n",
      "/Users/davidchu/opt/anaconda3/lib/python3.9/site-packages/past/builtins/misc.py:45: DeprecationWarning: the imp module is deprecated in favour of importlib; see the module's documentation for alternative uses\n",
      "  from imp import reload\n",
      "/Users/davidchu/opt/anaconda3/lib/python3.9/site-packages/past/builtins/misc.py:45: DeprecationWarning: the imp module is deprecated in favour of importlib; see the module's documentation for alternative uses\n",
      "  from imp import reload\n",
      "/Users/davidchu/opt/anaconda3/lib/python3.9/site-packages/past/builtins/misc.py:45: DeprecationWarning: the imp module is deprecated in favour of importlib; see the module's documentation for alternative uses\n",
      "  from imp import reload\n",
      "/Users/davidchu/opt/anaconda3/lib/python3.9/site-packages/past/builtins/misc.py:45: DeprecationWarning: the imp module is deprecated in favour of importlib; see the module's documentation for alternative uses\n",
      "  from imp import reload\n",
      "/Users/davidchu/opt/anaconda3/lib/python3.9/site-packages/past/builtins/misc.py:45: DeprecationWarning: the imp module is deprecated in favour of importlib; see the module's documentation for alternative uses\n",
      "  from imp import reload\n",
      "/Users/davidchu/opt/anaconda3/lib/python3.9/site-packages/past/builtins/misc.py:45: DeprecationWarning: the imp module is deprecated in favour of importlib; see the module's documentation for alternative uses\n",
      "  from imp import reload\n"
     ]
    },
    {
     "data": {
      "text/html": [
       "\n",
       "<link rel=\"stylesheet\" type=\"text/css\" href=\"https://cdn.jsdelivr.net/gh/bmabey/pyLDAvis@3.3.1/pyLDAvis/js/ldavis.v1.0.0.css\">\n",
       "\n",
       "\n",
       "<div id=\"ldavis_el280711406589847733286794520539\"></div>\n",
       "<script type=\"text/javascript\">\n",
       "\n",
       "var ldavis_el280711406589847733286794520539_data = {\"mdsDat\": {\"x\": [0.20666504046819567, -0.027871034724488774, 0.020188711099028426, -0.02262832083272488, -0.05485388522387933, -0.09828219193341284, 0.06712879246309479, -0.01292726241530934, 0.0029484198573067532, -0.08036826875781053], \"y\": [0.024917841592844343, -0.01713412364342845, -0.12424712659958138, 0.062130598673658645, -0.08017254106049398, 0.00916288166491722, 0.05307002613405913, -0.1061628858511241, 0.05035602105970195, 0.12807930802944684], \"topics\": [1, 2, 3, 4, 5, 6, 7, 8, 9, 10], \"cluster\": [1, 1, 1, 1, 1, 1, 1, 1, 1, 1], \"Freq\": [12.875324694881066, 12.316485753950799, 11.869299314250647, 11.634105188039909, 9.51621518473138, 9.061208738861662, 8.669721998732067, 8.47028553183954, 8.297640911679192, 7.289712683033738]}, \"tinfo\": {\"Term\": [\"podcast\", \"apple\", \"spotify\", \"verdict\", \"episode\", \"illegal\", \"youtube\", \"kid\", \"day\", \"school\", \"late\", \"vineyard\", \"inflation\", \"immigrant\", \"martha\", \"iheart\", \"alien\", \"border\", \"system\", \"book\", \"court\", \"truth\", \"true\", \"conservative\", \"corrupt\", \"defend\", \"rumble\", \"doj\", \"harris\", \"medium\", \"q\", \"apple\", \"iheart\", \"podcast\", \"spotify\", \"future\", \"taiwan\", \"cake\", \"depression\", \"invade\", \"late\", \"jimmy\", \"carter\", \"plus\", \"lose\", \"inaccurate\", \"failure\", \"baker\", \"revise\", \"date\", \"guest\", \"consider\", \"storm\", \"yes\", \"development\", \"servant\", \"virus\", \"superintendent\", \"loot\", \"musk\", \"listen\", \"rumble\", \"miss\", \"meet\", \"leader\", \"student\", \"episode\", \"speech\", \"verdict\", \"youtube\", \"eat\", \"recession\", \"midterm\", \"skyrocket\", \"ep\", \"point\", \"pod\", \"free\", \"democrats\", \"new\", \"great\", \"good\", \"inflation\", \"discuss\", \"watch\", \"gas\", \"price\", \"news\", \"job\", \"political\", \"people\", \"wade\", \"age\", \"trillion\", \"letnovakplay\", \"thing\", \"v\", \"fuel\", \"sky\", \"pour\", \"decision\", \"spectacular\", \"unlock\", \"roll\", \"grieve\", \"voters\", \"jerusalem\", \"suck\", \"land\", \"island\", \"colleague\", \"charity\", \"oil\", \"bolduc\", \"newsom\", \"gasoline\", \"gallop\", \"chaos\", \"s\", \"energy\", \"succeed\", \"dobbs\", \"secure\", \"inflation\", \"gas\", \"roe\", \"high\", \"price\", \"make\", \"happy\", \"important\", \"victory\", \"u\", \"border\", \"disaster\", \"result\", \"american\", \"day\", \"bad\", \"cause\", \"state\", \"democrat\", \"fight\", \"bidenbordercrisis\", \"texas\", \"policy\", \"stand\", \"try\", \"go\", \"people\", \"democrats\", \"dem\", \"life\", \"party\", \"new\", \"mass\", \"mayorkas\", \"welcome\", \"commissioner\", \"vineyard\", \"martha\", \"alejandro\", \"dictator\", \"dhs\", \"deport\", \"accountability\", \"arrogant\", \"immigrant\", \"risk\", \"tin\", \"keith\", \"chatinover\", \"foot\", \"propose\", \"cbs\", \"back\", \"solve\", \"disturb\", \"thisispoliticsnotscience\", \"confused\", \"masto\", \"cortez\", \"unknown\", \"chardonnay\", \"michael\", \"evidence\", \"impeach\", \"illegal\", \"explain\", \"flood\", \"murderer\", \"send\", \"deny\", \"gun\", \"secretary\", \"enforce\", \"alien\", \"jet\", \"bidenbordercrisis\", \"rich\", \"liberal\", \"refuse\", \"need\", \"law\", \"people\", \"american\", \"vote\", \"know\", \"powerful\", \"democrats\", \"country\", \"texas\", \"border\", \"youtube\", \"verdict\", \"democrat\", \"stop\", \"episode\", \"lie\", \"year\", \"say\", \"leave\", \"million\", \"violence\", \"dem\", \"kid\", \"weaponized\", \"system\", \"screw\", \"cartel\", \"inside\", \"pm\", \"summit\", \"wave\", \"hollywood\", \"register\", \"phrase\", \"wristband\", \"commander\", \"whirlwind\", \"owe\", \"strangle\", \"flourish\", \"lever\", \"own\", \"gorsuch\", \"accord\", \"concert\", \"tarrantcounty\", \"violate\", \"hardworke\", \"cottleville\", \"utsen\", \"enjoy\", \"mike\", \"teenage\", \"manchin\", \"judge\", \"exactly\", \"book\", \"legal\", \"schumer\", \"november\", \"pre\", \"destroy\", \"trust\", \"pack\", \"show\", \"justice\", \"leave\", \"liberty\", \"new\", \"today\", \"right\", \"corrupt\", \"red\", \"white\", \"america\", \"friend\", \"try\", \"time\", \"house\", \"join\", \"order\", \"verdict\", \"go\", \"tell\", \"democrat\", \"say\", \"court\", \"vote\", \"happen\", \"bound\", \"weaponize\", \"cool\", \"absurdity\", \"print\", \"entrapment\", \"beautiful\", \"whitmer\", \"career\", \"thomas\", \"nancy\", \"possibly\", \"ai\", \"riddance\", \"decline\", \"courageous\", \"bidenrecession\", \"paul\", \"scandal\", \"alto\", \"palo\", \"gdp\", \"quarter\", \"insightful\", \"nature\", \"science\", \"negative\", \"heidi\", \"winger\", \"twisted\", \"garland\", \"pray\", \"follow\", \"merrick\", \"fully\", \"evil\", \"hookem\", \"money\", \"pelosi\", \"agree\", \"checker\", \"donald\", \"focus\", \"corporate\", \"medium\", \"political\", \"party\", \"attack\", \"corrupt\", \"know\", \"doj\", \"fbi\", \"law\", \"politic\", \"happen\", \"violence\", \"justice\", \"verdict\", \"try\", \"fact\", \"horrific\", \"border\", \"wake\", \"murder\", \"episode\", \"family\", \"illegal\", \"big\", \"expose\", \"harriet\", \"intensive\", \"position\", \"yep\", \"progress\", \"rigorous\", \"inspection\", \"antifa\", \"eye\", \"equip\", \"iaea\", \"trace\", \"afford\", \"allege\", \"thug\", \"recording\", \"rib\", \"rock\", \"wyoming\", \"blind\", \"drove\", \"protestor\", \"infringe\", \"mortgage\", \"examine\", \"column\", \"bernie\", \"prior\", \"dismiss\", \"felony\", \"weapon\", \"israel\", \"iran\", \"dangerous\", \"uranium\", \"moment\", \"obama\", \"abortion\", \"treat\", \"enemy\", \"turn\", \"answer\", \"anymore\", \"nuclear\", \"cia\", \"abolish\", \"doj\", \"justicecorrupted\", \"today\", \"home\", \"order\", \"political\", \"fbi\", \"hispanic\", \"rate\", \"irs\", \"clinton\", \"americans\", \"fact\", \"support\", \"democrats\", \"new\", \"people\", \"senate\", \"time\", \"book\", \"law\", \"life\", \"conservative\", \"dem\", \"series\", \"bag\", \"wow\", \"arsonist\", \"surrender\", \"migrant\", \"body\", \"lift\", \"florida\", \"plague\", \"taliban\", \"afghanistan\", \"tragedy\", \"clever\", \"injustice\", \"taxpayer\", \"restrict\", \"beer\", \"sacrifice\", \"harris\", \"seismic\", \"indefensible\", \"draft\", \"leaker\", \"scotty\", \"devote\", \"common\", \"kamala\", \"deep\", \"madness\", \"world\", \"gallon\", \"opinion\", \"court\", \"amendment\", \"supreme\", \"second\", \"stunning\", \"impose\", \"worldserie\", \"prayer\", \"horrific\", \"caign\", \"leak\", \"defend\", \"thank\", \"military\", \"youtube\", \"verdict\", \"support\", \"come\", \"right\", \"watch\", \"democrat\", \"fight\", \"people\", \"america\", \"bad\", \"episode\", \"big\", \"border\", \"senate\", \"insist\", \"declare\", \"advertise\", \"lecturer\", \"commentator\", \"brett\", \"strident\", \"assassinate\", \"upside\", \"roberts\", \"palpatine\", \"deplorable\", \"derange\", \"top\", \"object\", \"chart\", \"impeachment\", \"obamas\", \"gaslighte\", \"fraud\", \"texans\", \"oversight\", \"turquzabad\", \"incite\", \"sick\", \"deliberately\", \"zealot\", \"likely\", \"horrifying\", \"half\", \"true\", \"press\", \"cross\", \"leak\", \"actually\", \"plan\", \"alien\", \"administration\", \"cloakroom\", \"damn\", \"million\", \"illegal\", \"house\", \"target\", \"insane\", \"say\", \"left\", \"white\", \"discuss\", \"force\", \"karine\", \"dc\", \"verdict\", \"opinion\", \"try\", \"thousand\", \"home\", \"democrat\", \"border\", \"justice\", \"school\", \"lie\", \"radical\", \"people\", \"go\", \"tell\", \"dem\", \"episode\", \"crt\", \"wonder\", \"player\", \"title\", \"concern\", \"total\", \"bird\", \"chappelle\", \"contract\", \"boot\", \"francisco\", \"san\", \"spy\", \"cryptocurrencie\", \"north\", \"rulesfortheebutnotforme\", \"yearly\", \"pound\", \"footprint\", \"approximately\", \"fed\", \"ton\", \"carbon\", \"nope\", \"sexualize\", \"feather\", \"theory\", \"defunde\", \"tennessee\", \"vs\", \"kid\", \"school\", \"funding\", \"protect\", \"hurt\", \"choice\", \"critical\", \"corporate\", \"private\", \"poker\", \"medium\", \"instead\", \"endorse\", \"responsible\", \"parent\", \"need\", \"truly\", \"proud\", \"fight\", \"away\", \"policy\", \"ask\", \"dem\", \"life\", \"district\", \"use\", \"verdict\", \"watch\", \"want\", \"episode\", \"conservative\", \"include\", \"know\", \"join\", \"news\", \"vote\", \"say\", \"radical\", \"democrats\", \"missouri\", \"shameless\", \"eric\", \"shocker\", \"cashless\", \"yup\", \"abusive\", \"denounce\", \"crack\", \"till\", \"accidentally\", \"comedy\", \"immediately\", \"va07\", \"panic\", \"going\", \"springfield\", \"tune\", \"squad\", \"account\", \"dumfries\", \"course\", \"30pm\", \"death\", \"tear\", \"excellent\", \"el\", \"worth\", \"follower\", \"principled\", \"truth\", \"nh01\", \"nut\", \"talk\", \"day\", \"strong\", \"utterly\", \"race\", \"conservative\", \"lifelibertytexas\", \"bother\", \"defend\", \"hate\", \"release\", \"left\", \"bail\", \"abuse\", \"policy\", \"celebrate\", \"dem\", \"man\", \"vote\", \"leave\", \"right\", \"give\", \"senate\", \"corrupt\", \"friend\", \"america\", \"country\", \"night\", \"freedom\", \"rally\", \"bad\"], \"Freq\": [78.0, 65.0, 68.0, 243.0, 129.0, 73.0, 86.0, 39.0, 52.0, 53.0, 43.0, 30.0, 57.0, 36.0, 29.0, 29.0, 34.0, 86.0, 22.0, 37.0, 43.0, 22.0, 31.0, 35.0, 52.0, 31.0, 30.0, 34.0, 20.0, 48.0, 7.935263509520155, 56.29152458020623, 24.64786135549969, 66.17738743640446, 57.462456631990946, 4.515373584948461, 3.6777011348640585, 3.496712661537528, 2.795313345142678, 2.754888036352533, 32.60978928865597, 6.024316917488288, 6.022251277292464, 2.622098697889483, 14.273282632127229, 1.9121241482643663, 1.9121200264053666, 1.9121090740371676, 1.9121064831543677, 1.9120869337659694, 1.9120825763721698, 1.9120166266281755, 1.9119569185563805, 10.783322988839924, 1.8896696736430856, 1.876781798225187, 1.8729732005095125, 1.8473964765796986, 1.8476914839166736, 1.8421963392657432, 21.419871996002794, 20.56991923251704, 22.340509695101705, 5.383479957607862, 5.36127138131776, 10.300437079034797, 72.38163786685017, 11.556971898524198, 98.34970004041303, 39.20249124834207, 3.496722553999127, 9.299903149365116, 3.459622289980298, 6.594119879181985, 4.851062963645369, 10.687623315329704, 7.1200304598298345, 9.3421986044671, 26.487699049278433, 20.684072586536082, 11.801802785989672, 11.805288701029374, 13.081884490502661, 8.530057655630916, 8.540057521098861, 9.002030767083376, 8.1149040171864, 7.586274422807583, 7.355645812711296, 7.515455703428036, 7.566602085243665, 5.3391216040922815, 3.5943287003115096, 6.929234886737814, 2.757982342171957, 17.055946200814827, 6.010890624404946, 3.319466478397169, 3.3145657240945434, 3.2370334973541297, 12.867784240145907, 4.474541664926216, 1.868360249238793, 1.8683506734924886, 1.8683403091553124, 1.8683194678251211, 1.8682976125923798, 1.8682942329172136, 1.867662008349462, 1.8672708672768972, 1.8499359500704127, 1.8350580567097343, 7.871084113916365, 1.805457284422666, 1.805426304066976, 4.156929255899946, 1.7404029310515936, 5.1016705837740295, 7.346957329796261, 14.545586574652907, 1.671016960675879, 6.059023958121552, 11.926624016077898, 31.441866105657294, 26.539869885064125, 10.24837195946212, 14.280200961904509, 18.92820152568263, 8.525375707386372, 6.1705658560591425, 12.238302166135727, 5.742187522513436, 7.322372671390824, 33.33622540735856, 5.7117668410310545, 7.867044726157758, 20.245133862153153, 16.11082679994549, 13.390911091040179, 7.112078467591144, 11.592430019439684, 17.930034743405077, 11.830387991032861, 10.580361506645279, 13.265870319865547, 10.58947761712683, 8.950179245852981, 11.877649368556595, 11.212064252551311, 12.48506621934188, 12.949580490387639, 11.33956993348047, 10.121664783118886, 9.985152943806915, 10.49986575540749, 5.253773743275997, 5.921922526622141, 5.7651517220824635, 3.5606084507372135, 24.852919656143122, 23.09060224299576, 4.14665628492735, 2.7494165405503326, 5.391915136189941, 3.988628291486848, 2.632194640667475, 2.6193702282237044, 26.609292889092043, 2.5728505476649692, 1.8624126655465625, 1.862410059973711, 1.86240072333766, 1.8623979006337377, 1.862396380716241, 1.86237792457521, 1.8623781417062808, 1.8623709763809393, 1.8622072595534398, 1.8621894548056215, 1.8615046234078318, 1.8614931154610712, 1.8614188566348049, 1.8516931217046222, 1.848823517470891, 1.8454555974293194, 3.5560916901992234, 4.632216945135215, 39.69852880929005, 3.503930727286026, 2.4199865824849716, 4.891231731152255, 14.298415404186564, 3.3968280038339205, 9.844886908155289, 6.370348996813268, 5.9924145630695795, 15.631783438469537, 2.840717333182672, 15.103081440035915, 6.787462560999942, 7.846665271658972, 7.110910992322655, 19.589716344717726, 18.844188995877758, 24.65172947989405, 16.776118030904026, 16.960823616246252, 12.200032941707619, 7.183655980762315, 20.903164774551357, 13.466566295302307, 14.559598895340294, 17.259773148833197, 15.755129520208659, 24.957903397473785, 13.817272058486191, 9.165191094455798, 14.017970649990623, 8.91534445077873, 9.592537177492261, 9.528379288646699, 9.731540146495751, 8.53076797757455, 7.894202211285128, 8.995900078102757, 8.209005786148868, 11.365535582603238, 19.632076404642923, 6.254763664147577, 4.513085511781541, 4.501344612194394, 3.558393690970688, 2.78630152674516, 7.635502479526413, 6.14878100727177, 2.7229190573609703, 2.7223320762301766, 2.7188284927004007, 2.6860460860512436, 3.3052166831637533, 2.545558601100787, 1.8874837970323246, 1.8874761352046565, 1.8874757095475638, 1.8874695375197201, 1.887468260548442, 1.8874550651785693, 1.8874540010358376, 1.887386321558103, 1.8873890883292053, 1.887358441018533, 1.8873107674241538, 1.8872686273719794, 1.8872518139168188, 1.8872505369455408, 1.8851173564256196, 3.1518185929354896, 9.650825361000473, 9.832317883487761, 21.619809895998415, 13.878912166384081, 8.700548455554804, 6.1676635815597525, 7.578235425592629, 12.963383352041525, 4.750215672851867, 4.230503260698701, 3.6832504089926226, 21.866713143916467, 23.991419682436778, 9.527512501253655, 27.23856013753358, 19.369464707376935, 16.141391987403427, 15.898130661570265, 5.81076798695293, 12.05621784825577, 15.9473740793072, 12.330120525561952, 14.6176672927687, 11.060041487193192, 12.848593849918354, 10.355733938004258, 7.933132985806454, 25.521895298561265, 11.540593872477709, 9.238503253728576, 11.192197798697343, 9.284903282086466, 8.752056369024748, 8.643406544806265, 8.323418825390767, 4.480521711202134, 5.168158180697797, 3.6883566492023587, 2.8303011421859865, 2.773082737345512, 2.6856176003062853, 2.6861593525702236, 2.680086922470384, 2.6559133167111426, 4.58604084688806, 3.917396345575761, 1.9223166880887457, 1.9222505358200128, 1.9221937841368368, 1.9197969829896953, 1.9187550847571528, 1.916104119630143, 2.5501008479388614, 1.910633675175772, 1.884509621998418, 1.8818386371058706, 2.5096163558140305, 2.499357009358155, 1.8573809247609137, 1.8571076114400964, 6.774512483977524, 1.8379180568751219, 7.956876354928153, 1.7975778811470795, 1.7706351066016979, 14.0267947575751, 4.6042086970709475, 6.673616347366517, 12.04916223871162, 3.44842376318767, 8.12813691894111, 4.845036379562707, 8.13805418853367, 5.528159175311778, 6.10383223363743, 2.8237673870541937, 4.2801259471900535, 4.605485087687656, 12.765362909676291, 14.333150788454605, 13.985897336025443, 13.190528415199987, 7.765087697417887, 14.13767292336806, 11.390326726173061, 10.475963104350962, 11.411005925378948, 13.436777798369155, 5.490570759878104, 10.258359742562126, 7.669189190624729, 10.537224979575273, 18.55848002609456, 9.674017255334117, 8.37359595658384, 6.738751960179889, 9.453128562978108, 6.33498984711979, 6.437284930129579, 8.113711546319324, 6.427437990843776, 6.744654135230201, 6.389841219334053, 6.649436518847161, 3.5766538189962502, 4.871753139572122, 2.7042395670740156, 2.703894286378568, 2.6969961317261197, 5.331938542844959, 5.317108546350044, 3.314025995391344, 2.6424059774141937, 2.6331291487436594, 2.6334694566014387, 2.5344751771351723, 4.998917549862747, 1.8318362553946514, 1.8318246521067583, 1.8318246521067583, 1.831822662971691, 1.8318216684041573, 1.8318150379539326, 1.831812717296354, 1.8318115569675648, 1.8317792335227197, 1.8317785704776972, 1.8317735976400287, 1.8315332438193859, 1.830660179286058, 1.8302071537744602, 1.825738727606827, 1.8248192499219267, 3.0319646537005616, 6.447595005289097, 5.73887944167896, 9.0049278307674, 10.252812378338712, 2.8775590386620493, 3.2398332465128137, 8.708856347751977, 11.013060464139688, 3.2454422758803387, 9.668355430208255, 6.579654345458054, 8.55199713460784, 3.5149982569249594, 7.099528056220535, 2.2842743091025213, 3.4216332296994034, 11.553067537009255, 9.703293261576892, 16.176952566699004, 7.824968267477277, 7.377450007836082, 11.432996713891448, 10.18684403991881, 4.342666418222519, 4.2611539838185095, 6.818115835606744, 4.192161828573667, 7.058063872695795, 8.175312637761378, 8.04663681634205, 10.88445757767283, 9.922423011050654, 9.517282610975151, 7.2696183327879185, 7.177943075802109, 7.166059319864507, 7.793450422334503, 6.458699683325306, 6.23378088776042, 6.323512096740369, 7.933247360262298, 5.090003618574537, 13.05355079639179, 4.12954003529779, 2.7235146896810107, 2.661135567154632, 5.996565544688992, 3.749521774533457, 5.590575332022162, 1.8448969013891754, 1.8448534451011085, 1.8448455151215342, 1.844787309071459, 1.8447381431980985, 1.8441841548250393, 1.8268271741324482, 1.826745812542016, 1.7828316474543464, 2.3542174441019204, 13.425589911708483, 1.741088869373706, 3.4931747172218395, 5.751538057420884, 2.302752035264439, 1.7107752536542913, 1.6969518718599992, 1.6978587443241138, 9.599029020009269, 4.46392062921378, 2.6611492067194997, 10.632819855612645, 3.167661743664992, 10.322094073567547, 18.973497512832463, 8.438845729162468, 12.974560587051576, 7.760666263189708, 3.7660868674657606, 2.6509266700502963, 4.277896630766872, 3.6598682802593014, 8.283987184840843, 6.687210938552519, 6.688003936509947, 9.333897448524448, 5.775293738631961, 4.384155502269568, 16.031551218578745, 27.129429484312745, 10.113751306208421, 7.933748534971392, 9.012813209960244, 7.744286097381076, 10.410332542286469, 7.62669909145693, 9.298501191696694, 8.302721602985486, 6.798449520028679, 8.739898839322041, 6.570232955059677, 6.905872829732063, 6.208347385589891, 3.4841266907335906, 2.620724040369393, 1.8177876867773464, 1.8177864471677485, 1.8177786996077614, 1.8177759104861662, 1.817774825827768, 1.8177721916573724, 1.8177604153661922, 1.8177362429790327, 1.8176720931823402, 1.8174615145018935, 2.396491989908806, 1.793958206622927, 1.7931490514578847, 1.7869362831043083, 1.7715296402653573, 1.7565684821256589, 1.7561158696712182, 1.7563286176684614, 1.7536589634481403, 3.4839503562682865, 1.7185078189335163, 1.692785454923073, 3.3549104060511876, 2.205562206247545, 1.6242149005021196, 2.6079780645811783, 2.611019756632075, 5.146470123053339, 16.710415869269145, 9.115115889570811, 7.308485928784345, 7.777430239677558, 5.948773036140849, 3.665654190545827, 11.81023788908098, 7.696072802351658, 6.0798549332681215, 9.297093677569492, 12.785142493070902, 17.30338683926307, 13.315758621070243, 5.905731931486662, 4.292376320964723, 12.09826737720573, 7.749312175167934, 9.878597638977855, 7.285820906895972, 3.3525325249399773, 3.3339882752574903, 4.792497123148029, 25.44739256982319, 5.871756711626865, 9.77859957232323, 4.960709046561806, 5.724480554712363, 10.70676469642357, 10.532778051697882, 8.480506433182748, 8.089128213660196, 6.867378910826827, 6.502328759554502, 7.946649345889645, 6.819583283559818, 5.776700348634349, 5.892795365722767, 5.881392816836298, 3.550498137639619, 2.7544586992338034, 1.8658580604213462, 1.8658409078208502, 1.8658389345128286, 1.8658333181746132, 1.865805236483536, 1.8657848962316206, 1.8656815252498713, 1.838218845719724, 1.8366907463463478, 1.8339947522100075, 1.832210881758441, 1.8310999093422553, 2.417233108940485, 1.8092039317411663, 1.8091620368939376, 1.8088041091773963, 1.8082963618441348, 1.8075469601746843, 3.5694761998483955, 3.5281657553798973, 3.5257258359075965, 2.3424382078244053, 1.7408102900543758, 2.7541192902540805, 3.900983143494989, 3.6430468910264318, 2.6069202265866056, 3.64308332132837, 22.62702325573638, 26.3300857297614, 4.046013693439602, 12.584564862486653, 6.7645624368813735, 5.277896460242578, 3.628931059782987, 11.856508921284975, 3.3089576461441297, 3.31332655010405, 13.053453207014268, 5.425764019950616, 6.879259599503121, 2.5777550376125533, 4.358525877655698, 11.471876579079677, 4.681032715208497, 7.401213536177092, 9.336119162205017, 6.072778932976012, 8.34423011699441, 5.624861691759033, 9.220865830307016, 7.035130289375249, 4.129679524870521, 4.591150659923549, 11.627238459068069, 5.819822095610687, 4.913705767626416, 7.839372921019964, 5.495891744009658, 4.329838836394583, 5.4558020182419344, 5.279584397565707, 4.982552662986486, 5.55997446663378, 5.394033226962577, 4.678168382718618, 4.769832486940035, 8.394584984500186, 2.6746065061698365, 3.309135745819063, 3.2728204127259266, 2.5937361391839273, 9.455682633070962, 2.498864628507407, 1.8119029780324216, 1.8118924430359309, 1.8118767072183877, 1.8118509698218976, 1.8118078963552329, 2.396414588076835, 3.547428031633122, 1.7509324192912492, 1.7509278852421266, 1.7509469549193186, 1.7506489078667002, 1.7509050816421277, 2.8700632295436783, 1.7148203182823145, 7.9431521168990304, 1.6259256178300923, 3.1746337120144648, 2.5977890456819943, 2.5903689409384616, 2.5847221828194122, 9.396319661452527, 2.0544301990813816, 2.542016774259891, 12.542361926408603, 3.978031210856248, 3.415687767161735, 6.746688564811413, 19.656865358066963, 8.39176267227575, 7.730272109582097, 5.838492388093547, 13.033773905502732, 3.3500566059856807, 2.9786155666757357, 11.217841357989787, 7.442922212387745, 6.490735090829712, 8.513150369056364, 3.531267613725062, 5.484305806074071, 10.199047987985567, 4.054315787217798, 13.437688338046334, 8.158525317815855, 10.758307478150392, 11.372982650109265, 9.823290533910901, 5.904863932820446, 7.664602008925343, 8.341225627337625, 7.399553232403691, 8.3611450386771, 7.65256544204868, 4.874873061736018, 5.245693736442481, 5.07209993122908, 5.325163348958277], \"Total\": [78.0, 65.0, 68.0, 243.0, 129.0, 73.0, 86.0, 39.0, 52.0, 53.0, 43.0, 30.0, 57.0, 36.0, 29.0, 29.0, 34.0, 86.0, 22.0, 37.0, 43.0, 22.0, 31.0, 35.0, 52.0, 31.0, 30.0, 34.0, 20.0, 48.0, 9.070335165198772, 65.31212140314736, 29.03165001445366, 78.85382335599147, 68.95313906892316, 5.437519019660252, 4.528263965326541, 4.519028080919715, 3.617809294939504, 3.617350782970274, 43.51733883420761, 8.108704539184695, 8.108615955949054, 3.6130203362754174, 19.865096189134402, 2.7080907299010204, 2.7080871459657985, 2.708076418366502, 2.7080738073946873, 2.7080568545620367, 2.7080529757505563, 2.7079917775785396, 2.707940290029389, 15.314672625396653, 2.7072539788157135, 2.7063718245707054, 2.7059558945156827, 2.7044906491929446, 2.7064538636744664, 2.705000013145482, 31.495391512152015, 30.664198578350142, 34.23375752841427, 8.089019768164581, 8.107181147945225, 16.241161613344417, 129.72540252746293, 19.855522975756603, 243.78732950916577, 86.08110639757152, 5.3974048960103085, 17.18482475198907, 5.416192238128156, 11.675133705543153, 8.169822467078447, 21.585635078378594, 13.486717624384035, 20.64652297315509, 97.94304692462022, 83.96784307683784, 37.52215398912597, 40.34106624663783, 57.96443720873964, 24.059791011666174, 37.364010854249784, 49.92399129430194, 36.703717854591844, 29.335054359632434, 25.023927178183623, 47.383597798145004, 81.49759921361289, 6.225946975028829, 4.445628225991602, 8.920188232504414, 3.5560613931680596, 22.257799455867413, 8.030779482073907, 4.444214661476128, 4.453865168134005, 4.455398214581957, 17.7844231174338, 6.232729299535348, 2.666410648601463, 2.666401577962928, 2.666391682355155, 2.6663727794168097, 2.666353986935806, 2.666349964963556, 2.6657691981995626, 2.6662609152351315, 2.6658279784841876, 2.6659115873994996, 11.5633659434854, 2.6661071256630167, 2.6669165873922642, 6.215072985277718, 2.6667494328254957, 7.996758560347593, 11.572288544841715, 23.09997488461115, 2.6705414261701454, 9.736550652699822, 19.543357460592308, 57.96443720873964, 49.92399129430194, 17.729685831991976, 25.893271171354634, 36.703717854591844, 15.134746056095429, 10.6835237877157, 23.951437164570656, 9.84091750612212, 13.338336821294408, 86.93445662278569, 10.6191862069153, 16.04307747352028, 56.856984504770374, 52.817104395200914, 41.686648396403065, 15.235575184788463, 37.37702030321841, 87.83216680515726, 41.68719618764605, 34.554897613086574, 55.28683619293271, 38.81709766768733, 26.63817904592737, 55.20648727715973, 47.85309743876007, 81.49759921361289, 97.94304692462022, 71.55934591789715, 46.339867228096736, 43.7610816712225, 83.96784307683784, 6.210774977280623, 7.093186735630904, 7.106492534155485, 4.434912591189148, 30.983210138770716, 29.210123316967426, 5.320125755319977, 3.547751764787689, 7.107669660063543, 5.318771530600256, 3.5477347113061457, 3.5470221828726527, 36.280321952373725, 3.5496208716190494, 2.660746781805346, 2.6607440617664837, 2.660735090479649, 2.660732561900885, 2.6607309820173213, 2.660715217940046, 2.660715532441064, 2.6607091056597896, 2.6605596092979504, 2.660546509970988, 2.6599234376502956, 2.6607025929777732, 2.6606875172445084, 2.660507073029928, 2.661159772039236, 2.6611250235920254, 5.321435481994489, 7.079801959982928, 73.38184790062925, 5.348060756592631, 3.5545752859365405, 7.934544678335811, 28.2253304800306, 5.327424718641257, 18.606768834983118, 11.445453545692718, 10.683405867299564, 34.45097190827673, 4.448586319772041, 34.554897613086574, 13.291795341952538, 16.040495410174817, 14.212024761844509, 56.64243545532602, 56.031733423931186, 81.49759921361289, 56.856984504770374, 58.25574055996164, 39.41055756126714, 16.851020043872293, 97.94304692462022, 47.75575882192816, 55.28683619293271, 86.93445662278569, 86.08110639757152, 243.78732950916577, 87.83216680515726, 33.82259514995859, 129.72540252746293, 35.50853780462291, 51.33976793686031, 50.42283886582224, 67.5317905941782, 43.18149719787475, 28.516970316601, 71.55934591789715, 39.17827837464943, 12.571783376225477, 22.41314794609308, 7.178566970464893, 5.3804022045362005, 5.3789114823046145, 4.480958305542028, 3.5834587645456897, 9.868877970388349, 8.08739008016927, 3.5827785888068955, 3.582246075646399, 3.5825661489774894, 3.5823407205276183, 4.472157962797867, 3.5805389685558895, 2.684625172574664, 2.6846167673424723, 2.684617550650288, 2.684611291914895, 2.6846095156941043, 2.6845978410517892, 2.684596972999319, 2.684535506077899, 2.6845397797322383, 2.6845100181507644, 2.684474164478901, 2.6844282336655474, 2.684412825165173, 2.6844118788116353, 2.6845869491946446, 4.4889414741194456, 14.377918655319327, 15.15888005748902, 37.398902872307055, 23.121916826747462, 14.275159881629198, 9.839842004148569, 13.338701441117914, 25.91206318824678, 8.028020296381884, 7.162487538072577, 6.234626368133691, 59.72166776003557, 67.5317905941782, 21.436712361157333, 83.96784307683784, 63.02626680606768, 50.49428137162096, 52.755657846936515, 11.562141633531809, 37.32536851305129, 60.42101509222294, 40.80047923718881, 55.20648727715973, 37.275052981900444, 51.37824048420282, 34.622468429610905, 21.281528800180368, 243.78732950916577, 47.85309743876007, 32.62953899146061, 87.83216680515726, 50.42283886582224, 43.38417903537943, 58.25574055996164, 40.24515472088508, 5.458635169277742, 6.367091499120719, 4.547327952122557, 3.6324608491986994, 3.6296748045795386, 3.6282144377314682, 3.632247145886555, 3.6279555252618554, 3.625250448831334, 6.371963186548497, 5.444588085909993, 2.7178009843359607, 2.717740682612667, 2.7176912334096284, 2.7177204897183733, 2.717699772171345, 2.7176402779328517, 3.623036771309902, 2.717004026215744, 2.7154417176087797, 2.7152757731665873, 3.6214044706687445, 3.621111572567595, 2.7139831458041606, 2.71522979380801, 9.968068748492009, 2.7137342642702174, 11.777557001116424, 2.7154132317845407, 2.7167241082626563, 22.608990977724623, 7.216021042104957, 10.892558507042812, 20.77348823870507, 5.429951771911441, 14.416518527775786, 8.126691022885694, 15.353910200441954, 9.952561193711615, 11.678992078608056, 4.510700947926318, 8.099803335595825, 9.009482228274209, 38.51975514361065, 48.34774061703432, 47.383597798145004, 43.7610816712225, 20.512625231551752, 52.755657846936515, 39.41055756126714, 34.51768317562818, 39.90026196733556, 56.031733423931186, 12.510250799101515, 40.24515472088508, 28.516970316601, 59.72166776003557, 243.78732950916577, 55.20648727715973, 41.11005287037851, 23.150468907020212, 86.93445662278569, 21.458234898153485, 24.219422884493774, 129.72540252746293, 28.461518426002662, 73.38184790062925, 36.42323117883427, 7.8767248490381006, 4.376449787829827, 6.137679435883893, 3.504034507966066, 3.5037425824090276, 3.5042834917471963, 7.01629233653578, 7.017359996530018, 4.384969844877216, 3.5048086271622347, 3.505408076877016, 3.5065720674392717, 3.5054204178362016, 6.986779897583353, 2.631629895250256, 2.631618244589977, 2.631619137228432, 2.631617200506736, 2.6316164440243788, 2.631609998743732, 2.6316072835242514, 2.6316073846258736, 2.6315787876816703, 2.6315778746333844, 2.6315726236737937, 2.631350142827534, 2.631650133324552, 2.6316791572067086, 2.6319257669125293, 2.631952763381991, 4.384591063503266, 9.69695858823342, 8.779502196609373, 15.859786456426203, 18.414857668857277, 4.386510606530139, 5.264486291448228, 17.59441034727032, 23.86639044393439, 5.288035826162367, 21.16724460288202, 13.114824565518994, 18.511840401814624, 6.15452930798625, 15.930064433855117, 3.5235108960009365, 6.157805708857828, 34.51768317562818, 27.360189620510997, 63.02626680606768, 21.958937267213614, 21.281528800180368, 47.383597798145004, 39.90026196733556, 8.77854695126914, 8.834603455087459, 22.93212271124806, 8.776244317033072, 28.536789493691803, 41.11005287037851, 44.49743973609221, 97.94304692462022, 83.96784307683784, 81.49759921361289, 37.76040525836392, 37.275052981900444, 37.398902872307055, 56.031733423931186, 46.339867228096736, 35.916975297815554, 71.55934591789715, 8.793991497572522, 6.168631227880253, 16.7057221766299, 5.2928493146216296, 3.5226912127450425, 3.5231474034668837, 7.944440660000471, 5.28920673050696, 7.909128475596502, 2.6440694142172534, 2.6440304838852295, 2.644023457359011, 2.6439697474144266, 2.643932902840341, 2.6434253548801276, 2.64444816212627, 2.6447438309079248, 2.6445970103361334, 3.5289793699061764, 20.25966952497342, 2.6422368407223433, 5.3181570212765275, 8.789866893491139, 3.526911967718992, 2.6415585841689477, 2.6414824397388594, 2.6442247529261356, 14.985169093541893, 7.0936497107734215, 4.411444416056911, 18.52527843632423, 5.293196206431432, 20.21322691261163, 43.38417903537943, 17.71065987650394, 34.572847823198636, 18.608196455993728, 7.091109937792278, 4.396646415440849, 8.817457531381924, 7.057241671590049, 23.150468907020212, 17.644439622427914, 18.401722118136426, 31.593651569905685, 14.935163429154727, 9.684967907276475, 86.08110639757152, 243.78732950916577, 44.49743973609221, 35.49097262841934, 50.49428137162096, 37.364010854249784, 87.83216680515726, 41.68719618764605, 81.49759921361289, 60.42101509222294, 41.686648396403065, 129.72540252746293, 36.42323117883427, 86.93445662278569, 37.76040525836392, 4.351228136348313, 3.485370069692226, 2.6182506996006096, 2.6182498035710995, 2.6182424033158767, 2.6182397754334588, 2.6182382796112633, 2.61823623840482, 2.618225865947697, 2.618204480800601, 2.6181480559607655, 2.6179596922887676, 3.497615529529233, 2.6184083785609666, 2.6187085305347737, 2.6184461763644022, 2.619398659759141, 2.617921867636296, 2.6186367827079424, 2.6195760571172793, 2.619569618774757, 5.249299971439542, 2.6190160167429446, 2.6245900386074323, 5.244071555555274, 3.49704648797354, 2.6230946691635744, 4.371615437067409, 4.383401696469737, 8.77224179271579, 31.5394849604083, 16.639793256841813, 14.026542914642752, 18.401722118136426, 13.16054552864692, 7.013738248165994, 34.45097190827673, 19.347235334972577, 14.13739685729553, 26.43848582781893, 43.18149719787475, 73.38184790062925, 51.37824048420282, 15.760766638549109, 9.710684611347087, 50.42283886582224, 25.3779238755238, 37.32536851305129, 24.059791011666174, 7.056067498032612, 7.101761879834998, 13.228217903502703, 243.78732950916577, 20.21322691261163, 55.20648727715973, 15.05691130251167, 21.958937267213614, 87.83216680515726, 86.93445662278569, 59.72166776003557, 53.05076546820916, 35.50853780462291, 36.029827253735846, 81.49759921361289, 47.85309743876007, 32.62953899146061, 71.55934591789715, 129.72540252746293, 4.44349869722311, 3.552636896243179, 2.664033019275188, 2.6640181662272022, 2.6640159706374953, 2.6640117150989955, 2.663986479031786, 2.6639680322893255, 2.6638754841121606, 2.6648169618604487, 2.664061313334709, 2.6640493280857562, 2.6631376352672773, 2.6631063631497813, 3.556357730623897, 2.664653782140959, 2.664652747901143, 2.6646598483418944, 2.664656099912498, 2.664666829609305, 5.349504086683793, 5.331960852682112, 5.341306146073811, 3.5538577953034665, 2.664001249141141, 4.4154331252865315, 6.257989383272596, 6.185823024046361, 4.441637522636145, 6.209420129817559, 39.17827837464943, 53.05076546820916, 7.078215517048227, 30.1642956479457, 15.970210855906446, 11.490092490823287, 7.069338300318187, 38.51975514361065, 6.223395452317363, 6.241227716728885, 48.34774061703432, 13.33195415926051, 19.448881130797528, 4.432878357126252, 10.661065007909528, 56.64243545532602, 12.513990964183106, 27.464208084191227, 41.68719618764605, 20.26633249061698, 38.81709766768733, 18.571438589477015, 71.55934591789715, 46.339867228096736, 11.488825910114846, 15.835573280312188, 243.78732950916577, 37.364010854249784, 20.441907161777195, 129.72540252746293, 35.916975297815554, 13.33378866913713, 39.41055756126714, 34.622468429610905, 29.335054359632434, 58.25574055996164, 50.42283886582224, 36.029827253735846, 97.94304692462022, 10.425893622158373, 3.4753906909971675, 4.339575240653348, 4.343792369102337, 3.479933296758377, 13.05729096313769, 3.480304061500683, 2.6126475663766, 2.6126388161999117, 2.6126251756975054, 2.6126018077075317, 2.6125645378403313, 3.4778970895954586, 5.225791590423464, 2.6127716897493976, 2.6127706165196765, 2.6144006156026576, 2.6139896201198436, 2.616244849985017, 4.360229543893391, 2.615239462943751, 12.25849179502646, 2.620221453759776, 5.22808304505803, 4.357523061512862, 4.351629036667503, 4.349905500522506, 15.818237209223247, 3.4938237007302315, 4.351723726361222, 22.722856266253352, 7.034188610384858, 6.156628925680019, 14.026860699622379, 52.817104395200914, 19.309927332444524, 17.55911461657054, 12.338475660879654, 35.916975297815554, 6.101585198933861, 5.243619065431873, 31.593651569905685, 20.316273398766306, 16.70798767718729, 25.3779238755238, 6.995409433301458, 14.127265907398975, 38.81709766768733, 8.749769781024657, 71.55934591789715, 30.860634066007368, 58.25574055996164, 67.5317905941782, 50.49428137162096, 18.59394046842362, 37.76040525836392, 52.755657846936515, 40.80047923718881, 60.42101509222294, 47.75575882192816, 14.873531527544575, 19.41260565649907, 18.541865516170184, 41.686648396403065], \"Category\": [\"Default\", \"Default\", \"Default\", \"Default\", \"Default\", \"Default\", \"Default\", \"Default\", \"Default\", \"Default\", \"Default\", \"Default\", \"Default\", \"Default\", \"Default\", \"Default\", \"Default\", \"Default\", \"Default\", \"Default\", \"Default\", \"Default\", \"Default\", \"Default\", \"Default\", \"Default\", \"Default\", \"Default\", \"Default\", \"Default\", \"Topic1\", \"Topic1\", \"Topic1\", \"Topic1\", \"Topic1\", \"Topic1\", \"Topic1\", \"Topic1\", \"Topic1\", \"Topic1\", \"Topic1\", \"Topic1\", \"Topic1\", \"Topic1\", \"Topic1\", \"Topic1\", \"Topic1\", \"Topic1\", \"Topic1\", \"Topic1\", \"Topic1\", \"Topic1\", \"Topic1\", \"Topic1\", \"Topic1\", \"Topic1\", \"Topic1\", \"Topic1\", \"Topic1\", \"Topic1\", \"Topic1\", \"Topic1\", \"Topic1\", \"Topic1\", \"Topic1\", \"Topic1\", \"Topic1\", \"Topic1\", \"Topic1\", \"Topic1\", \"Topic1\", \"Topic1\", \"Topic1\", \"Topic1\", \"Topic1\", \"Topic1\", \"Topic1\", \"Topic1\", \"Topic1\", \"Topic1\", \"Topic1\", \"Topic1\", \"Topic1\", \"Topic1\", \"Topic1\", \"Topic1\", \"Topic1\", \"Topic1\", \"Topic1\", \"Topic1\", \"Topic1\", \"Topic2\", \"Topic2\", \"Topic2\", \"Topic2\", \"Topic2\", \"Topic2\", \"Topic2\", \"Topic2\", \"Topic2\", \"Topic2\", \"Topic2\", \"Topic2\", \"Topic2\", \"Topic2\", \"Topic2\", \"Topic2\", \"Topic2\", \"Topic2\", \"Topic2\", \"Topic2\", \"Topic2\", \"Topic2\", \"Topic2\", \"Topic2\", \"Topic2\", \"Topic2\", \"Topic2\", \"Topic2\", \"Topic2\", \"Topic2\", \"Topic2\", \"Topic2\", \"Topic2\", \"Topic2\", \"Topic2\", \"Topic2\", \"Topic2\", \"Topic2\", \"Topic2\", \"Topic2\", \"Topic2\", \"Topic2\", \"Topic2\", \"Topic2\", \"Topic2\", \"Topic2\", \"Topic2\", \"Topic2\", \"Topic2\", \"Topic2\", \"Topic2\", \"Topic2\", \"Topic2\", \"Topic2\", \"Topic2\", \"Topic2\", \"Topic2\", \"Topic2\", \"Topic2\", \"Topic2\", \"Topic2\", \"Topic2\", \"Topic2\", \"Topic2\", \"Topic3\", \"Topic3\", \"Topic3\", \"Topic3\", \"Topic3\", \"Topic3\", \"Topic3\", \"Topic3\", \"Topic3\", \"Topic3\", \"Topic3\", \"Topic3\", \"Topic3\", \"Topic3\", \"Topic3\", \"Topic3\", \"Topic3\", \"Topic3\", \"Topic3\", \"Topic3\", \"Topic3\", \"Topic3\", \"Topic3\", \"Topic3\", \"Topic3\", \"Topic3\", \"Topic3\", \"Topic3\", \"Topic3\", \"Topic3\", \"Topic3\", \"Topic3\", \"Topic3\", \"Topic3\", \"Topic3\", \"Topic3\", \"Topic3\", \"Topic3\", \"Topic3\", \"Topic3\", \"Topic3\", \"Topic3\", \"Topic3\", \"Topic3\", \"Topic3\", \"Topic3\", \"Topic3\", \"Topic3\", \"Topic3\", \"Topic3\", \"Topic3\", \"Topic3\", \"Topic3\", \"Topic3\", \"Topic3\", \"Topic3\", \"Topic3\", \"Topic3\", \"Topic3\", \"Topic3\", \"Topic3\", \"Topic3\", \"Topic3\", \"Topic3\", \"Topic3\", \"Topic3\", \"Topic3\", \"Topic3\", \"Topic3\", \"Topic3\", \"Topic3\", \"Topic4\", \"Topic4\", \"Topic4\", \"Topic4\", \"Topic4\", \"Topic4\", \"Topic4\", \"Topic4\", \"Topic4\", \"Topic4\", \"Topic4\", \"Topic4\", \"Topic4\", \"Topic4\", \"Topic4\", \"Topic4\", \"Topic4\", \"Topic4\", \"Topic4\", \"Topic4\", \"Topic4\", \"Topic4\", \"Topic4\", \"Topic4\", \"Topic4\", \"Topic4\", \"Topic4\", \"Topic4\", \"Topic4\", \"Topic4\", \"Topic4\", \"Topic4\", \"Topic4\", \"Topic4\", \"Topic4\", \"Topic4\", \"Topic4\", \"Topic4\", \"Topic4\", \"Topic4\", \"Topic4\", \"Topic4\", \"Topic4\", \"Topic4\", \"Topic4\", \"Topic4\", \"Topic4\", \"Topic4\", \"Topic4\", \"Topic4\", \"Topic4\", \"Topic4\", \"Topic4\", \"Topic4\", \"Topic4\", \"Topic4\", \"Topic4\", \"Topic4\", \"Topic4\", \"Topic4\", \"Topic4\", \"Topic4\", \"Topic4\", \"Topic4\", \"Topic4\", \"Topic4\", \"Topic5\", \"Topic5\", \"Topic5\", \"Topic5\", \"Topic5\", \"Topic5\", \"Topic5\", \"Topic5\", \"Topic5\", \"Topic5\", \"Topic5\", \"Topic5\", \"Topic5\", \"Topic5\", \"Topic5\", \"Topic5\", \"Topic5\", \"Topic5\", \"Topic5\", \"Topic5\", \"Topic5\", \"Topic5\", \"Topic5\", \"Topic5\", \"Topic5\", \"Topic5\", \"Topic5\", \"Topic5\", \"Topic5\", \"Topic5\", \"Topic5\", \"Topic5\", \"Topic5\", \"Topic5\", \"Topic5\", \"Topic5\", \"Topic5\", \"Topic5\", \"Topic5\", \"Topic5\", \"Topic5\", \"Topic5\", \"Topic5\", \"Topic5\", \"Topic5\", \"Topic5\", \"Topic5\", \"Topic5\", \"Topic5\", \"Topic5\", \"Topic5\", \"Topic5\", \"Topic5\", \"Topic5\", \"Topic5\", \"Topic5\", \"Topic5\", \"Topic5\", \"Topic5\", \"Topic5\", \"Topic5\", \"Topic5\", \"Topic5\", \"Topic5\", \"Topic5\", \"Topic5\", \"Topic5\", \"Topic5\", \"Topic6\", \"Topic6\", \"Topic6\", \"Topic6\", \"Topic6\", \"Topic6\", \"Topic6\", \"Topic6\", \"Topic6\", \"Topic6\", \"Topic6\", \"Topic6\", \"Topic6\", \"Topic6\", \"Topic6\", \"Topic6\", \"Topic6\", \"Topic6\", \"Topic6\", \"Topic6\", \"Topic6\", \"Topic6\", \"Topic6\", \"Topic6\", \"Topic6\", \"Topic6\", \"Topic6\", \"Topic6\", \"Topic6\", \"Topic6\", \"Topic6\", \"Topic6\", \"Topic6\", \"Topic6\", \"Topic6\", \"Topic6\", \"Topic6\", \"Topic6\", \"Topic6\", \"Topic6\", \"Topic6\", \"Topic6\", \"Topic6\", \"Topic6\", \"Topic6\", \"Topic6\", \"Topic6\", \"Topic6\", \"Topic6\", \"Topic6\", \"Topic6\", \"Topic6\", \"Topic6\", \"Topic6\", \"Topic6\", \"Topic6\", \"Topic6\", \"Topic6\", \"Topic6\", \"Topic6\", \"Topic6\", \"Topic6\", \"Topic6\", \"Topic6\", \"Topic6\", \"Topic6\", \"Topic6\", \"Topic6\", \"Topic6\", \"Topic6\", \"Topic6\", \"Topic7\", \"Topic7\", \"Topic7\", \"Topic7\", \"Topic7\", \"Topic7\", \"Topic7\", \"Topic7\", \"Topic7\", \"Topic7\", \"Topic7\", \"Topic7\", \"Topic7\", \"Topic7\", \"Topic7\", \"Topic7\", \"Topic7\", \"Topic7\", \"Topic7\", \"Topic7\", \"Topic7\", \"Topic7\", \"Topic7\", \"Topic7\", \"Topic7\", \"Topic7\", \"Topic7\", \"Topic7\", \"Topic7\", \"Topic7\", \"Topic7\", \"Topic7\", \"Topic7\", \"Topic7\", \"Topic7\", \"Topic7\", \"Topic7\", \"Topic7\", \"Topic7\", \"Topic7\", \"Topic7\", \"Topic7\", \"Topic7\", \"Topic7\", \"Topic7\", \"Topic7\", \"Topic7\", \"Topic7\", \"Topic7\", \"Topic7\", \"Topic7\", \"Topic7\", \"Topic7\", \"Topic7\", \"Topic7\", \"Topic7\", \"Topic7\", \"Topic7\", \"Topic7\", \"Topic7\", \"Topic7\", \"Topic7\", \"Topic8\", \"Topic8\", \"Topic8\", \"Topic8\", \"Topic8\", \"Topic8\", \"Topic8\", \"Topic8\", \"Topic8\", \"Topic8\", \"Topic8\", \"Topic8\", \"Topic8\", \"Topic8\", \"Topic8\", \"Topic8\", \"Topic8\", \"Topic8\", \"Topic8\", \"Topic8\", \"Topic8\", \"Topic8\", \"Topic8\", \"Topic8\", \"Topic8\", \"Topic8\", \"Topic8\", \"Topic8\", \"Topic8\", \"Topic8\", \"Topic8\", \"Topic8\", \"Topic8\", \"Topic8\", \"Topic8\", \"Topic8\", \"Topic8\", \"Topic8\", \"Topic8\", \"Topic8\", \"Topic8\", \"Topic8\", \"Topic8\", \"Topic8\", \"Topic8\", \"Topic8\", \"Topic8\", \"Topic8\", \"Topic8\", \"Topic8\", \"Topic8\", \"Topic8\", \"Topic8\", \"Topic8\", \"Topic8\", \"Topic8\", \"Topic8\", \"Topic8\", \"Topic8\", \"Topic8\", \"Topic8\", \"Topic8\", \"Topic8\", \"Topic8\", \"Topic8\", \"Topic8\", \"Topic8\", \"Topic8\", \"Topic9\", \"Topic9\", \"Topic9\", \"Topic9\", \"Topic9\", \"Topic9\", \"Topic9\", \"Topic9\", \"Topic9\", \"Topic9\", \"Topic9\", \"Topic9\", \"Topic9\", \"Topic9\", \"Topic9\", \"Topic9\", \"Topic9\", \"Topic9\", \"Topic9\", \"Topic9\", \"Topic9\", \"Topic9\", \"Topic9\", \"Topic9\", \"Topic9\", \"Topic9\", \"Topic9\", \"Topic9\", \"Topic9\", \"Topic9\", \"Topic9\", \"Topic9\", \"Topic9\", \"Topic9\", \"Topic9\", \"Topic9\", \"Topic9\", \"Topic9\", \"Topic9\", \"Topic9\", \"Topic9\", \"Topic9\", \"Topic9\", \"Topic9\", \"Topic9\", \"Topic9\", \"Topic9\", \"Topic9\", \"Topic9\", \"Topic9\", \"Topic9\", \"Topic9\", \"Topic9\", \"Topic9\", \"Topic9\", \"Topic9\", \"Topic9\", \"Topic9\", \"Topic9\", \"Topic9\", \"Topic9\", \"Topic9\", \"Topic9\", \"Topic9\", \"Topic9\", \"Topic9\", \"Topic9\", \"Topic9\", \"Topic9\", \"Topic10\", \"Topic10\", \"Topic10\", \"Topic10\", \"Topic10\", \"Topic10\", \"Topic10\", \"Topic10\", \"Topic10\", \"Topic10\", \"Topic10\", \"Topic10\", \"Topic10\", \"Topic10\", \"Topic10\", \"Topic10\", \"Topic10\", \"Topic10\", \"Topic10\", \"Topic10\", \"Topic10\", \"Topic10\", \"Topic10\", \"Topic10\", \"Topic10\", \"Topic10\", \"Topic10\", \"Topic10\", \"Topic10\", \"Topic10\", \"Topic10\", \"Topic10\", \"Topic10\", \"Topic10\", \"Topic10\", \"Topic10\", \"Topic10\", \"Topic10\", \"Topic10\", \"Topic10\", \"Topic10\", \"Topic10\", \"Topic10\", \"Topic10\", \"Topic10\", \"Topic10\", \"Topic10\", \"Topic10\", \"Topic10\", \"Topic10\", \"Topic10\", \"Topic10\", \"Topic10\", \"Topic10\", \"Topic10\", \"Topic10\", \"Topic10\", \"Topic10\", \"Topic10\", \"Topic10\", \"Topic10\", \"Topic10\", \"Topic10\", \"Topic10\"], \"logprob\": [30.0, 29.0, 28.0, 27.0, 26.0, 25.0, 24.0, 23.0, 22.0, 21.0, 20.0, 19.0, 18.0, 17.0, 16.0, 15.0, 14.0, 13.0, 12.0, 11.0, 10.0, 9.0, 8.0, 7.0, 6.0, 5.0, 4.0, 3.0, 2.0, 1.0, -5.5411, -3.5819, -4.4078, -3.4201, -3.5613, -6.105, -6.3102, -6.3606, -6.5845, -6.5991, -4.1278, -5.8166, -5.817, -6.6485, -4.9541, -6.9642, -6.9642, -6.9642, -6.9642, -6.9643, -6.9643, -6.9643, -6.9643, -5.2344, -6.976, -6.9829, -6.9849, -6.9987, -6.9985, -7.0015, -4.5481, -4.5886, -4.506, -5.9291, -5.9332, -5.2803, -3.3305, -5.1652, -3.0239, -3.9437, -6.3606, -5.3824, -6.3713, -5.7263, -6.0333, -5.2434, -5.6495, -5.3779, -4.3358, -4.5831, -5.1442, -5.1439, -5.0412, -5.4689, -5.4677, -5.415, -5.5187, -5.5861, -5.617, -5.5955, -5.5887, -5.893, -6.2887, -5.6323, -6.5536, -4.7316, -5.7745, -6.3683, -6.3697, -6.3934, -5.0133, -6.0697, -6.943, -6.943, -6.943, -6.943, -6.943, -6.943, -6.9434, -6.9436, -6.9529, -6.961, -5.5049, -6.9773, -6.9773, -6.1433, -7.014, -5.9385, -5.5738, -4.8908, -7.0546, -5.7665, -5.0893, -4.1199, -4.2894, -5.241, -4.9092, -4.6274, -5.425, -5.7483, -5.0635, -5.8202, -5.5771, -4.0614, -5.8255, -5.5054, -4.5602, -4.7886, -4.9735, -5.6063, -5.1177, -4.6816, -5.0974, -5.2091, -4.9829, -5.2082, -5.3764, -5.0934, -5.1511, -5.0435, -5.007, -5.1398, -5.2534, -5.267, -5.2167, -5.8721, -5.7524, -5.7793, -6.2612, -4.3181, -4.3917, -6.1088, -6.5197, -5.8462, -6.1476, -6.5633, -6.5682, -4.2498, -6.5861, -6.9092, -6.9092, -6.9092, -6.9092, -6.9092, -6.9092, -6.9092, -6.9092, -6.9093, -6.9093, -6.9097, -6.9097, -6.9098, -6.915, -6.9165, -6.9184, -6.2624, -5.9981, -3.8498, -6.2772, -6.6473, -5.9436, -4.8709, -6.3083, -5.2441, -5.6794, -5.7406, -4.7818, -6.487, -4.8162, -5.616, -5.471, -5.5695, -4.5561, -4.5949, -4.3262, -4.7111, -4.7002, -5.0297, -5.5593, -4.4912, -4.9309, -4.8528, -4.6827, -4.7739, -4.3139, -4.9052, -5.3157, -4.8908, -5.3433, -5.2701, -5.2768, -5.2557, -5.3874, -5.465, -5.3343, -5.4259, -5.0805, -4.5339, -5.6777, -6.0041, -6.0067, -6.2418, -6.4864, -5.4783, -5.6948, -6.5094, -6.5096, -6.5109, -6.523, -6.3156, -6.5767, -6.8758, -6.8758, -6.8758, -6.8758, -6.8758, -6.8758, -6.8758, -6.8759, -6.8759, -6.8759, -6.8759, -6.8759, -6.876, -6.876, -6.8771, -6.3631, -5.244, -5.2254, -4.4375, -4.8807, -5.3477, -5.6918, -5.4858, -4.9489, -5.9529, -6.0688, -6.2073, -4.4261, -4.3334, -5.2569, -4.2064, -4.5474, -4.7297, -4.7449, -5.7514, -5.0215, -4.7418, -4.999, -4.8288, -5.1077, -4.9578, -5.1735, -5.44, -4.2715, -5.0652, -5.2877, -5.0959, -5.2827, -5.3418, -5.3543, -5.392, -5.8104, -5.6676, -6.005, -6.2698, -6.2902, -6.3222, -6.322, -6.3243, -6.3333, -5.7871, -5.9447, -6.6566, -6.6566, -6.6567, -6.6579, -6.6585, -6.6598, -6.374, -6.6627, -6.6765, -6.6779, -6.39, -6.3941, -6.691, -6.6911, -5.397, -6.7015, -5.2361, -6.7237, -6.7388, -4.6692, -5.7832, -5.412, -4.8211, -6.0722, -5.2148, -5.7322, -5.2136, -5.6003, -5.5012, -6.2721, -5.8562, -5.7829, -4.7634, -4.6476, -4.6721, -4.7306, -5.2605, -4.6613, -4.8774, -4.9611, -4.8756, -4.7121, -5.6071, -4.982, -5.2729, -4.9552, -4.3892, -5.0407, -5.1851, -5.4023, -5.0638, -5.464, -5.448, -5.2166, -5.4496, -5.4014, -5.4554, -5.3666, -5.9867, -5.6777, -6.2663, -6.2664, -6.269, -5.5874, -5.5902, -6.063, -6.2894, -6.293, -6.2928, -6.3312, -5.6519, -6.6558, -6.6558, -6.6558, -6.6558, -6.6558, -6.6558, -6.6558, -6.6558, -6.6559, -6.6559, -6.6559, -6.656, -6.6565, -6.6567, -6.6592, -6.6597, -6.1519, -5.3974, -5.5139, -5.0634, -4.9336, -6.2042, -6.0856, -5.0968, -4.8621, -6.0839, -4.9923, -5.3772, -5.115, -6.0041, -5.3011, -6.4351, -6.031, -4.8142, -4.9887, -4.4776, -5.2038, -5.2627, -4.8246, -4.94, -5.7927, -5.8116, -5.3416, -5.8279, -5.307, -5.16, -5.1759, -4.8738, -4.9663, -5.008, -5.2774, -5.2901, -5.2918, -5.2079, -5.3957, -5.4312, -5.4169, -5.1459, -5.5897, -4.6479, -5.7988, -6.2151, -6.2382, -5.4258, -5.8953, -5.4959, -6.6046, -6.6046, -6.6046, -6.6046, -6.6046, -6.6049, -6.6144, -6.6144, -6.6388, -6.3608, -4.6198, -6.6625, -5.9662, -5.4675, -6.3829, -6.68, -6.6881, -6.6876, -4.9553, -5.7209, -6.2382, -4.853, -6.064, -4.8827, -4.2739, -5.0841, -4.654, -5.1679, -5.8909, -6.2421, -5.7635, -5.9195, -5.1026, -5.3168, -5.3167, -4.9833, -5.4634, -5.739, -4.4424, -3.9164, -4.9031, -5.1458, -5.0183, -5.17, -4.8742, -5.1853, -4.9871, -5.1004, -5.3003, -5.0491, -5.3344, -5.2846, -5.3911, -5.9455, -6.2303, -6.5961, -6.5961, -6.5961, -6.5961, -6.5961, -6.5961, -6.5961, -6.5961, -6.5961, -6.5963, -6.3197, -6.6093, -6.6097, -6.6132, -6.6219, -6.6303, -6.6306, -6.6305, -6.632, -5.9455, -6.6522, -6.6673, -5.9833, -6.4027, -6.7087, -6.2351, -6.234, -5.5554, -4.3777, -4.9838, -5.2047, -5.1425, -5.4105, -5.8947, -4.7247, -5.153, -5.3887, -4.964, -4.6454, -4.3428, -4.6048, -5.4178, -5.7369, -4.7006, -5.1461, -4.9033, -5.2078, -5.984, -5.9895, -5.6266, -3.9571, -5.4235, -4.9135, -5.5922, -5.4489, -4.8228, -4.8392, -5.0559, -5.1032, -5.2669, -5.3215, -5.121, -5.2739, -5.4399, -5.42, -5.4219, -5.906, -6.1599, -6.5494, -6.5494, -6.5494, -6.5494, -6.5494, -6.5494, -6.5495, -6.5643, -6.5651, -6.5666, -6.5676, -6.5682, -6.2905, -6.5802, -6.5802, -6.5804, -6.5807, -6.5811, -5.9007, -5.9123, -5.913, -6.3219, -6.6188, -6.16, -5.8119, -5.8803, -6.2149, -5.8803, -4.054, -3.9024, -5.7754, -4.6406, -5.2614, -5.5096, -5.8842, -4.7002, -5.9765, -5.9752, -4.6041, -5.4819, -5.2446, -6.2262, -5.701, -4.7332, -5.6296, -5.1715, -4.9392, -5.3693, -5.0515, -5.4459, -4.9516, -5.2222, -5.7549, -5.649, -4.7198, -5.4118, -5.5811, -5.1139, -5.4691, -5.7076, -5.4764, -5.5093, -5.5672, -5.4575, -5.4878, -5.6302, -5.6108, -4.916, -6.0598, -5.8469, -5.8579, -6.0905, -4.797, -6.1278, -6.4492, -6.4492, -6.4492, -6.4493, -6.4493, -6.1696, -5.7774, -6.4835, -6.4835, -6.4834, -6.4836, -6.4835, -5.9893, -6.5043, -4.9713, -6.5575, -5.8884, -6.0889, -6.0918, -6.094, -4.8033, -6.3236, -6.1106, -4.5145, -5.6628, -5.8152, -5.1345, -4.0652, -4.9164, -4.9985, -5.2791, -4.4761, -5.8346, -5.9521, -4.6261, -5.0363, -5.1732, -4.902, -5.7819, -5.3417, -4.7213, -5.6438, -4.4455, -4.9445, -4.6679, -4.6124, -4.7588, -5.2678, -5.007, -4.9224, -5.0422, -4.92, -5.0086, -5.4595, -5.3862, -5.4198, -5.3712], \"loglift\": [30.0, 29.0, 28.0, 27.0, 26.0, 25.0, 24.0, 23.0, 22.0, 21.0, 20.0, 19.0, 18.0, 17.0, 16.0, 15.0, 14.0, 13.0, 12.0, 11.0, 10.0, 9.0, 8.0, 7.0, 6.0, 5.0, 4.0, 3.0, 2.0, 1.0, 1.9162, 1.9012, 1.8862, 1.8746, 1.8676, 1.864, 1.8418, 1.7934, 1.7919, 1.7775, 1.7613, 1.7527, 1.7524, 1.7293, 1.7193, 1.7018, 1.7018, 1.7018, 1.7018, 1.7018, 1.7018, 1.7018, 1.7018, 1.699, 1.6903, 1.6838, 1.6819, 1.6687, 1.6682, 1.6657, 1.6643, 1.6506, 1.623, 1.6427, 1.6363, 1.5945, 1.4664, 1.5087, 1.1421, 1.2633, 1.6158, 1.4358, 1.6016, 1.4786, 1.5286, 1.3469, 1.4111, 1.2569, 0.7422, 0.6488, 0.8932, 0.821, 0.5613, 1.0129, 0.5739, 0.3368, 0.5407, 0.6974, 0.8255, 0.2085, -0.327, 1.9406, 1.8817, 1.8417, 1.8401, 1.828, 1.8045, 1.8024, 1.7988, 1.7748, 1.7706, 1.7628, 1.7386, 1.7386, 1.7386, 1.7386, 1.7385, 1.7385, 1.7384, 1.738, 1.7289, 1.7208, 1.7096, 1.7044, 1.7041, 1.692, 1.6675, 1.6448, 1.6399, 1.6317, 1.6254, 1.6199, 1.6004, 1.4825, 1.4624, 1.5461, 1.4991, 1.432, 1.5203, 1.5453, 1.4228, 1.5555, 1.4945, 1.1357, 1.4741, 1.3816, 1.0616, 0.9069, 0.9586, 1.3324, 0.9235, 0.5053, 0.8347, 0.9107, 0.6669, 0.7952, 1.0036, 0.5578, 0.6431, 0.2182, 0.0709, 0.252, 0.5729, 0.6166, 0.0152, 1.9639, 1.9507, 1.922, 1.9116, 1.9107, 1.8961, 1.882, 1.8763, 1.8549, 1.8434, 1.8327, 1.828, 1.8212, 1.8094, 1.7745, 1.7745, 1.7745, 1.7745, 1.7745, 1.7745, 1.7745, 1.7745, 1.7744, 1.7744, 1.7743, 1.774, 1.774, 1.7688, 1.767, 1.7652, 1.7281, 1.707, 1.5169, 1.7084, 1.7467, 1.6474, 1.4511, 1.6812, 1.4946, 1.5453, 1.553, 1.341, 1.6827, 1.3036, 1.4591, 1.4162, 1.4388, 1.0695, 1.0415, 0.9355, 0.9106, 0.8973, 0.9586, 1.2786, 0.5867, 0.8653, 0.7969, 0.5144, 0.4331, -0.1479, 0.2817, 0.8255, -0.0939, 0.7492, 0.4537, 0.465, 0.194, 0.5095, 0.8468, 0.0575, 0.5683, 2.0504, 2.0187, 2.0135, 1.9754, 1.9731, 1.9207, 1.8996, 1.8947, 1.8772, 1.8768, 1.8767, 1.8754, 1.8633, 1.8489, 1.8101, 1.7989, 1.7989, 1.7989, 1.7989, 1.7989, 1.7989, 1.7989, 1.7989, 1.7989, 1.7989, 1.7989, 1.7989, 1.7989, 1.7989, 1.7977, 1.7976, 1.7526, 1.7183, 1.6032, 1.6408, 1.6561, 1.6841, 1.5858, 1.4586, 1.6265, 1.6247, 1.6249, 1.1465, 1.1163, 1.3403, 1.0254, 0.9714, 1.0108, 0.9518, 1.4632, 1.0211, 0.8192, 0.9546, 0.8224, 0.9362, 0.7652, 0.9443, 1.1644, -0.1055, 0.729, 0.8894, 0.091, 0.4592, 0.5504, 0.2432, 0.5753, 2.1547, 2.1435, 2.1428, 2.1026, 2.083, 2.0513, 2.0504, 2.0494, 2.041, 2.0233, 2.023, 2.0059, 2.0059, 2.0059, 2.0046, 2.0041, 2.0027, 2.001, 2.0001, 1.9869, 1.9855, 1.9854, 1.9814, 1.9729, 1.9723, 1.966, 1.9625, 1.96, 1.9397, 1.9241, 1.8748, 1.9028, 1.8623, 1.8075, 1.8982, 1.7791, 1.835, 1.7174, 1.7642, 1.7033, 1.8838, 1.7143, 1.6811, 1.2477, 1.1363, 1.1319, 1.1529, 1.3808, 1.0353, 1.1109, 1.1598, 1.1004, 0.9243, 1.5287, 0.9853, 1.0389, 0.6174, -0.2232, 0.6105, 0.761, 1.118, 0.1334, 1.1322, 1.0271, -0.4197, 0.8642, -0.0348, 0.6117, 2.2318, 2.1994, 2.1702, 2.1421, 2.142, 2.1393, 2.1266, 2.1237, 2.1211, 2.1187, 2.115, 2.1148, 2.0768, 2.0664, 2.0389, 2.0389, 2.0389, 2.0389, 2.0389, 2.0389, 2.0389, 2.0389, 2.0389, 2.0389, 2.0389, 2.0388, 2.0382, 2.038, 2.0354, 2.0349, 2.0323, 1.9931, 1.976, 1.8352, 1.8156, 1.9796, 1.9157, 1.6979, 1.6278, 1.913, 1.6176, 1.7114, 1.6289, 1.841, 1.593, 1.9678, 1.8136, 1.3066, 1.3645, 1.0412, 1.3693, 1.3418, 0.9794, 1.0359, 1.6973, 1.672, 1.1882, 1.6623, 1.0041, 0.786, 0.691, 0.2041, 0.2655, 0.2537, 0.7536, 0.7539, 0.7489, 0.4285, 0.4306, 0.6499, -0.0251, 2.3423, 2.2531, 2.1986, 2.1971, 2.188, 2.1647, 2.164, 2.1013, 2.0984, 2.0854, 2.0854, 2.0854, 2.0854, 2.0854, 2.0853, 2.0755, 2.0753, 2.051, 2.0405, 2.0339, 2.0282, 2.025, 2.0212, 2.019, 2.0109, 2.0028, 2.0023, 1.9999, 1.9822, 1.9399, 1.8901, 1.9319, 1.7733, 1.6183, 1.704, 1.4653, 1.5708, 1.8125, 1.9394, 1.7221, 1.7887, 1.4176, 1.4751, 1.4332, 1.226, 1.4952, 1.6528, 0.7646, 0.2497, 0.9638, 0.9472, 0.7221, 0.8716, 0.3127, 0.7468, 0.2746, 0.4606, 0.6318, -0.2522, 0.7327, -0.0874, 0.64, 2.2464, 2.1835, 2.1037, 2.1037, 2.1037, 2.1037, 2.1037, 2.1037, 2.1037, 2.1037, 2.1037, 2.1037, 2.0905, 2.0905, 2.0899, 2.0865, 2.0775, 2.0696, 2.0691, 2.0688, 2.0673, 2.0587, 2.0473, 2.0301, 2.0219, 2.0077, 1.9893, 1.952, 1.9505, 1.9353, 1.8334, 1.8667, 1.8167, 1.6074, 1.6746, 1.8197, 1.398, 1.5468, 1.6248, 1.4235, 1.2515, 1.0238, 1.1183, 1.487, 1.6522, 1.0412, 1.2823, 1.1393, 1.274, 1.7244, 1.7124, 1.4533, 0.2089, 1.2324, 0.7377, 1.3583, 1.1242, 0.3641, 0.3579, 0.5167, 0.5879, 0.8256, 0.7564, 0.1408, 0.5203, 0.7372, -0.0282, -0.625, 2.2648, 2.2347, 2.1331, 2.1331, 2.1331, 2.1331, 2.1331, 2.1331, 2.133, 2.1179, 2.1173, 2.1158, 2.1152, 2.1146, 2.1031, 2.102, 2.102, 2.1018, 2.1015, 2.1011, 2.0846, 2.0763, 2.0738, 2.0724, 2.0637, 2.0172, 2.0166, 1.9598, 1.9563, 1.956, 1.9402, 1.7887, 1.9299, 1.615, 1.6302, 1.7112, 1.8224, 1.3109, 1.8575, 1.856, 1.1798, 1.5902, 1.4499, 1.9471, 1.5947, 0.8923, 1.5059, 1.178, 0.9929, 1.2841, 0.9519, 1.2948, 0.4401, 0.6041, 1.466, 1.2511, -0.5537, 0.6298, 1.0636, -0.3171, 0.612, 1.3644, 0.5118, 0.6085, 0.7164, 0.1399, 0.254, 0.4478, -0.5329, 2.402, 2.3568, 2.3476, 2.3356, 2.3248, 2.296, 2.2874, 2.2527, 2.2527, 2.2527, 2.2527, 2.2527, 2.2463, 2.2313, 2.2184, 2.2184, 2.2178, 2.2178, 2.2171, 2.2005, 2.1967, 2.1848, 2.1415, 2.1199, 2.1015, 2.1, 2.0982, 2.0979, 2.0877, 2.0811, 2.0244, 2.0487, 2.0296, 1.8868, 1.6303, 1.7853, 1.7983, 1.8705, 1.605, 2.0191, 2.0532, 1.5833, 1.6145, 1.6732, 1.5264, 1.9351, 1.6725, 1.2821, 1.8495, 0.9462, 1.2883, 0.9295, 0.8373, 0.9816, 1.4716, 1.0241, 0.7742, 0.9114, 0.641, 0.7876, 1.5032, 1.3102, 1.3224, 0.561]}, \"token.table\": {\"Topic\": [10, 2, 6, 2, 3, 5, 6, 9, 5, 3, 5, 8, 10, 10, 10, 4, 3, 10, 3, 1, 2, 5, 7, 8, 9, 10, 1, 2, 3, 4, 6, 7, 8, 8, 6, 10, 7, 2, 3, 4, 5, 6, 8, 5, 3, 3, 5, 6, 8, 6, 5, 1, 7, 9, 10, 1, 2, 3, 4, 5, 6, 7, 8, 9, 10, 1, 2, 3, 4, 5, 6, 7, 8, 9, 10, 1, 2, 3, 4, 5, 6, 9, 2, 3, 4, 6, 7, 9, 6, 5, 6, 10, 1, 3, 4, 5, 7, 9, 3, 7, 2, 3, 4, 6, 7, 8, 9, 8, 2, 4, 5, 8, 9, 10, 1, 3, 4, 6, 8, 9, 10, 3, 1, 2, 4, 5, 6, 7, 8, 9, 10, 7, 5, 7, 8, 10, 1, 5, 7, 6, 2, 3, 7, 8, 9, 5, 1, 2, 4, 5, 6, 7, 8, 9, 10, 9, 6, 4, 7, 2, 1, 2, 4, 6, 7, 8, 10, 9, 1, 2, 3, 5, 6, 7, 8, 9, 10, 9, 10, 5, 8, 1, 2, 4, 6, 7, 8, 10, 1, 4, 9, 5, 4, 1, 8, 10, 1, 2, 5, 7, 3, 2, 3, 4, 8, 10, 2, 9, 9, 3, 2, 8, 3, 5, 7, 1, 2, 7, 9, 10, 5, 6, 7, 3, 6, 9, 10, 1, 7, 8, 2, 6, 1, 2, 3, 4, 5, 6, 7, 8, 9, 10, 10, 4, 8, 3, 7, 9, 4, 3, 1, 2, 4, 6, 7, 8, 9, 10, 1, 9, 5, 2, 3, 4, 5, 6, 7, 9, 10, 1, 2, 4, 5, 6, 8, 9, 10, 3, 4, 1, 2, 3, 4, 5, 6, 7, 8, 9, 10, 5, 1, 3, 10, 2, 4, 5, 6, 7, 8, 9, 10, 10, 3, 6, 9, 3, 8, 9, 9, 1, 2, 4, 5, 7, 8, 9, 10, 1, 6, 8, 10, 1, 2, 3, 4, 5, 6, 9, 10, 3, 5, 6, 8, 9, 10, 3, 10, 2, 3, 5, 6, 8, 5, 1, 7, 1, 2, 3, 4, 5, 6, 7, 10, 6, 9, 2, 8, 1, 2, 3, 4, 5, 6, 7, 8, 9, 10, 1, 2, 3, 4, 5, 6, 7, 8, 9, 10, 1, 2, 3, 4, 5, 6, 7, 8, 9, 10, 10, 2, 3, 8, 3, 1, 8, 1, 2, 3, 4, 5, 6, 7, 8, 10, 1, 7, 3, 5, 3, 2, 3, 7, 10, 1, 2, 3, 4, 5, 8, 9, 10, 6, 4, 7, 9, 10, 3, 2, 7, 8, 1, 2, 4, 5, 6, 8, 10, 4, 5, 7, 4, 7, 8, 6, 10, 1, 7, 6, 10, 1, 2, 6, 7, 8, 9, 10, 4, 5, 6, 7, 9, 10, 2, 3, 5, 6, 7, 9, 1, 3, 7, 9, 4, 5, 1, 5, 1, 2, 3, 4, 5, 6, 7, 8, 9, 6, 10, 3, 9, 2, 3, 4, 5, 6, 10, 1, 4, 6, 8, 6, 6, 10, 3, 5, 6, 6, 1, 3, 4, 5, 6, 7, 9, 10, 1, 1, 2, 3, 5, 6, 7, 8, 9, 10, 1, 3, 5, 6, 7, 8, 10, 9, 10, 1, 9, 6, 9, 1, 2, 3, 4, 5, 7, 8, 9, 10, 3, 7, 8, 4, 4, 5, 6, 7, 1, 3, 4, 5, 9, 10, 3, 9, 4, 8, 9, 8, 1, 2, 3, 4, 5, 6, 10, 1, 3, 4, 6, 7, 9, 10, 1, 2, 4, 6, 7, 8, 9, 10, 2, 3, 5, 3, 8, 9, 1, 2, 3, 7, 2, 1, 4, 5, 7, 9, 10, 1, 2, 3, 4, 5, 6, 7, 10, 8, 2, 6, 5, 1, 2, 3, 4, 6, 9, 10, 1, 2, 3, 4, 6, 7, 8, 9, 10, 10, 1, 2, 3, 4, 5, 7, 8, 9, 10, 4, 1, 2, 3, 4, 6, 7, 9, 10, 2, 1, 1, 2, 3, 4, 6, 7, 10, 1, 4, 7, 8, 1, 2, 3, 4, 5, 6, 7, 8, 9, 2, 5, 6, 8, 4, 6, 2, 3, 6, 7, 1, 3, 4, 7, 9, 10, 4, 5, 7, 9, 1, 2, 3, 4, 5, 7, 10, 1, 3, 6, 8, 1, 4, 2, 3, 5, 6, 8, 9, 10, 1, 3, 5, 10, 1, 4, 5, 7, 8, 9, 4, 8, 1, 2, 3, 4, 5, 6, 7, 8, 10, 2, 3, 6, 8, 9, 6, 1, 3, 4, 9, 2, 3, 4, 5, 6, 7, 8, 10, 10, 2, 3, 4, 8, 10, 3, 7, 8, 1, 2, 3, 5, 6, 7, 8, 10, 6, 7, 1, 8, 2, 4, 5, 6, 9, 10, 5, 7, 1, 2, 3, 4, 5, 6, 10, 6, 7, 1, 7, 8, 4, 5, 8, 3, 6, 2, 4, 6, 9, 6, 1, 2, 3, 5, 6, 2, 3, 4, 5, 6, 8, 10, 2, 5, 6, 10, 2, 3, 1, 8, 1, 2, 3, 4, 5, 7, 8, 1, 2, 4, 6, 7, 8, 9, 10, 1, 4, 5, 7, 1, 2, 3, 4, 5, 6, 7, 8, 10, 2, 3, 4, 5, 6, 7, 8, 9, 10, 2, 3, 7, 5, 8, 3, 1, 2, 3, 5, 9, 10, 1, 2, 3, 4, 5, 7, 8, 9, 2, 1, 2, 3, 4, 5, 6, 8, 9, 10, 1, 2, 3, 4, 5, 6, 7, 8, 9, 10, 1, 3, 7, 4, 7, 8, 9, 7, 1, 2, 3, 4, 5, 6, 7, 8, 9, 10, 8, 2, 5, 8, 9, 10, 2, 4, 8, 9, 2, 4, 2, 3, 4, 5, 6, 7, 1, 2, 4, 6, 10, 1, 2, 3, 5, 6, 8, 9, 1, 2, 3, 4, 5, 6, 7, 9, 10, 7, 10, 7, 9, 3, 8, 1, 3, 4, 7, 8, 10, 1, 1, 2, 6, 7, 9, 7, 9, 2, 5, 7, 9, 1, 2, 3, 4, 5, 6, 7, 8, 10, 1, 4, 2, 3, 5, 8, 3, 3, 3, 1, 2, 3, 4, 5, 6, 7, 9, 10, 1, 7, 8, 1, 5, 6, 7, 9, 10, 3, 1, 9, 7, 4, 4, 7, 8, 9, 10, 1, 2, 3, 5, 6, 7, 8, 9, 1, 4, 5, 6, 7, 8, 9, 4, 10, 6, 9, 2, 3, 4, 5, 7, 9, 6, 1, 2, 3, 4, 5, 8, 3, 10, 1, 4, 5, 5, 1, 2, 3, 4, 5, 6, 7, 8, 9, 10, 5, 1, 2, 3, 4, 5, 6, 7, 8, 9, 10, 1, 2, 3, 4, 8, 9, 10, 2, 1, 5, 10, 2, 3, 6, 8, 9, 10, 9, 9, 4, 5, 6, 7, 3, 5, 6, 7, 9, 4, 5, 10, 2, 3, 5, 6, 8, 9, 8, 8, 2, 5, 10, 1, 4, 7, 8, 2, 3, 4, 6, 4, 8, 4, 4, 2, 4, 5, 8, 5, 8, 10, 1, 5, 8, 9, 10, 2, 3, 4, 5, 6, 8, 10, 5, 1, 4, 5, 10, 1, 2, 3, 4, 5, 6, 7, 8, 9, 10, 4, 7, 2, 8, 9, 1, 4, 1, 4, 7, 8, 1, 3, 4, 5, 7, 8, 9, 1, 2, 5, 7, 8, 1, 2, 9, 1, 2, 3, 6, 7, 9, 10, 4, 5, 6, 7, 10, 1, 2, 3, 4, 5, 6, 7, 8, 10, 6, 5, 9, 1, 2, 3, 4, 5, 6, 7, 2, 5, 10, 4, 6, 7, 9, 2, 4, 6, 1, 3, 5, 6, 7, 8, 1, 2, 3, 4, 5, 10, 6, 10, 5, 6, 3, 9, 6, 3, 2, 3, 4, 7, 9, 6, 1, 2, 5, 6, 7, 9, 10, 1, 5, 1, 9, 10, 2, 3, 4, 5, 6, 7, 8, 9, 10, 1, 4, 5, 6, 7, 9, 10, 3, 4, 5, 6, 7, 1, 2, 3, 5, 6, 6, 3, 4, 5, 6, 8, 1, 2, 3, 4, 7, 8, 4, 3, 4, 5, 7, 8, 9, 10, 7, 9, 7, 1, 2, 3, 5, 7, 8, 9, 1, 6, 3, 5, 6, 5, 1, 2, 3, 4, 5, 6, 7, 8, 9, 10, 3, 6, 3, 8, 6, 2, 4, 6, 7, 9, 2, 9, 1, 2, 3, 4, 7, 2, 3, 4, 5, 10, 7, 9, 1, 2, 3, 4, 5, 6, 8, 9, 10, 5, 1, 2, 3, 4, 5, 7, 8, 9, 10, 1, 4, 6, 8, 3, 5, 7, 4, 1, 3, 4, 7, 9, 10, 3, 8, 2, 3, 7, 9, 7, 2, 3, 4, 6, 7, 8, 9, 10, 1, 2, 3, 6, 7, 8, 9, 10, 7, 1, 9, 10, 10, 2, 4, 10, 3, 8, 2, 1, 2, 6, 10, 3, 2, 4, 1, 2, 4, 5, 10, 1, 3, 4, 5, 7, 10, 9, 10, 2, 4, 5, 7, 8, 10, 1, 2, 3, 4, 5, 6, 7, 9, 10, 1, 2, 3, 4, 5, 6, 7, 8, 9, 10, 1, 4, 8, 1, 2, 6, 8, 9, 10, 1, 5, 6, 8, 1, 3, 4, 7, 2, 2, 4, 1, 1, 2, 4, 5, 6, 7, 9, 10, 2, 4, 5, 6, 7, 8, 9, 10, 7, 2, 4, 8, 1, 7, 1, 2, 3, 4, 8, 10, 2, 5, 6, 8, 10, 4, 7, 7, 10, 4, 2, 4, 6, 7, 8, 9, 10, 4, 7, 9, 8, 1, 2, 3, 4, 5, 6, 7, 8, 9, 3, 4, 7, 8, 9, 10, 1, 5, 9, 1, 2, 3, 6, 3, 1, 5, 2, 3, 4, 5, 8, 10, 6, 10, 1, 2, 4, 5, 6, 7, 8, 9, 10, 3, 9, 1, 2, 4, 5, 6, 7, 8, 9, 10, 2, 9, 8, 9, 6, 7, 4, 6, 1, 2, 1, 4, 5, 6, 7, 8, 9, 10, 1, 3, 4, 9, 4, 6, 9, 3, 4, 7, 9, 10, 1, 2, 3, 4, 5, 6, 8, 9, 10, 10, 2, 6, 7, 10, 8, 5, 2, 3, 4, 5, 8, 10, 3, 2, 8, 3, 6, 4, 5, 6, 7, 8, 9, 10, 4, 2, 3, 4, 5, 8, 10, 1, 2, 7, 10, 1, 2, 3, 4, 5, 6, 7, 8, 9, 1, 2, 3, 5, 2, 3, 5, 8, 4, 1, 3, 5, 6, 7, 8, 9, 1, 1, 2, 3, 4, 5, 6, 7, 8, 9, 10, 2, 2, 7, 9, 2, 1, 3, 4, 5, 8, 10, 1, 2, 3, 4, 5, 6, 7, 8, 9, 10, 1, 2, 3, 4, 7, 9, 10, 4, 9, 1, 4, 6, 5, 4, 3, 4, 1, 2, 3, 4, 5, 8, 10, 5, 5, 9, 3, 4, 7, 8, 10, 1, 6, 7, 8, 9, 2, 5, 7, 10, 1, 7, 9, 10, 4, 6, 1, 2, 3, 4, 5, 6, 7, 8, 9, 10, 9, 6, 1, 2, 4, 6, 8, 1, 2, 3, 4, 5, 7, 8, 9, 2, 5, 6, 10, 8], \"Freq\": [0.7632942616854711, 0.3247910204641658, 0.48718653069624873, 0.1675997050914163, 0.1675997050914163, 0.12569977881856223, 0.46089918900139487, 0.04189992627285408, 0.8258863961773417, 0.21235531486873113, 0.28314041982497484, 0.07078510495624371, 0.3539255247812186, 0.5746624331259188, 0.7655204073195262, 0.7449905417551953, 0.2293457236444179, 0.6880371709332537, 0.8456100143112195, 0.07598469211046552, 0.07598469211046552, 0.07598469211046552, 0.07598469211046552, 0.45590815266279316, 0.07598469211046552, 0.15196938422093104, 0.10337394285915087, 0.20674788571830174, 0.10337394285915087, 0.051686971429575436, 0.051686971429575436, 0.10337394285915087, 0.4134957714366035, 0.7638687923601364, 0.7156372568326422, 0.14312745136652846, 0.7564229411178163, 0.8997603480681959, 0.08562382723348705, 0.08562382723348705, 0.5137429634009223, 0.1712476544669741, 0.08562382723348705, 0.735905383760648, 0.7518619265719634, 0.4644281166464292, 0.14513378645200914, 0.029026757290401824, 0.34832108748482193, 0.7599852865365816, 0.7365284207834892, 0.16938951009837788, 0.45170536026234104, 0.22585268013117052, 0.05646317003279263, 0.1158537305160403, 0.0662021317234516, 0.1324042634469032, 0.2648085268938064, 0.0496515987925887, 0.0165505329308629, 0.1324042634469032, 0.0331010658617258, 0.0662021317234516, 0.1324042634469032, 0.07035195473063463, 0.3517597736531732, 0.2989958076051972, 0.05276396604797597, 0.035175977365317315, 0.05276396604797597, 0.035175977365317315, 0.05276396604797597, 0.05276396604797597, 0.017587988682658658, 0.10512745313074426, 0.10512745313074426, 0.0700849687538295, 0.21025490626148852, 0.10512745313074426, 0.24529739063840325, 0.0700849687538295, 0.05401948041330212, 0.16205844123990637, 0.10803896082660425, 0.4861753237197191, 0.05401948041330212, 0.10803896082660425, 0.6841552179668418, 0.16248196246338098, 0.6499278498535239, 0.16248196246338098, 0.8574212381547507, 0.03062218707695538, 0.01531109353847769, 0.01531109353847769, 0.06124437415391076, 0.7505628762952107, 0.8457798810748819, 0.7557366103262942, 0.21538449919902747, 0.10769224959951373, 0.05384612479975687, 0.10769224959951373, 0.1615383743992706, 0.05384612479975687, 0.3230767487985412, 0.7638730114050041, 0.1462513923076756, 0.04875046410255853, 0.39000371282046825, 0.1462513923076756, 0.09750092820511706, 0.1462513923076756, 0.09868583775214244, 0.04934291887607122, 0.04934291887607122, 0.1973716755042849, 0.09868583775214244, 0.2960575132564273, 0.14802875662821366, 0.7516775001366295, 0.0959539841621122, 0.31185044852686467, 0.1439309762431683, 0.0479769920810561, 0.02398849604052805, 0.16791947228369636, 0.0479769920810561, 0.02398849604052805, 0.11994248020264026, 0.8105525869988125, 0.14295088937032432, 0.14295088937032432, 0.14295088937032432, 0.5718035574812973, 0.7385315962414347, 0.8259349872151289, 0.7562588901761619, 0.7599710605007111, 0.31833403539977784, 0.4340918664542425, 0.11575783105446466, 0.05787891552723233, 0.05787891552723233, 0.7359325721803335, 0.13727502580566014, 0.08236501548339609, 0.05491001032226406, 0.16473003096679217, 0.10982002064452812, 0.1921850361279242, 0.10982002064452812, 0.05491001032226406, 0.08236501548339609, 0.7507545611593686, 0.7599918166063129, 0.1258741858360033, 0.7552451150160198, 0.75015740393501, 0.08021625688440781, 0.026738752294802604, 0.5882525504856573, 0.18717126606361822, 0.026738752294802604, 0.026738752294802604, 0.08021625688440781, 0.7505205905788347, 0.01150291885229197, 0.379596322125635, 0.1955496204889635, 0.10352626967062772, 0.03450875655687591, 0.08052043196604379, 0.12653210737521167, 0.04601167540916788, 0.02300583770458394, 0.19070798002708048, 0.5721239400812415, 0.7327839058585149, 0.7638719794747955, 0.05667507846091616, 0.2833753923045808, 0.05667507846091616, 0.11335015692183233, 0.3967255492264132, 0.05667507846091616, 0.05667507846091616, 0.6638595614545149, 0.18722012418911085, 0.7488804967564434, 0.8275290334677718, 0.9292985561162166, 0.7399536533232871, 0.12332560888721451, 0.8620854896254926, 0.19690756427727565, 0.4594509833136432, 0.19690756427727565, 0.13127170951818376, 0.7516775889861753, 0.11428872130654999, 0.11428872130654999, 0.11428872130654999, 0.11428872130654999, 0.45715488522619996, 0.6252533401211836, 0.25010133604847345, 0.7507597597863314, 0.7515520191662178, 0.7502124261933711, 0.7638117667084959, 0.7516719748449145, 0.6650851019904512, 0.22169503399681706, 0.08703150133897208, 0.08703150133897208, 0.08703150133897208, 0.4351575066948604, 0.26109450401691625, 0.28380783528581266, 0.5676156705716253, 0.7564488485511214, 0.11394395642099256, 0.45577582568397024, 0.22788791284198512, 0.11394395642099256, 0.28293751957142105, 0.14146875978571052, 0.42440627935713154, 0.7502359552611556, 0.7599794420519755, 0.1127047162634536, 0.1127047162634536, 0.0563523581317268, 0.0563523581317268, 0.0845285371975902, 0.0281761790658634, 0.2254094325269072, 0.1127047162634536, 0.1127047162634536, 0.0563523581317268, 0.7655313279469429, 0.8374412804480951, 0.7638712127903425, 0.9019343488182405, 0.756365357289229, 0.7507462500389601, 0.7449907826445678, 0.7519013411027897, 0.055683976265162805, 0.027841988132581402, 0.027841988132581402, 0.1670519287954884, 0.139209940662907, 0.027841988132581402, 0.139209940662907, 0.3619458457235582, 0.7385546797296337, 0.7507858426297944, 0.8796374578906101, 0.05192141000231005, 0.025960705001155025, 0.1298035250057751, 0.3374891650150153, 0.07788211500346508, 0.025960705001155025, 0.3115284600138603, 0.05192141000231005, 0.03791062573426214, 0.07582125146852428, 0.3032850058740971, 0.265374380139835, 0.05686593860139322, 0.01895531286713107, 0.07582125146852428, 0.15164250293704856, 0.751685414780035, 0.7450248642598621, 0.0418797659033669, 0.10469941475841725, 0.27221847837188484, 0.1675190636134676, 0.0418797659033669, 0.06281964885505034, 0.0837595318067338, 0.06281964885505034, 0.02093988295168345, 0.1675190636134676, 0.735916461589895, 0.2447283116196371, 0.08157610387321236, 0.6526088309856989, 0.11524938609354674, 0.20744889496838412, 0.06914963165612804, 0.04609975443741869, 0.43794766715547756, 0.06914963165612804, 0.04609975443741869, 0.023049877218709346, 0.7655095635871337, 0.14145595493074514, 0.2829119098614903, 0.5658238197229806, 0.35646702330196717, 0.499053832622754, 0.9001915545738165, 0.7510026740481014, 0.1134709460873648, 0.18911824347894132, 0.07564729739157654, 0.03782364869578827, 0.15129459478315307, 0.3404128382620944, 0.03782364869578827, 0.03782364869578827, 0.10860795320630402, 0.5430397660315202, 0.16291192980945604, 0.05430397660315201, 0.7385369316123358, 0.3029321690996335, 0.13253282398108968, 0.03786652113745419, 0.05679978170618129, 0.03786652113745419, 0.03786652113745419, 0.3786652113745419, 0.15119194547516634, 0.22678791821274952, 0.07559597273758317, 0.37797986368791586, 0.07559597273758317, 0.07559597273758317, 0.19127469693605456, 0.5738240908081637, 0.7309767606269049, 0.05622898158668499, 0.05622898158668499, 0.11245796317336998, 0.8607407362813883, 0.7359108516002144, 0.2819423120037231, 0.5638846240074462, 0.06330385696552678, 0.09495578544829017, 0.03165192848276339, 0.03165192848276339, 0.03165192848276339, 0.09495578544829017, 0.2848673563448705, 0.3481712133103973, 0.3233199514802366, 0.6466399029604732, 0.28595559236602475, 0.5719111847320495, 0.05589766016851743, 0.15371856546342294, 0.12576973537916422, 0.0698720752106468, 0.0698720752106468, 0.08384649025277616, 0.04192324512638808, 0.08384649025277616, 0.12576973537916422, 0.18166739554768166, 0.06831210270959291, 0.20493630812877875, 0.15939490632238346, 0.12523885496758702, 0.06831210270959291, 0.04554140180639528, 0.11385350451598819, 0.12523885496758702, 0.04554140180639528, 0.04554140180639528, 0.2654603957748052, 0.1327301978874026, 0.21441031966426574, 0.020420030444215784, 0.04084006088843157, 0.11231016744318681, 0.05105007611053946, 0.06126009133264735, 0.05105007611053946, 0.05105007611053946, 0.7655069997725481, 0.18770795512152197, 0.5631238653645659, 0.763953702530648, 0.7520533598758613, 0.8292311051874184, 0.5718181381328648, 0.07718412792799773, 0.03859206396399886, 0.07718412792799773, 0.5016968315319852, 0.07718412792799773, 0.11577619189199659, 0.03859206396399886, 0.03859206396399886, 0.03859206396399886, 0.7387559555365022, 0.7571505946478004, 0.7034654449536277, 0.14069308899072555, 0.8456059495976409, 0.5650150475836605, 0.09416917459727676, 0.18833834919455353, 0.09416917459727676, 0.37406808710998596, 0.041563120789998444, 0.041563120789998444, 0.041563120789998444, 0.12468936236999532, 0.2909418455299891, 0.08312624157999689, 0.041563120789998444, 0.7598920572685551, 0.0870410960896877, 0.3481643843587508, 0.3481643843587508, 0.0870410960896877, 0.7517215524923893, 0.6162346619473782, 0.20541155398245942, 0.10270577699122971, 0.028970658167059942, 0.028970658167059942, 0.028970658167059942, 0.28970658167059943, 0.3476478980047193, 0.11588263266823977, 0.14485329083529971, 0.1234597876722941, 0.4938391506891764, 0.2469195753445882, 0.11376736554912976, 0.6826041932947785, 0.11376736554912976, 0.7599917874087943, 0.764748325474093, 0.5558226699311666, 0.18527422331038884, 0.22989005160684092, 0.6896701548205227, 0.0514168395227882, 0.1542505185683646, 0.0514168395227882, 0.257084197613941, 0.0514168395227882, 0.3599178766595174, 0.0514168395227882, 0.094485609134393, 0.094485609134393, 0.47242804567196495, 0.094485609134393, 0.094485609134393, 0.094485609134393, 0.6493513553554887, 0.04329009035703258, 0.04329009035703258, 0.04329009035703258, 0.12987027107109775, 0.08658018071406516, 0.18720621727212713, 0.5616186518163814, 0.09360310863606357, 0.09360310863606357, 0.7450418882114151, 0.82685300207221, 0.612008402893486, 0.2448033611573944, 0.5550185129297059, 0.038542952286785136, 0.10792026640299839, 0.05396013320149919, 0.06166872365885622, 0.007708590457357028, 0.06937731411621324, 0.046251542744142164, 0.06166872365885622, 0.8558204734533258, 0.6913118988918217, 0.7516768761989742, 0.18791921904974354, 0.13872974922112244, 0.06936487461056122, 0.06936487461056122, 0.5549189968844898, 0.06936487461056122, 0.06936487461056122, 0.0659679340563134, 0.659679340563134, 0.1319358681126268, 0.1319358681126268, 0.7600660844971727, 0.22979899977085466, 0.689396999312564, 0.747934659319108, 0.186983664829777, 0.88869423956771, 0.8559668498730651, 0.1216247523632524, 0.19459960378120383, 0.17027465330855338, 0.19459960378120383, 0.19459960378120383, 0.04864990094530096, 0.02432495047265048, 0.02432495047265048, 0.7385286706815818, 0.07027031973715024, 0.14054063947430048, 0.17567579934287558, 0.2108109592114507, 0.03513515986857512, 0.07027031973715024, 0.14054063947430048, 0.07027031973715024, 0.10540547960572536, 0.050124984182743075, 0.050124984182743075, 0.2756874130050869, 0.25062492091371535, 0.10024996836548615, 0.12531246045685768, 0.10024996836548615, 0.6794350440547824, 0.2264783480182608, 0.18693321545248304, 0.7477328618099321, 0.6842143215981048, 0.2280714405327016, 0.09595272327730679, 0.28785816983192036, 0.023988180819326698, 0.023988180819326698, 0.023988180819326698, 0.19190544655461358, 0.023988180819326698, 0.21589362737394027, 0.09595272327730679, 0.5626551244850201, 0.7586170863847908, 0.1264361810641318, 0.7449852896433404, 0.2219883395433597, 0.5549708488583993, 0.11099416977167985, 0.11099416977167985, 0.09180579561298009, 0.09180579561298009, 0.18361159122596019, 0.6426405692908607, 0.2862193647009131, 0.5724387294018262, 0.7516726891826951, 0.7505658985659259, 0.42516600086896367, 0.42516600086896367, 0.7507334722324849, 0.763482317898762, 0.43590874897928, 0.04843430544214222, 0.14530291632642667, 0.09686861088428445, 0.04843430544214222, 0.09686861088428445, 0.04843430544214222, 0.15453875966391156, 0.10302583977594104, 0.15453875966391156, 0.05151291988797052, 0.20605167955188208, 0.05151291988797052, 0.2575645994398526, 0.14705709619535845, 0.07352854809767922, 0.2941141923907169, 0.09803806413023897, 0.07352854809767922, 0.02450951603255974, 0.07352854809767922, 0.1715666122279182, 0.6750349000926886, 0.18416369831733917, 0.5524910949520175, 0.1412785464911956, 0.1412785464911956, 0.5651141859647824, 0.9195370134654556, 0.18892177070348581, 0.18892177070348581, 0.5667653121104574, 0.7499767227402928, 0.08846038294988433, 0.044230191474942164, 0.6192226806491903, 0.08846038294988433, 0.044230191474942164, 0.044230191474942164, 0.18027404794109905, 0.5408221438232972, 0.060091349313699687, 0.04006089954246646, 0.02003044977123323, 0.060091349313699687, 0.060091349313699687, 0.04006089954246646, 0.7637561700831959, 0.6435966254097435, 0.16089915635243587, 0.8284078799532731, 0.16134288507025307, 0.05378096169008436, 0.05378096169008436, 0.2689048084504218, 0.05378096169008436, 0.05378096169008436, 0.32268577014050615, 0.08358915543803605, 0.22987017745459914, 0.06269186657852704, 0.2507674663141082, 0.041794577719018025, 0.020897288859509013, 0.1462810220165631, 0.06269186657852704, 0.10448644429754507, 0.7654709477191253, 0.2974636299059181, 0.12394317912746587, 0.04957727165098635, 0.12394317912746587, 0.12394317912746587, 0.024788635825493174, 0.0991545433019727, 0.0991545433019727, 0.024788635825493174, 0.7449873019923723, 0.31981106424427647, 0.213207376162851, 0.05330184404071275, 0.13325461010178186, 0.1066036880814255, 0.026650922020356373, 0.07995276606106912, 0.05330184404071275, 0.7500773473135993, 0.7385379894371105, 0.053743882608992884, 0.053743882608992884, 0.5374388260899289, 0.10748776521798577, 0.10748776521798577, 0.053743882608992884, 0.053743882608992884, 0.11399594580605045, 0.11399594580605045, 0.11399594580605045, 0.5699797290302523, 0.024847711654616984, 0.12423855827308491, 0.07454313496385095, 0.19878169323693587, 0.24847711654616983, 0.04969542330923397, 0.12423855827308491, 0.04969542330923397, 0.09939084661846793, 0.5616124528967695, 0.18720415096558984, 0.09360207548279492, 0.09360207548279492, 0.7450149138864858, 0.9139828385837601, 0.0493591466912791, 0.1974365867651164, 0.0493591466912791, 0.6416689069866284, 0.09844325092226061, 0.049221625461130306, 0.29532975276678186, 0.049221625461130306, 0.09844325092226061, 0.34455137822791215, 0.08490725197977879, 0.6792580158382303, 0.08490725197977879, 0.08490725197977879, 0.03862007211766608, 0.5406810096473251, 0.07724014423533215, 0.11586021635299824, 0.1544802884706643, 0.03862007211766608, 0.03862007211766608, 0.11391406864383485, 0.11391406864383485, 0.4556562745753394, 0.2278281372876697, 0.12364928488512698, 0.7418957093107619, 0.04553954446115555, 0.04553954446115555, 0.13661863338346666, 0.3643163556892444, 0.27323726676693333, 0.04553954446115555, 0.0910790889223111, 0.12305131291246157, 0.12305131291246157, 0.6152565645623078, 0.12305131291246157, 0.043195669341140525, 0.08639133868228105, 0.3023696853879837, 0.3455653547291242, 0.1727826773645621, 0.043195669341140525, 0.22813332412709758, 0.6843999723812928, 0.05839047759765936, 0.11678095519531873, 0.038926985065106244, 0.2530254029231906, 0.0973174626627656, 0.038926985065106244, 0.07785397013021249, 0.2530254029231906, 0.05839047759765936, 0.3130829044846827, 0.12523316179387306, 0.06261658089693653, 0.06261658089693653, 0.43831606627855574, 0.8555363877608243, 0.8611291465539689, 0.034445165862158754, 0.034445165862158754, 0.034445165862158754, 0.054509393186945074, 0.5450939318694508, 0.013627348296736268, 0.09539143807715388, 0.013627348296736268, 0.027254696593472537, 0.23166492104451658, 0.013627348296736268, 0.5750601436664808, 0.055126302424368244, 0.7442050827289712, 0.055126302424368244, 0.11025260484873649, 0.027563151212184122, 0.7062344438815429, 0.2824937775526171, 0.7635340243259894, 0.08350229617780229, 0.5010137770668137, 0.041751148088901145, 0.041751148088901145, 0.12525344426670343, 0.08350229617780229, 0.041751148088901145, 0.041751148088901145, 0.22744608174267536, 0.6823382452280261, 0.7385276932996625, 0.7620237715529735, 0.0749974388235683, 0.0749974388235683, 0.2249923164707049, 0.1499948776471366, 0.2999897552942732, 0.1499948776471366, 0.18803506477888238, 0.5641051943366472, 0.22427544587700945, 0.5348106786297918, 0.034503914750309145, 0.017251957375154572, 0.034503914750309145, 0.06900782950061829, 0.06900782950061829, 0.7600003098060049, 0.7565940896752482, 0.3089380532958977, 0.20595870219726511, 0.41191740439453023, 0.9295561037672498, 0.7369242521244157, 0.6894605168916044, 0.14250373366828628, 0.7125186683414313, 0.22502327597009997, 0.1500155173134, 0.1500155173134, 0.3750387932835, 0.8146401343099707, 0.829336213154491, 0.12610510270708108, 0.18915765406062163, 0.06305255135354054, 0.5674729621818649, 0.17442781247799732, 0.04360695311949933, 0.17442781247799732, 0.08721390623899866, 0.3052486718364953, 0.17442781247799732, 0.08721390623899866, 0.7501141349565275, 0.11390167433253767, 0.683410045995226, 0.11390167433253767, 0.7500879514870473, 0.6743715383618157, 0.7399455697276253, 0.12332426162127087, 0.2797322718435156, 0.03996175312050223, 0.15984701248200892, 0.15984701248200892, 0.03996175312050223, 0.15984701248200892, 0.1198852593615067, 0.08664893452352018, 0.11553191269802691, 0.2888297817450673, 0.05776595634901346, 0.17329786904704036, 0.02888297817450673, 0.14441489087253365, 0.11553191269802691, 0.06955109595296222, 0.6955109595296222, 0.13910219190592443, 0.06955109595296222, 0.016744341501279673, 0.0669773660051187, 0.016744341501279673, 0.36837551302815286, 0.18418775651407643, 0.10046604900767805, 0.08372170750639837, 0.1339547320102374, 0.016744341501279673, 0.03654945429363305, 0.03654945429363305, 0.10964836288089914, 0.1461978171745322, 0.3654945429363305, 0.03654945429363305, 0.0730989085872661, 0.10964836288089914, 0.10964836288089914, 0.0667326470430665, 0.266930588172266, 0.6673264704306651, 0.4224303842851039, 0.4224303842851039, 0.7516694404166736, 0.07657304313660629, 0.05104869542440419, 0.20419478169761676, 0.05104869542440419, 0.5870599973806482, 0.025524347712202095, 0.025373911506971526, 0.07612173452091459, 0.30448693808365834, 0.07612173452091459, 0.2791130265766868, 0.05074782301394305, 0.025373911506971526, 0.12686955753485762, 0.7502524979847403, 0.7583184285630017, 0.022979346320090962, 0.022979346320090962, 0.022979346320090962, 0.1148967316004548, 0.022979346320090962, 0.022979346320090962, 0.022979346320090962, 0.022979346320090962, 0.01784702951154639, 0.01784702951154639, 0.33909356071938135, 0.01784702951154639, 0.23201138365010304, 0.1427762360923711, 0.10708217706927832, 0.07138811804618556, 0.03569405902309278, 0.01784702951154639, 0.6167371751977265, 0.12334743503954532, 0.12334743503954532, 0.10868547993281748, 0.38039917976486115, 0.4347419197312699, 0.05434273996640874, 0.5670683074331133, 0.0444235222197503, 0.05923136295966707, 0.14807840739916767, 0.3553881777580024, 0.07403920369958383, 0.05923136295966707, 0.029615681479833535, 0.014807840739916768, 0.029615681479833535, 0.16288624813908445, 0.7638690537748337, 0.15761730627058398, 0.07880865313529199, 0.31523461254116797, 0.11821297970293798, 0.35463893910881394, 0.08649801895690575, 0.6054861326983403, 0.21624504739226438, 0.04324900947845287, 0.8436299794383837, 0.744985072274278, 0.06234221415416381, 0.49873771323331045, 0.18702664246249143, 0.12468442830832761, 0.06234221415416381, 0.06234221415416381, 0.13994683277254344, 0.2332447212875724, 0.4664894425751448, 0.09329788851502896, 0.04664894425751448, 0.08448672306662612, 0.14081120511104353, 0.25346016919987835, 0.14081120511104353, 0.08448672306662612, 0.19713568715546095, 0.11264896408883482, 0.08631876263932678, 0.21579690659831696, 0.15105783461882186, 0.06473907197949509, 0.10789845329915848, 0.12947814395899018, 0.04315938131966339, 0.15105783461882186, 0.021579690659831695, 0.327783671749673, 0.4916755076245095, 0.756257072904505, 0.18906426822612624, 0.2287483916176363, 0.6862451748529089, 0.6667642150724645, 0.031750676908212594, 0.06350135381642519, 0.0952520307246378, 0.06350135381642519, 0.06350135381642519, 0.7389743556480448, 0.7047536979789492, 0.10067909971127845, 0.05033954985563922, 0.05033954985563922, 0.05033954985563922, 0.6800493709227091, 0.226683123640903, 0.5946581440245113, 0.06607312711383459, 0.06607312711383459, 0.26429250845533836, 0.06480748242962957, 0.12961496485925914, 0.12961496485925914, 0.032403741214814784, 0.09721122364444434, 0.12961496485925914, 0.12961496485925914, 0.032403741214814784, 0.25922992971851827, 0.2227696675854213, 0.6683090027562639, 0.06846941309687146, 0.7873982506140218, 0.03423470654843573, 0.1027041196453072, 0.8050525124948644, 0.7516811556761269, 0.8458821434744491, 0.020683489801955106, 0.08273395920782042, 0.04136697960391021, 0.14478442861368573, 0.28956885722737147, 0.08273395920782042, 0.020683489801955106, 0.26888536742541636, 0.04136697960391021, 0.6181218668395605, 0.1236243733679121, 0.1236243733679121, 0.09627656063431894, 0.5776593638059137, 0.04813828031715947, 0.09627656063431894, 0.04813828031715947, 0.04813828031715947, 0.7515618327846809, 0.5538946677115738, 0.18463155590385794, 0.8515113494961661, 0.7450421508659772, 0.1032527943896111, 0.4130111775584444, 0.1032527943896111, 0.2065055887792222, 0.1032527943896111, 0.023158066877987195, 0.13894840126792316, 0.20842260190188475, 0.04631613375597439, 0.09263226751194878, 0.06947420063396158, 0.3010548694138335, 0.11579033438993597, 0.6426405276061161, 0.02921093307300528, 0.05842186614601056, 0.08763279921901584, 0.02921093307300528, 0.08763279921901584, 0.02921093307300528, 0.09591503963503702, 0.7673203170802961, 0.5698561709379469, 0.18995205697931566, 0.0651299888396648, 0.0651299888396648, 0.1953899665189944, 0.5210399107173184, 0.0651299888396648, 0.0651299888396648, 0.760001826287397, 0.04128917541797576, 0.24773505250785458, 0.12386752625392729, 0.20644587708987883, 0.24773505250785458, 0.04128917541797576, 0.6301558819943148, 0.25206235279772593, 0.7393715306028114, 0.18366862363525574, 0.734674494541023, 0.7365859068580246, 0.07061843241459499, 0.035309216207297496, 0.35309216207297495, 0.017654608103648748, 0.017654608103648748, 0.05296382431094625, 0.1059276486218925, 0.05296382431094625, 0.19420068914013625, 0.08827304051824374, 0.7369918367957239, 0.25009574178037636, 0.11909321037160779, 0.04763728414864312, 0.32155166800334106, 0.01190932103716078, 0.11909321037160779, 0.01190932103716078, 0.03572796311148234, 0.02381864207432156, 0.059546605185803896, 0.27271127238845994, 0.06817781809711498, 0.23862236333990244, 0.03408890904855749, 0.17044454524278746, 0.17044454524278746, 0.03408890904855749, 0.7499297163829254, 0.1421628073099518, 0.1421628073099518, 0.5686512292398072, 0.06723352810649448, 0.13446705621298896, 0.06723352810649448, 0.20170058431948346, 0.20170058431948346, 0.3361676405324724, 0.5627687192895174, 0.5623731220225523, 0.6097658882602327, 0.10162764804337211, 0.10162764804337211, 0.10162764804337211, 0.12554877027047873, 0.18832315540571812, 0.4394206959466756, 0.06277438513523936, 0.12554877027047873, 0.16242655064509134, 0.16242655064509134, 0.48727965193527406, 0.05683623265926299, 0.17050869797778898, 0.05683623265926299, 0.5115260939333669, 0.05683623265926299, 0.11367246531852598, 0.7639647404014339, 0.7637352445602544, 0.6918400783214045, 0.08648000979017556, 0.08648000979017556, 0.09894511196290685, 0.04947255598145343, 0.4947255598145343, 0.2968353358887206, 0.18795642162540968, 0.04698910540635242, 0.37591284325081936, 0.32892373784446693, 0.19050159172476572, 0.5715047751742972, 0.8378626866921005, 0.7449868090860292, 0.13961629876274795, 0.5584651950509918, 0.13961629876274795, 0.13961629876274795, 0.736573433816476, 0.7638987395867772, 0.7654706332920458, 0.18759851839531833, 0.09379925919765916, 0.18759851839531833, 0.37519703679063665, 0.09379925919765916, 0.22851354715429825, 0.13710812829257896, 0.09140541886171931, 0.29706761130058773, 0.11425677357714913, 0.06855406414628948, 0.045702709430859655, 0.8280346541764068, 0.20095329845986495, 0.10047664922993248, 0.6028598953795948, 0.10047664922993248, 0.09816240082154133, 0.147243601232312, 0.30675750256731665, 0.012270300102692666, 0.06135150051346333, 0.12270300102692666, 0.110432700924234, 0.09816240082154133, 0.012270300102692666, 0.024540600205385333, 0.8374634061002257, 0.7564097936483551, 0.2851546392571715, 0.570309278514343, 0.7507414455936985, 0.8303302281139755, 0.892666194874614, 0.5190291807803534, 0.22244107747729433, 0.07414702582576478, 0.14829405165152956, 0.8369917550102558, 0.0253633865154623, 0.0253633865154623, 0.01268169325773115, 0.0760901595463869, 0.01268169325773115, 0.01268169325773115, 0.509598163781534, 0.18530842319328508, 0.1389813173949638, 0.04632710579832127, 0.1389813173949638, 0.16022488609406388, 0.16022488609406388, 0.48067465828219164, 0.051523687245295206, 0.2833802798491237, 0.10304737449059041, 0.051523687245295206, 0.025761843622647603, 0.20609474898118083, 0.25761843622647607, 0.0799344486420544, 0.399672243210272, 0.23980334592616318, 0.0799344486420544, 0.0799344486420544, 0.1688347945649916, 0.0422086986412479, 0.10552174660311975, 0.0422086986412479, 0.2954608904887353, 0.23214784252686343, 0.0844173972824958, 0.02110434932062395, 0.02110434932062395, 0.8561559519975631, 0.7358890557207812, 0.7505648427301203, 0.2244468287317452, 0.6733404861952357, 0.41540511979543226, 0.17803076562661382, 0.05934358854220461, 0.11868717708440922, 0.17803076562661382, 0.13858052715825978, 0.6929026357912988, 0.13858052715825978, 0.14169842079032735, 0.14169842079032735, 0.5667936831613094, 0.14169842079032735, 0.07496981654581439, 0.5997585323665151, 0.29987926618325755, 0.06009690051820976, 0.12019380103641952, 0.06009690051820976, 0.12019380103641952, 0.06009690051820976, 0.5408721046638878, 0.21796157086029785, 0.5176587307932075, 0.054490392715074464, 0.13622598178768616, 0.027245196357537232, 0.027245196357537232, 0.2297939995460533, 0.68938199863816, 0.8265203252409605, 0.7598998517143469, 0.3213679759423409, 0.4820519639135113, 0.8560951210326405, 0.7516731355094132, 0.06630355382212305, 0.19891066146636918, 0.06630355382212305, 0.19891066146636918, 0.4309730998437999, 0.7600000461175365, 0.03641102619578584, 0.21846615717471504, 0.07282205239157168, 0.07282205239157168, 0.21846615717471504, 0.25487718337050086, 0.10923307858735752, 0.88199607338597, 0.5523165911681298, 0.24314186634186863, 0.24314186634186863, 0.48628373268373726, 0.05550956394864826, 0.19428347382026892, 0.05550956394864826, 0.02775478197432413, 0.13877390987162067, 0.05550956394864826, 0.19428347382026892, 0.13877390987162067, 0.13877390987162067, 0.053932005877612994, 0.26966002938806494, 0.053932005877612994, 0.053932005877612994, 0.21572802351045198, 0.053932005877612994, 0.26966002938806494, 0.11319127169472944, 0.11319127169472944, 0.11319127169472944, 0.45276508677891775, 0.11319127169472944, 0.5237178807399994, 0.1163817512755554, 0.0581908756377777, 0.2327635025511108, 0.0581908756377777, 0.7599883933456874, 0.17297833423867803, 0.5189350027160341, 0.08648916711933902, 0.08648916711933902, 0.17297833423867803, 0.14072590172861688, 0.07036295086430844, 0.49254065605015906, 0.07036295086430844, 0.14072590172861688, 0.07036295086430844, 0.8373389327971374, 0.17955483676206754, 0.17955483676206754, 0.05985161225402252, 0.11970322450804503, 0.05985161225402252, 0.05985161225402252, 0.3591096735241351, 0.2255870609200024, 0.6767611827600073, 0.7562169071449963, 0.062332180446709094, 0.49865744357367275, 0.062332180446709094, 0.12466436089341819, 0.062332180446709094, 0.062332180446709094, 0.12466436089341819, 0.738532308291888, 0.759988952654241, 0.526640669669814, 0.15046876276280402, 0.22570314414420603, 0.7359187737787234, 0.07921689132599675, 0.09902111415749595, 0.01980422283149919, 0.316867565303987, 0.03960844566299838, 0.03960844566299838, 0.17823800548349272, 0.03960844566299838, 0.01980422283149919, 0.1980422283149919, 0.14252541827436732, 0.7126270913718366, 0.8451606829299613, 0.76388227682982, 0.7599891711200571, 0.5640257867376138, 0.05640257867376139, 0.11280515734752278, 0.16920773602128417, 0.05640257867376139, 0.7500745636101654, 0.750566551423828, 0.6848377252170106, 0.032611320248429075, 0.032611320248429075, 0.032611320248429075, 0.16305660124214538, 0.6048933167260344, 0.08641333096086207, 0.08641333096086207, 0.08641333096086207, 0.08641333096086207, 0.5667360985601831, 0.750736849695307, 0.07932913120271164, 0.03966456560135582, 0.19832282800677908, 0.17849054520610116, 0.01983228280067791, 0.11899369680406745, 0.2379873936081349, 0.09916141400338954, 0.01983228280067791, 0.7361049084588989, 0.037699738775654544, 0.05654960816348182, 0.05654960816348182, 0.037699738775654544, 0.018849869387827272, 0.07539947755130909, 0.15079895510261818, 0.49009660408350914, 0.05654960816348182, 0.140103509633809, 0.6304657933521405, 0.0700517548169045, 0.140103509633809, 0.20064067077211564, 0.7022423477024048, 0.7571287693508465, 0.8358214145923657, 0.1612192781334107, 0.053739759377803564, 0.053739759377803564, 0.4299180750224285, 0.21495903751121426, 0.053739759377803564, 0.5242256216450232, 0.3494837477633488, 0.6140193681764807, 0.1023365613627468, 0.0511682806813734, 0.15350484204412018, 0.7569344160129239, 0.07944829986525373, 0.10593106648700497, 0.07944829986525373, 0.18537936635225868, 0.15889659973050746, 0.052965533243502484, 0.10593106648700497, 0.21186213297400994, 0.03542916887040523, 0.07085833774081046, 0.4960083641856732, 0.07085833774081046, 0.07085833774081046, 0.17714584435202615, 0.03542916887040523, 0.03542916887040523, 0.9097120462543438, 0.7389967564110476, 0.7507503987262727, 0.863212302366855, 0.6906407454783486, 0.1603945354466118, 0.6415781417864472, 0.1603945354466118, 0.19069152459230965, 0.5720745737769289, 0.6735722539299236, 0.5995648680816837, 0.2569563720350073, 0.0856521240116691, 0.0856521240116691, 0.7516793157679857, 0.6417734202411457, 0.16044335506028642, 0.6043658489706809, 0.05036382074755674, 0.10072764149511348, 0.10072764149511348, 0.10072764149511348, 0.8266483697431785, 0.029005205955901, 0.029005205955901, 0.029005205955901, 0.058010411911802, 0.7649936999188515, 0.7509938553360861, 0.7644544431731816, 0.3378609320285345, 0.03754010355872606, 0.1877005177936303, 0.22524062135235637, 0.07508020711745211, 0.11262031067617818, 0.18728084644557003, 0.32105287962097717, 0.05350881327016287, 0.05350881327016287, 0.026754406635081433, 0.10701762654032573, 0.13377203317540717, 0.10701762654032573, 0.026754406635081433, 0.14783017027024675, 0.02956603405404935, 0.26609430648644417, 0.14783017027024675, 0.0591320681080987, 0.1182641362161974, 0.08869810216214805, 0.02956603405404935, 0.1182641362161974, 0.02956603405404935, 0.7385687222735233, 0.7449829571857584, 0.7638724158814703, 0.15536050179533314, 0.15536050179533314, 0.051786833931777715, 0.051786833931777715, 0.10357366786355543, 0.4142946714542217, 0.6157195056653818, 0.12314390113307637, 0.12314390113307637, 0.061571950566538185, 0.14102164664948583, 0.14102164664948583, 0.14102164664948583, 0.5640865865979433, 0.7489118050747572, 0.7500890829337686, 0.8371799976273313, 0.7395107838870977, 0.13483921851650613, 0.11236601543042177, 0.11236601543042177, 0.13483921851650613, 0.17978562468867482, 0.22473203086084353, 0.06741960925825306, 0.022473203086084352, 0.11569772963035954, 0.20247102685312918, 0.08677329722276965, 0.05784886481517977, 0.3760176212986685, 0.05784886481517977, 0.05784886481517977, 0.028924432407589885, 0.8516216207500806, 0.04461666885906197, 0.8923333771812395, 0.04461666885906197, 0.8833407307145693, 0.7564209309194995, 0.07129178947552543, 0.14258357895105087, 0.14258357895105087, 0.07129178947552543, 0.07129178947552543, 0.499042526328678, 0.19034607064496017, 0.06344869021498672, 0.19034607064496017, 0.38069214128992035, 0.12689738042997345, 0.7450078404520698, 0.7563014577649724, 0.22948817157901996, 0.6884645147370598, 0.7449935643172163, 0.09194123155663099, 0.275823694669893, 0.09194123155663099, 0.06129415437108733, 0.18388246311326198, 0.15323538592771832, 0.15323538592771832, 0.2251421902178304, 0.2251421902178304, 0.6754265706534912, 0.7634841943752019, 0.07234995299860038, 0.23513734724545124, 0.27131232374475145, 0.12661241774755067, 0.10852492949790057, 0.09043744124825047, 0.018087488249650095, 0.03617497649930019, 0.05426246474895029, 0.06695608017572233, 0.06695608017572233, 0.401736481054334, 0.200868240527167, 0.13391216035144465, 0.06695608017572233, 0.15979573290312185, 0.15979573290312185, 0.6391829316124874, 0.08985614251604629, 0.7637772113863935, 0.044928071258023144, 0.044928071258023144, 0.7517252536291158, 0.15693750430182105, 0.7846875215091051, 0.06641468359006593, 0.06641468359006593, 0.33207341795032963, 0.13282936718013186, 0.33207341795032963, 0.06641468359006593, 0.7599886511318866, 0.7655135603085698, 0.08048278298777208, 0.05365518865851472, 0.29510353762183095, 0.02682759432925736, 0.18779316030480153, 0.16096556597554415, 0.08048278298777208, 0.08048278298777208, 0.02682759432925736, 0.7516686719970316, 0.7507456313004094, 0.04759920192054249, 0.12693120512144662, 0.30146161216343575, 0.06346560256072331, 0.25386241024289324, 0.04759920192054249, 0.015866400640180828, 0.031732801280361655, 0.07933200320090414, 0.18754826369307917, 0.7501930547723167, 0.7638227926459533, 0.7507474492940356, 0.8558174605064395, 0.756438307191611, 0.18910613181789276, 0.5673183954536783, 0.11210525763975297, 0.7847368034782708, 0.06341257641050929, 0.09511886461576395, 0.031706288205254646, 0.031706288205254646, 0.031706288205254646, 0.539006899489329, 0.09511886461576395, 0.09511886461576395, 0.23973167381904334, 0.23973167381904334, 0.0799105579396811, 0.3995527896984056, 0.622818554937315, 0.124563710987463, 0.124563710987463, 0.08801710386076253, 0.08801710386076253, 0.08801710386076253, 0.17603420772152506, 0.5721111750949565, 0.01811381323683176, 0.21736575884198112, 0.03622762647366352, 0.2717071985524764, 0.18113813236831758, 0.03622762647366352, 0.18113813236831758, 0.01811381323683176, 0.03622762647366352, 0.7651139792622076, 0.07624959030173858, 0.5337471321121701, 0.07624959030173858, 0.22874877090521575, 0.763645578039357, 0.7361807531052533, 0.5248030615649644, 0.07497186593785204, 0.1499437318757041, 0.07497186593785204, 0.07497186593785204, 0.07497186593785204, 0.751736396521695, 0.7500720119944778, 0.7638760375916144, 0.22797163615911778, 0.6839149084773534, 0.06314896103213799, 0.06314896103213799, 0.189446883096414, 0.06314896103213799, 0.12629792206427598, 0.31574480516069, 0.189446883096414, 0.7450376117036399, 0.11390095934066058, 0.17085143901099087, 0.11390095934066058, 0.05695047967033029, 0.05695047967033029, 0.4556038373626423, 0.12452091384555802, 0.7471254830733481, 0.19135856887835945, 0.7654342755134378, 0.40198971865072036, 0.024611615427595122, 0.10254839761497968, 0.10665033351957887, 0.07793678218738455, 0.024611615427595122, 0.11075226942417805, 0.10254839761497968, 0.049223230855190245, 0.203233082561233, 0.6096992476836991, 0.1016165412806165, 0.1016165412806165, 0.06455109044680002, 0.8068886305850003, 0.03227554522340001, 0.09682663567020004, 0.7450066544364949, 0.07013367751888112, 0.2805347100755245, 0.2805347100755245, 0.03506683875944056, 0.03506683875944056, 0.17533419379720283, 0.10520051627832169, 0.7391103469400649, 0.034331380577703484, 0.034331380577703484, 0.2918167349104796, 0.15449121259966567, 0.017165690288851742, 0.05149707086655522, 0.05149707086655522, 0.08582845144425871, 0.10299414173311044, 0.18882259317736916, 0.7500826648993323, 0.16104563374573613, 0.16104563374573613, 0.6441825349829445, 0.8030906816351175, 0.09320431104853379, 0.13980646657280066, 0.23301077762133446, 0.2796129331456013, 0.13980646657280066, 0.13980646657280066, 0.14675734393361678, 0.14675734393361678, 0.04891911464453893, 0.14675734393361678, 0.04891911464453893, 0.04891911464453893, 0.04891911464453893, 0.09783822928907786, 0.24459557322269465, 0.04891911464453893, 0.24087349816665465, 0.13381861009258592, 0.05352744403703437, 0.08029116605555155, 0.21410977614813748, 0.1605823321111031, 0.10705488807406874, 0.8106291337276706, 0.10132864171595883, 0.10312511813894204, 0.10312511813894204, 0.6187507088336522, 0.7852879137500205, 0.874975305476717, 0.8442983611342135, 0.670817092096439, 0.053582860121010586, 0.13395715030252647, 0.026791430060505293, 0.3214971607260635, 0.10716572024202117, 0.26791430060505295, 0.053582860121010586, 0.8269120112169701, 0.7365361472756842, 0.8444431805491921, 0.10796059054520955, 0.16194088581781435, 0.5937832479986526, 0.05398029527260478, 0.05398029527260478, 0.11341137696903363, 0.11341137696903363, 0.4536455078761345, 0.11341137696903363, 0.11341137696903363, 0.06321816943147895, 0.2528726777259158, 0.06321816943147895, 0.5689635248833106, 0.059859728865773176, 0.7781764752550513, 0.059859728865773176, 0.059859728865773176, 0.8373885855132748, 0.7599910324686229, 0.05843423374428804, 0.15582462331810143, 0.1947807791476268, 0.11686846748857609, 0.03895615582952536, 0.11686846748857609, 0.0973903895738134, 0.0973903895738134, 0.07791231165905071, 0.05843423374428804, 0.7505668427435179, 0.8562272853781755, 0.7182654353158331, 0.06529685775598483, 0.06529685775598483, 0.13059371551196966, 0.06529685775598483, 0.45306109124429483, 0.02323390211509204, 0.18587121692073633, 0.034850853172638065, 0.034850853172638065, 0.18587121692073633, 0.034850853172638065, 0.04646780423018408, 0.07658556455723632, 0.07658556455723632, 0.07658556455723632, 0.6892700810151269, 0.762458184796563], \"Term\": [\"30pm\", \"abolish\", \"abolish\", \"abortion\", \"abortion\", \"abortion\", \"abortion\", \"abortion\", \"absurdity\", \"abuse\", \"abuse\", \"abuse\", \"abuse\", \"abusive\", \"accidentally\", \"accord\", \"account\", \"account\", \"accountability\", \"actually\", \"actually\", \"actually\", \"actually\", \"actually\", \"actually\", \"actually\", \"administration\", \"administration\", \"administration\", \"administration\", \"administration\", \"administration\", \"administration\", \"advertise\", \"afford\", \"afford\", \"afghanistan\", \"age\", \"agree\", \"agree\", \"agree\", \"agree\", \"agree\", \"ai\", \"alejandro\", \"alien\", \"alien\", \"alien\", \"alien\", \"allege\", \"alto\", \"amendment\", \"amendment\", \"amendment\", \"amendment\", \"america\", \"america\", \"america\", \"america\", \"america\", \"america\", \"america\", \"america\", \"america\", \"america\", \"american\", \"american\", \"american\", \"american\", \"american\", \"american\", \"american\", \"american\", \"american\", \"american\", \"americans\", \"americans\", \"americans\", \"americans\", \"americans\", \"americans\", \"americans\", \"answer\", \"answer\", \"answer\", \"answer\", \"answer\", \"answer\", \"antifa\", \"anymore\", \"anymore\", \"anymore\", \"apple\", \"apple\", \"apple\", \"apple\", \"apple\", \"approximately\", \"arrogant\", \"arsonist\", \"ask\", \"ask\", \"ask\", \"ask\", \"ask\", \"ask\", \"ask\", \"assassinate\", \"attack\", \"attack\", \"attack\", \"attack\", \"attack\", \"attack\", \"away\", \"away\", \"away\", \"away\", \"away\", \"away\", \"away\", \"back\", \"bad\", \"bad\", \"bad\", \"bad\", \"bad\", \"bad\", \"bad\", \"bad\", \"bad\", \"bag\", \"bail\", \"bail\", \"bail\", \"bail\", \"baker\", \"beautiful\", \"beer\", \"bernie\", \"bidenbordercrisis\", \"bidenbordercrisis\", \"bidenbordercrisis\", \"bidenbordercrisis\", \"bidenbordercrisis\", \"bidenrecession\", \"big\", \"big\", \"big\", \"big\", \"big\", \"big\", \"big\", \"big\", \"big\", \"bird\", \"blind\", \"body\", \"body\", \"bolduc\", \"book\", \"book\", \"book\", \"book\", \"book\", \"book\", \"book\", \"boot\", \"border\", \"border\", \"border\", \"border\", \"border\", \"border\", \"border\", \"border\", \"border\", \"bother\", \"bother\", \"bound\", \"brett\", \"caign\", \"caign\", \"caign\", \"caign\", \"caign\", \"caign\", \"caign\", \"cake\", \"carbon\", \"carbon\", \"career\", \"cartel\", \"carter\", \"carter\", \"cashless\", \"cause\", \"cause\", \"cause\", \"cause\", \"cbs\", \"celebrate\", \"celebrate\", \"celebrate\", \"celebrate\", \"celebrate\", \"chaos\", \"chaos\", \"chappelle\", \"chardonnay\", \"charity\", \"chart\", \"chatinover\", \"checker\", \"checker\", \"choice\", \"choice\", \"choice\", \"choice\", \"choice\", \"cia\", \"cia\", \"clever\", \"clinton\", \"clinton\", \"clinton\", \"clinton\", \"cloakroom\", \"cloakroom\", \"cloakroom\", \"colleague\", \"column\", \"come\", \"come\", \"come\", \"come\", \"come\", \"come\", \"come\", \"come\", \"come\", \"come\", \"comedy\", \"commander\", \"commentator\", \"commissioner\", \"common\", \"concern\", \"concert\", \"confused\", \"conservative\", \"conservative\", \"conservative\", \"conservative\", \"conservative\", \"conservative\", \"conservative\", \"conservative\", \"consider\", \"contract\", \"cool\", \"corporate\", \"corporate\", \"corporate\", \"corporate\", \"corporate\", \"corporate\", \"corporate\", \"corporate\", \"corrupt\", \"corrupt\", \"corrupt\", \"corrupt\", \"corrupt\", \"corrupt\", \"corrupt\", \"corrupt\", \"cortez\", \"cottleville\", \"country\", \"country\", \"country\", \"country\", \"country\", \"country\", \"country\", \"country\", \"country\", \"country\", \"courageous\", \"course\", \"course\", \"course\", \"court\", \"court\", \"court\", \"court\", \"court\", \"court\", \"court\", \"court\", \"crack\", \"critical\", \"critical\", \"critical\", \"cross\", \"cross\", \"crt\", \"cryptocurrencie\", \"damn\", \"damn\", \"damn\", \"damn\", \"damn\", \"damn\", \"damn\", \"damn\", \"dangerous\", \"dangerous\", \"dangerous\", \"dangerous\", \"date\", \"day\", \"day\", \"day\", \"day\", \"day\", \"day\", \"day\", \"dc\", \"dc\", \"dc\", \"dc\", \"dc\", \"dc\", \"death\", \"death\", \"decision\", \"decision\", \"decision\", \"decision\", \"declare\", \"decline\", \"deep\", \"deep\", \"defend\", \"defend\", \"defend\", \"defend\", \"defend\", \"defend\", \"defend\", \"defend\", \"defunde\", \"defunde\", \"deliberately\", \"deliberately\", \"dem\", \"dem\", \"dem\", \"dem\", \"dem\", \"dem\", \"dem\", \"dem\", \"dem\", \"dem\", \"democrat\", \"democrat\", \"democrat\", \"democrat\", \"democrat\", \"democrat\", \"democrat\", \"democrat\", \"democrat\", \"democrat\", \"democrats\", \"democrats\", \"democrats\", \"democrats\", \"democrats\", \"democrats\", \"democrats\", \"democrats\", \"democrats\", \"democrats\", \"denounce\", \"deny\", \"deny\", \"deplorable\", \"deport\", \"depression\", \"derange\", \"destroy\", \"destroy\", \"destroy\", \"destroy\", \"destroy\", \"destroy\", \"destroy\", \"destroy\", \"destroy\", \"development\", \"devote\", \"dhs\", \"dhs\", \"dictator\", \"disaster\", \"disaster\", \"disaster\", \"disaster\", \"discuss\", \"discuss\", \"discuss\", \"discuss\", \"discuss\", \"discuss\", \"discuss\", \"discuss\", \"dismiss\", \"district\", \"district\", \"district\", \"district\", \"disturb\", \"dobbs\", \"dobbs\", \"dobbs\", \"doj\", \"doj\", \"doj\", \"doj\", \"doj\", \"doj\", \"doj\", \"donald\", \"donald\", \"donald\", \"draft\", \"draft\", \"draft\", \"drove\", \"dumfries\", \"eat\", \"eat\", \"el\", \"el\", \"endorse\", \"endorse\", \"endorse\", \"endorse\", \"endorse\", \"endorse\", \"endorse\", \"enemy\", \"enemy\", \"enemy\", \"enemy\", \"enemy\", \"enemy\", \"energy\", \"energy\", \"energy\", \"energy\", \"energy\", \"energy\", \"enforce\", \"enforce\", \"enforce\", \"enforce\", \"enjoy\", \"entrapment\", \"ep\", \"ep\", \"episode\", \"episode\", \"episode\", \"episode\", \"episode\", \"episode\", \"episode\", \"episode\", \"episode\", \"equip\", \"eric\", \"evidence\", \"evidence\", \"evil\", \"evil\", \"evil\", \"evil\", \"evil\", \"evil\", \"exactly\", \"exactly\", \"exactly\", \"exactly\", \"examine\", \"excellent\", \"excellent\", \"explain\", \"explain\", \"expose\", \"eye\", \"fact\", \"fact\", \"fact\", \"fact\", \"fact\", \"fact\", \"fact\", \"fact\", \"failure\", \"family\", \"family\", \"family\", \"family\", \"family\", \"family\", \"family\", \"family\", \"family\", \"fbi\", \"fbi\", \"fbi\", \"fbi\", \"fbi\", \"fbi\", \"fbi\", \"feather\", \"feather\", \"fed\", \"fed\", \"felony\", \"felony\", \"fight\", \"fight\", \"fight\", \"fight\", \"fight\", \"fight\", \"fight\", \"fight\", \"fight\", \"flood\", \"florida\", \"florida\", \"flourish\", \"focus\", \"focus\", \"focus\", \"focus\", \"follow\", \"follow\", \"follow\", \"follow\", \"follower\", \"follower\", \"foot\", \"footprint\", \"force\", \"force\", \"francisco\", \"fraud\", \"free\", \"free\", \"free\", \"free\", \"free\", \"free\", \"free\", \"freedom\", \"freedom\", \"freedom\", \"freedom\", \"freedom\", \"freedom\", \"freedom\", \"friend\", \"friend\", \"friend\", \"friend\", \"friend\", \"friend\", \"friend\", \"friend\", \"fuel\", \"fully\", \"fully\", \"funding\", \"funding\", \"funding\", \"future\", \"gallon\", \"gallon\", \"gallon\", \"gallop\", \"garland\", \"garland\", \"garland\", \"garland\", \"garland\", \"garland\", \"gas\", \"gas\", \"gas\", \"gas\", \"gas\", \"gas\", \"gas\", \"gas\", \"gaslighte\", \"gasoline\", \"gasoline\", \"gdp\", \"give\", \"give\", \"give\", \"give\", \"give\", \"give\", \"give\", \"go\", \"go\", \"go\", \"go\", \"go\", \"go\", \"go\", \"go\", \"go\", \"going\", \"good\", \"good\", \"good\", \"good\", \"good\", \"good\", \"good\", \"good\", \"good\", \"gorsuch\", \"great\", \"great\", \"great\", \"great\", \"great\", \"great\", \"great\", \"great\", \"grieve\", \"guest\", \"gun\", \"gun\", \"gun\", \"gun\", \"gun\", \"gun\", \"gun\", \"half\", \"half\", \"half\", \"half\", \"happen\", \"happen\", \"happen\", \"happen\", \"happen\", \"happen\", \"happen\", \"happen\", \"happen\", \"happy\", \"happy\", \"happy\", \"happy\", \"hardworke\", \"harriet\", \"harris\", \"harris\", \"harris\", \"harris\", \"hate\", \"hate\", \"hate\", \"hate\", \"hate\", \"hate\", \"heidi\", \"heidi\", \"heidi\", \"heidi\", \"high\", \"high\", \"high\", \"high\", \"high\", \"high\", \"high\", \"hispanic\", \"hispanic\", \"hispanic\", \"hispanic\", \"hollywood\", \"hollywood\", \"home\", \"home\", \"home\", \"home\", \"home\", \"home\", \"home\", \"hookem\", \"hookem\", \"hookem\", \"hookem\", \"horrific\", \"horrific\", \"horrific\", \"horrific\", \"horrific\", \"horrific\", \"horrifying\", \"horrifying\", \"house\", \"house\", \"house\", \"house\", \"house\", \"house\", \"house\", \"house\", \"house\", \"hurt\", \"hurt\", \"hurt\", \"hurt\", \"hurt\", \"iaea\", \"iheart\", \"iheart\", \"iheart\", \"iheart\", \"illegal\", \"illegal\", \"illegal\", \"illegal\", \"illegal\", \"illegal\", \"illegal\", \"illegal\", \"immediately\", \"immigrant\", \"immigrant\", \"immigrant\", \"immigrant\", \"immigrant\", \"impeach\", \"impeach\", \"impeachment\", \"important\", \"important\", \"important\", \"important\", \"important\", \"important\", \"important\", \"important\", \"impose\", \"impose\", \"inaccurate\", \"incite\", \"include\", \"include\", \"include\", \"include\", \"include\", \"include\", \"indefensible\", \"indefensible\", \"inflation\", \"inflation\", \"inflation\", \"inflation\", \"inflation\", \"inflation\", \"inflation\", \"infringe\", \"injustice\", \"insane\", \"insane\", \"insane\", \"inside\", \"insightful\", \"insist\", \"inspection\", \"inspection\", \"instead\", \"instead\", \"instead\", \"instead\", \"intensive\", \"invade\", \"iran\", \"iran\", \"iran\", \"iran\", \"irs\", \"irs\", \"irs\", \"irs\", \"irs\", \"irs\", \"irs\", \"island\", \"israel\", \"israel\", \"israel\", \"jerusalem\", \"jet\", \"jimmy\", \"jimmy\", \"job\", \"job\", \"job\", \"job\", \"job\", \"job\", \"job\", \"join\", \"join\", \"join\", \"join\", \"join\", \"join\", \"join\", \"join\", \"judge\", \"judge\", \"judge\", \"judge\", \"justice\", \"justice\", \"justice\", \"justice\", \"justice\", \"justice\", \"justice\", \"justice\", \"justice\", \"justicecorrupted\", \"justicecorrupted\", \"justicecorrupted\", \"justicecorrupted\", \"justicecorrupted\", \"justicecorrupted\", \"justicecorrupted\", \"justicecorrupted\", \"justicecorrupted\", \"kamala\", \"kamala\", \"kamala\", \"karine\", \"karine\", \"keith\", \"kid\", \"kid\", \"kid\", \"kid\", \"kid\", \"kid\", \"know\", \"know\", \"know\", \"know\", \"know\", \"know\", \"know\", \"know\", \"land\", \"late\", \"late\", \"late\", \"late\", \"late\", \"late\", \"late\", \"late\", \"late\", \"law\", \"law\", \"law\", \"law\", \"law\", \"law\", \"law\", \"law\", \"law\", \"law\", \"leader\", \"leader\", \"leader\", \"leak\", \"leak\", \"leak\", \"leak\", \"leaker\", \"leave\", \"leave\", \"leave\", \"leave\", \"leave\", \"leave\", \"leave\", \"leave\", \"leave\", \"leave\", \"lecturer\", \"left\", \"left\", \"left\", \"left\", \"left\", \"legal\", \"legal\", \"legal\", \"legal\", \"letnovakplay\", \"lever\", \"liberal\", \"liberal\", \"liberal\", \"liberal\", \"liberal\", \"liberal\", \"liberty\", \"liberty\", \"liberty\", \"liberty\", \"liberty\", \"lie\", \"lie\", \"lie\", \"lie\", \"lie\", \"lie\", \"lie\", \"life\", \"life\", \"life\", \"life\", \"life\", \"life\", \"life\", \"life\", \"life\", \"lifelibertytexas\", \"lifelibertytexas\", \"lift\", \"lift\", \"likely\", \"likely\", \"listen\", \"listen\", \"listen\", \"listen\", \"listen\", \"listen\", \"loot\", \"lose\", \"lose\", \"lose\", \"lose\", \"lose\", \"madness\", \"madness\", \"make\", \"make\", \"make\", \"make\", \"man\", \"man\", \"man\", \"man\", \"man\", \"man\", \"man\", \"man\", \"man\", \"manchin\", \"manchin\", \"martha\", \"martha\", \"martha\", \"martha\", \"mass\", \"masto\", \"mayorkas\", \"medium\", \"medium\", \"medium\", \"medium\", \"medium\", \"medium\", \"medium\", \"medium\", \"medium\", \"meet\", \"meet\", \"meet\", \"merrick\", \"merrick\", \"merrick\", \"merrick\", \"merrick\", \"merrick\", \"michael\", \"midterm\", \"midterm\", \"migrant\", \"mike\", \"military\", \"military\", \"military\", \"military\", \"military\", \"million\", \"million\", \"million\", \"million\", \"million\", \"million\", \"million\", \"million\", \"miss\", \"miss\", \"miss\", \"miss\", \"miss\", \"miss\", \"miss\", \"missouri\", \"missouri\", \"moment\", \"moment\", \"money\", \"money\", \"money\", \"money\", \"money\", \"money\", \"mortgage\", \"murder\", \"murder\", \"murder\", \"murder\", \"murder\", \"murder\", \"murderer\", \"murderer\", \"musk\", \"nancy\", \"nancy\", \"nature\", \"need\", \"need\", \"need\", \"need\", \"need\", \"need\", \"need\", \"need\", \"need\", \"need\", \"negative\", \"new\", \"new\", \"new\", \"new\", \"new\", \"new\", \"new\", \"new\", \"new\", \"new\", \"news\", \"news\", \"news\", \"news\", \"news\", \"news\", \"news\", \"newsom\", \"nh01\", \"nh01\", \"nh01\", \"night\", \"night\", \"night\", \"night\", \"night\", \"night\", \"nope\", \"north\", \"november\", \"november\", \"november\", \"november\", \"nuclear\", \"nuclear\", \"nuclear\", \"nuclear\", \"nuclear\", \"nut\", \"nut\", \"nut\", \"obama\", \"obama\", \"obama\", \"obama\", \"obama\", \"obama\", \"obamas\", \"object\", \"oil\", \"oil\", \"oil\", \"opinion\", \"opinion\", \"opinion\", \"opinion\", \"order\", \"order\", \"order\", \"order\", \"oversight\", \"oversight\", \"owe\", \"own\", \"pack\", \"pack\", \"pack\", \"pack\", \"palo\", \"palpatine\", \"panic\", \"parent\", \"parent\", \"parent\", \"parent\", \"parent\", \"party\", \"party\", \"party\", \"party\", \"party\", \"party\", \"party\", \"paul\", \"pelosi\", \"pelosi\", \"pelosi\", \"pelosi\", \"people\", \"people\", \"people\", \"people\", \"people\", \"people\", \"people\", \"people\", \"people\", \"people\", \"phrase\", \"plague\", \"plan\", \"plan\", \"player\", \"plus\", \"pm\", \"pod\", \"pod\", \"pod\", \"pod\", \"podcast\", \"podcast\", \"podcast\", \"podcast\", \"podcast\", \"podcast\", \"podcast\", \"point\", \"point\", \"point\", \"point\", \"point\", \"poker\", \"poker\", \"poker\", \"policy\", \"policy\", \"policy\", \"policy\", \"policy\", \"policy\", \"policy\", \"politic\", \"politic\", \"politic\", \"politic\", \"politic\", \"political\", \"political\", \"political\", \"political\", \"political\", \"political\", \"political\", \"political\", \"political\", \"position\", \"possibly\", \"pound\", \"pour\", \"pour\", \"powerful\", \"powerful\", \"powerful\", \"powerful\", \"powerful\", \"pray\", \"pray\", \"pray\", \"prayer\", \"prayer\", \"prayer\", \"prayer\", \"pre\", \"pre\", \"pre\", \"press\", \"press\", \"press\", \"press\", \"press\", \"press\", \"price\", \"price\", \"price\", \"price\", \"price\", \"price\", \"principled\", \"principled\", \"print\", \"prior\", \"private\", \"private\", \"progress\", \"propose\", \"protect\", \"protect\", \"protect\", \"protect\", \"protect\", \"protestor\", \"proud\", \"proud\", \"proud\", \"proud\", \"proud\", \"proud\", \"proud\", \"q\", \"quarter\", \"race\", \"race\", \"race\", \"radical\", \"radical\", \"radical\", \"radical\", \"radical\", \"radical\", \"radical\", \"radical\", \"radical\", \"rally\", \"rally\", \"rally\", \"rally\", \"rally\", \"rally\", \"rally\", \"rate\", \"rate\", \"rate\", \"rate\", \"rate\", \"recession\", \"recession\", \"recession\", \"recession\", \"recession\", \"recording\", \"red\", \"red\", \"red\", \"red\", \"red\", \"refuse\", \"refuse\", \"refuse\", \"refuse\", \"refuse\", \"refuse\", \"register\", \"release\", \"release\", \"release\", \"release\", \"release\", \"release\", \"release\", \"responsible\", \"responsible\", \"restrict\", \"result\", \"result\", \"result\", \"result\", \"result\", \"result\", \"result\", \"revise\", \"rib\", \"rich\", \"rich\", \"rich\", \"riddance\", \"right\", \"right\", \"right\", \"right\", \"right\", \"right\", \"right\", \"right\", \"right\", \"right\", \"rigorous\", \"rigorous\", \"risk\", \"roberts\", \"rock\", \"roe\", \"roe\", \"roe\", \"roe\", \"roe\", \"roll\", \"rulesfortheebutnotforme\", \"rumble\", \"rumble\", \"rumble\", \"rumble\", \"rumble\", \"s\", \"s\", \"s\", \"s\", \"s\", \"sacrifice\", \"san\", \"say\", \"say\", \"say\", \"say\", \"say\", \"say\", \"say\", \"say\", \"say\", \"scandal\", \"school\", \"school\", \"school\", \"school\", \"school\", \"school\", \"school\", \"school\", \"school\", \"schumer\", \"schumer\", \"schumer\", \"schumer\", \"science\", \"science\", \"scotty\", \"screw\", \"second\", \"second\", \"second\", \"second\", \"second\", \"second\", \"secretary\", \"secretary\", \"secure\", \"secure\", \"secure\", \"secure\", \"seismic\", \"senate\", \"senate\", \"senate\", \"senate\", \"senate\", \"senate\", \"senate\", \"senate\", \"send\", \"send\", \"send\", \"send\", \"send\", \"send\", \"send\", \"send\", \"series\", \"servant\", \"sexualize\", \"shameless\", \"shocker\", \"show\", \"show\", \"show\", \"sick\", \"sick\", \"sky\", \"skyrocket\", \"skyrocket\", \"skyrocket\", \"skyrocket\", \"solve\", \"spectacular\", \"spectacular\", \"speech\", \"speech\", \"speech\", \"speech\", \"speech\", \"spotify\", \"spotify\", \"spotify\", \"spotify\", \"spotify\", \"springfield\", \"spy\", \"squad\", \"stand\", \"stand\", \"stand\", \"stand\", \"stand\", \"stand\", \"state\", \"state\", \"state\", \"state\", \"state\", \"state\", \"state\", \"state\", \"state\", \"stop\", \"stop\", \"stop\", \"stop\", \"stop\", \"stop\", \"stop\", \"stop\", \"stop\", \"stop\", \"storm\", \"strangle\", \"strident\", \"strong\", \"strong\", \"strong\", \"strong\", \"strong\", \"strong\", \"student\", \"student\", \"student\", \"student\", \"stunning\", \"stunning\", \"stunning\", \"stunning\", \"succeed\", \"suck\", \"summit\", \"superintendent\", \"support\", \"support\", \"support\", \"support\", \"support\", \"support\", \"support\", \"support\", \"supreme\", \"supreme\", \"supreme\", \"supreme\", \"supreme\", \"supreme\", \"supreme\", \"supreme\", \"surrender\", \"system\", \"system\", \"system\", \"taiwan\", \"taliban\", \"talk\", \"talk\", \"talk\", \"talk\", \"talk\", \"talk\", \"target\", \"target\", \"target\", \"target\", \"target\", \"tarrantcounty\", \"taxpayer\", \"tear\", \"tear\", \"teenage\", \"tell\", \"tell\", \"tell\", \"tell\", \"tell\", \"tell\", \"tell\", \"tennessee\", \"tennessee\", \"tennessee\", \"texans\", \"texas\", \"texas\", \"texas\", \"texas\", \"texas\", \"texas\", \"texas\", \"texas\", \"texas\", \"thank\", \"thank\", \"thank\", \"thank\", \"thank\", \"thank\", \"theory\", \"theory\", \"theory\", \"thing\", \"thing\", \"thing\", \"thing\", \"thisispoliticsnotscience\", \"thomas\", \"thomas\", \"thousand\", \"thousand\", \"thousand\", \"thousand\", \"thousand\", \"thousand\", \"thug\", \"till\", \"time\", \"time\", \"time\", \"time\", \"time\", \"time\", \"time\", \"time\", \"time\", \"tin\", \"title\", \"today\", \"today\", \"today\", \"today\", \"today\", \"today\", \"today\", \"today\", \"today\", \"ton\", \"ton\", \"top\", \"total\", \"trace\", \"tragedy\", \"treat\", \"treat\", \"trillion\", \"trillion\", \"true\", \"true\", \"true\", \"true\", \"true\", \"true\", \"true\", \"true\", \"truly\", \"truly\", \"truly\", \"truly\", \"trust\", \"trust\", \"trust\", \"truth\", \"truth\", \"truth\", \"truth\", \"truth\", \"try\", \"try\", \"try\", \"try\", \"try\", \"try\", \"try\", \"try\", \"try\", \"tune\", \"turn\", \"turn\", \"turn\", \"turn\", \"turquzabad\", \"twisted\", \"u\", \"u\", \"u\", \"u\", \"u\", \"u\", \"unknown\", \"unlock\", \"upside\", \"uranium\", \"uranium\", \"use\", \"use\", \"use\", \"use\", \"use\", \"use\", \"use\", \"utsen\", \"utterly\", \"utterly\", \"utterly\", \"utterly\", \"utterly\", \"utterly\", \"v\", \"v\", \"va07\", \"va07\", \"verdict\", \"verdict\", \"verdict\", \"verdict\", \"verdict\", \"verdict\", \"verdict\", \"verdict\", \"verdict\", \"victory\", \"victory\", \"victory\", \"victory\", \"vineyard\", \"vineyard\", \"vineyard\", \"vineyard\", \"violate\", \"violence\", \"violence\", \"violence\", \"violence\", \"violence\", \"violence\", \"violence\", \"virus\", \"vote\", \"vote\", \"vote\", \"vote\", \"vote\", \"vote\", \"vote\", \"vote\", \"vote\", \"vote\", \"voters\", \"vs\", \"vs\", \"vs\", \"wade\", \"wake\", \"wake\", \"wake\", \"wake\", \"wake\", \"wake\", \"want\", \"want\", \"want\", \"want\", \"want\", \"want\", \"want\", \"want\", \"want\", \"want\", \"watch\", \"watch\", \"watch\", \"watch\", \"watch\", \"watch\", \"watch\", \"wave\", \"wave\", \"weapon\", \"weapon\", \"weapon\", \"weaponize\", \"weaponized\", \"welcome\", \"whirlwind\", \"white\", \"white\", \"white\", \"white\", \"white\", \"white\", \"white\", \"whitmer\", \"winger\", \"wonder\", \"world\", \"world\", \"world\", \"world\", \"world\", \"worldserie\", \"worldserie\", \"worldserie\", \"worldserie\", \"worldserie\", \"worth\", \"worth\", \"worth\", \"worth\", \"wow\", \"wow\", \"wow\", \"wow\", \"wristband\", \"wyoming\", \"year\", \"year\", \"year\", \"year\", \"year\", \"year\", \"year\", \"year\", \"year\", \"year\", \"yearly\", \"yep\", \"yes\", \"yes\", \"yes\", \"yes\", \"yes\", \"youtube\", \"youtube\", \"youtube\", \"youtube\", \"youtube\", \"youtube\", \"youtube\", \"youtube\", \"yup\", \"yup\", \"yup\", \"yup\", \"zealot\"]}, \"R\": 30, \"lambda.step\": 0.01, \"plot.opts\": {\"xlab\": \"PC1\", \"ylab\": \"PC2\"}, \"topic.order\": [8, 1, 9, 6, 4, 2, 10, 7, 3, 5]};\n",
       "\n",
       "function LDAvis_load_lib(url, callback){\n",
       "  var s = document.createElement('script');\n",
       "  s.src = url;\n",
       "  s.async = true;\n",
       "  s.onreadystatechange = s.onload = callback;\n",
       "  s.onerror = function(){console.warn(\"failed to load library \" + url);};\n",
       "  document.getElementsByTagName(\"head\")[0].appendChild(s);\n",
       "}\n",
       "\n",
       "if(typeof(LDAvis) !== \"undefined\"){\n",
       "   // already loaded: just create the visualization\n",
       "   !function(LDAvis){\n",
       "       new LDAvis(\"#\" + \"ldavis_el280711406589847733286794520539\", ldavis_el280711406589847733286794520539_data);\n",
       "   }(LDAvis);\n",
       "}else if(typeof define === \"function\" && define.amd){\n",
       "   // require.js is available: use it to load d3/LDAvis\n",
       "   require.config({paths: {d3: \"https://d3js.org/d3.v5\"}});\n",
       "   require([\"d3\"], function(d3){\n",
       "      window.d3 = d3;\n",
       "      LDAvis_load_lib(\"https://cdn.jsdelivr.net/gh/bmabey/pyLDAvis@3.3.1/pyLDAvis/js/ldavis.v3.0.0.js\", function(){\n",
       "        new LDAvis(\"#\" + \"ldavis_el280711406589847733286794520539\", ldavis_el280711406589847733286794520539_data);\n",
       "      });\n",
       "    });\n",
       "}else{\n",
       "    // require.js not available: dynamically load d3 & LDAvis\n",
       "    LDAvis_load_lib(\"https://d3js.org/d3.v5.js\", function(){\n",
       "         LDAvis_load_lib(\"https://cdn.jsdelivr.net/gh/bmabey/pyLDAvis@3.3.1/pyLDAvis/js/ldavis.v3.0.0.js\", function(){\n",
       "                 new LDAvis(\"#\" + \"ldavis_el280711406589847733286794520539\", ldavis_el280711406589847733286794520539_data);\n",
       "            })\n",
       "         });\n",
       "}\n",
       "</script>"
      ],
      "text/plain": [
       "PreparedData(topic_coordinates=              x         y  topics  cluster       Freq\n",
       "topic                                                \n",
       "7      0.206665  0.024918       1        1  12.875325\n",
       "0     -0.027871 -0.017134       2        1  12.316486\n",
       "8      0.020189 -0.124247       3        1  11.869299\n",
       "5     -0.022628  0.062131       4        1  11.634105\n",
       "3     -0.054854 -0.080173       5        1   9.516215\n",
       "1     -0.098282  0.009163       6        1   9.061209\n",
       "9      0.067129  0.053070       7        1   8.669722\n",
       "6     -0.012927 -0.106163       8        1   8.470286\n",
       "2      0.002948  0.050356       9        1   8.297641\n",
       "4     -0.080368  0.128079      10        1   7.289713, topic_info=        Term        Freq       Total Category  logprob  loglift\n",
       "19   podcast   78.000000   78.000000  Default  30.0000  30.0000\n",
       "13     apple   65.000000   65.000000  Default  29.0000  29.0000\n",
       "22   spotify   68.000000   68.000000  Default  28.0000  28.0000\n",
       "24   verdict  243.000000  243.000000  Default  27.0000  27.0000\n",
       "164  episode  129.000000  129.000000  Default  26.0000  26.0000\n",
       "..       ...         ...         ...      ...      ...      ...\n",
       "51   country    7.652565   47.755759  Topic10  -5.0086   0.7876\n",
       "60     night    4.874873   14.873532  Topic10  -5.4595   1.5032\n",
       "78   freedom    5.245694   19.412606  Topic10  -5.3862   1.3102\n",
       "295    rally    5.072100   18.541866  Topic10  -5.4198   1.3224\n",
       "193      bad    5.325163   41.686648  Topic10  -5.3712   0.5610\n",
       "\n",
       "[694 rows x 6 columns], token_table=      Topic      Freq      Term\n",
       "term                           \n",
       "1816     10  0.763294      30pm\n",
       "302       2  0.324791   abolish\n",
       "302       6  0.487187   abolish\n",
       "168       2  0.167600  abortion\n",
       "168       3  0.167600  abortion\n",
       "...     ...       ...       ...\n",
       "199       2  0.076586       yup\n",
       "199       5  0.076586       yup\n",
       "199       6  0.076586       yup\n",
       "199      10  0.689270       yup\n",
       "959       8  0.762458    zealot\n",
       "\n",
       "[1818 rows x 3 columns], R=30, lambda_step=0.01, plot_opts={'xlab': 'PC1', 'ylab': 'PC2'}, topic_order=[8, 1, 9, 6, 4, 2, 10, 7, 3, 5])"
      ]
     },
     "execution_count": 295,
     "metadata": {},
     "output_type": "execute_result"
    }
   ],
   "source": [
    "#Creating Topic Distance Visualization \n",
    "pyLDAvis.enable_notebook()\n",
    "pyLDAvis.gensim_models.prepare(base_model, corpus, id2word)"
   ]
  },
  {
   "cell_type": "code",
   "execution_count": null,
   "id": "43dc8c18",
   "metadata": {},
   "outputs": [],
   "source": [
    "# Things to filter: \"amp, w/, blank space, w, +, \"\n",
    "# denser grid search\n",
    "# learn about hyperparameters and evaluation metrics\n",
    "# ask Eric about whether it is better to train the model on 1 set of data or multiple sets of data"
   ]
  },
  {
   "cell_type": "code",
   "execution_count": 22,
   "id": "044c22ce",
   "metadata": {},
   "outputs": [],
   "source": [
    "df['lemmas_back_to_text_clean'] =  df['lemma_tokens'].transform(lambda x: ' '.join(x))"
   ]
  },
  {
   "cell_type": "code",
   "execution_count": 25,
   "id": "74e9720f",
   "metadata": {},
   "outputs": [
    {
     "data": {
      "text/plain": [
       "GridSearchCV(error_score='raise',\n",
       "             estimator=LatentDirichletAllocation(learning_method=None,\n",
       "                                                 n_jobs=1),\n",
       "             n_jobs=1,\n",
       "             param_grid={'learning_decay': [0.2, 0.35, 0.5, 0.7, 0.9],\n",
       "                         'n_topics': [1, 3, 5, 7, 10, 12, 15, 20, 30]},\n",
       "             return_train_score='warn')"
      ]
     },
     "execution_count": 25,
     "metadata": {},
     "output_type": "execute_result"
    }
   ],
   "source": [
    "# HYPERPARAMETERS TUNING\n",
    "vectorizer = CountVectorizer()\n",
    "data_vectorized = vectorizer.fit_transform(df['lemmas_back_to_text_clean'])\n",
    "\n",
    "# Define Search Param\n",
    "search_params = {'n_components': [10, 15, 20, 25, 30], 'learning_decay': [.5, .7, .9]}\n",
    "\n",
    "# Init the Model\n",
    "lda = LatentDirichletAllocation()\n",
    "\n",
    "# Init Grid Search Class\n",
    "model = GridSearchCV(lda, param_grid=search_params)\n",
    "\n",
    "# Do the Grid Search\n",
    "model.fit(data_vectorized)\n",
    "GridSearchCV(cv=None, error_score='raise',\n",
    "             estimator=LatentDirichletAllocation(batch_size=128, \n",
    "                                                 doc_topic_prior=None,\n",
    "                                                 evaluate_every=-1, \n",
    "                                                 learning_decay=0.7, \n",
    "                                                 learning_method=None,\n",
    "                                                 learning_offset=10.0, \n",
    "                                                 max_doc_update_iter=100, \n",
    "                                                 max_iter=10,\n",
    "                                                 mean_change_tol=0.001, \n",
    "                                                 n_components=10, \n",
    "                                                 n_jobs=1,\n",
    "                                                 perp_tol=0.1, \n",
    "                                                 random_state=None,\n",
    "                                                 topic_word_prior=None, \n",
    "                                                 total_samples=1000000.0, \n",
    "                                                 verbose=0),\n",
    "             n_jobs=1,\n",
    "             param_grid={'n_topics': [1, 3, 5, 7, 10, 12, 15, 20, 30], \n",
    "                         'learning_decay': [0.2, 0.35, 0.5, 0.7, 0.9]},\n",
    "             pre_dispatch='2*n_jobs', refit=True, return_train_score='warn',\n",
    "             scoring=None, verbose=0)\n"
   ]
  },
  {
   "cell_type": "code",
   "execution_count": 26,
   "id": "f8282d54",
   "metadata": {},
   "outputs": [
    {
     "name": "stdout",
     "output_type": "stream",
     "text": [
      "Best Model's Params:  {'learning_decay': 0.9, 'n_components': 10}\n",
      "Best Log Likelihood Score:  -45977.037297281066\n",
      "Model Perplexity:  2947.4065033993957\n"
     ]
    }
   ],
   "source": [
    "# Best Model\n",
    "best_lda_model = model.best_estimator_\n",
    "\n",
    "# Model Parameters\n",
    "print(\"Best Model's Params: \", model.best_params_)\n",
    "\n",
    "# Log Likelihood Score\n",
    "print(\"Best Log Likelihood Score: \", model.best_score_)\n",
    "\n",
    "# Perplexity\n",
    "print(\"Model Perplexity: \", best_lda_model.perplexity(data_vectorized))"
   ]
  },
  {
   "cell_type": "code",
   "execution_count": 41,
   "id": "e4263e16",
   "metadata": {},
   "outputs": [
    {
     "data": {
      "text/plain": [
       "10"
      ]
     },
     "execution_count": 41,
     "metadata": {},
     "output_type": "execute_result"
    }
   ],
   "source": [
    "model.best_params_['n_components']"
   ]
  },
  {
   "cell_type": "code",
   "execution_count": null,
   "id": "a3092862",
   "metadata": {},
   "outputs": [],
   "source": []
  },
  {
   "cell_type": "code",
   "execution_count": 26,
   "id": "32acc3a6",
   "metadata": {},
   "outputs": [
    {
     "name": "stderr",
     "output_type": "stream",
     "text": [
      "100%|████████████████████████████████████████████| 20/20 [00:00<00:00, 113.86it/s]\n"
     ]
    }
   ],
   "source": [
    "# Test BTM\n",
    "import bitermplus as btm\n",
    "\n",
    "texts = df['lemmas_back_to_text'].str.strip().tolist()\n",
    "\n",
    "X, vocabulary, vocab_dict = btm.get_words_freqs(texts)\n",
    "docs_vec = btm.get_vectorized_docs(texts, vocabulary)\n",
    "biterms = btm.get_biterms(docs_vec)\n",
    "\n",
    "# Initializing and running model\n",
    "model = btm.BTM(\n",
    "    X, vocabulary, seed=12321, T=8, M=20, alpha=50/8, beta=0.01)\n",
    "model.fit(biterms, iterations=20)"
   ]
  },
  {
   "cell_type": "code",
   "execution_count": 46,
   "id": "80921974",
   "metadata": {},
   "outputs": [
    {
     "data": {
      "text/plain": [
       "['__class__',\n",
       " '__delattr__',\n",
       " '__dir__',\n",
       " '__doc__',\n",
       " '__eq__',\n",
       " '__format__',\n",
       " '__ge__',\n",
       " '__getattribute__',\n",
       " '__getstate__',\n",
       " '__gt__',\n",
       " '__hash__',\n",
       " '__init__',\n",
       " '__init_subclass__',\n",
       " '__le__',\n",
       " '__lt__',\n",
       " '__ne__',\n",
       " '__new__',\n",
       " '__pyx_vtable__',\n",
       " '__reduce__',\n",
       " '__reduce_ex__',\n",
       " '__repr__',\n",
       " '__setattr__',\n",
       " '__setstate__',\n",
       " '__sizeof__',\n",
       " '__str__',\n",
       " '__subclasshook__',\n",
       " '_compute_p_wz',\n",
       " 'alpha_',\n",
       " 'beta_',\n",
       " 'biterms_',\n",
       " 'coherence_',\n",
       " 'coherence_window_',\n",
       " 'df_words_topics_',\n",
       " 'fit',\n",
       " 'fit_transform',\n",
       " 'has_background_',\n",
       " 'iterations_',\n",
       " 'labels_',\n",
       " 'matrix_docs_topics_',\n",
       " 'matrix_topics_docs_',\n",
       " 'matrix_topics_words_',\n",
       " 'matrix_words_topics_',\n",
       " 'perplexity_',\n",
       " 'theta_',\n",
       " 'topics_num_',\n",
       " 'transform',\n",
       " 'vocabulary_',\n",
       " 'vocabulary_size_',\n",
       " 'window_']"
      ]
     },
     "execution_count": 46,
     "metadata": {},
     "output_type": "execute_result"
    }
   ],
   "source": []
  },
  {
   "cell_type": "code",
   "execution_count": 52,
   "id": "27df0ad4",
   "metadata": {},
   "outputs": [
    {
     "data": {
      "text/plain": [
       "'BTM(n_dw, vocabulary, int T, int M=20, double alpha=1., double beta=0.01, unsigned int seed=0, int win=15, bool has_background=False)\\nBiterm Topic Model.\\n\\n    Parameters\\n    ----------\\n    n_dw : csr.csr_matrix\\n        Documents vs words frequency matrix. Typically, it should be the output\\n        of `CountVectorizer` from sklearn package.\\n    vocabulary : list\\n        Vocabulary (a list of words).\\n    T : int\\n        Number of topics.\\n    M : int = 20\\n        Number of top words for coherence calculation.\\n    alpha : float = 1\\n        Model parameter.\\n    beta : float = 0.01\\n        Model parameter.\\n    seed : int = 0\\n        Random state seed. If seed is equal to 0 (default),\\n        use ``time(NULL)``.\\n    win : int = 15\\n        Biterms generation window.\\n    has_background : bool = False\\n        Use a background topic to accumulate highly frequent words.\\n    '"
      ]
     },
     "execution_count": 52,
     "metadata": {},
     "output_type": "execute_result"
    }
   ],
   "source": [
    "model.__doc__"
   ]
  },
  {
   "cell_type": "code",
   "execution_count": 28,
   "id": "47b0bd42",
   "metadata": {},
   "outputs": [
    {
     "name": "stderr",
     "output_type": "stream",
     "text": [
      "100%|█████████████████████████████████████| 2113/2113 [00:00<00:00, 131176.76it/s]\n"
     ]
    }
   ],
   "source": [
    "p_zd = model.transform(docs_vec)"
   ]
  },
  {
   "cell_type": "code",
   "execution_count": 29,
   "id": "ad384e84",
   "metadata": {},
   "outputs": [],
   "source": [
    "perplexity = btm.perplexity(model.matrix_topics_words_, p_zd, X, 8)\n",
    "coherence = btm.coherence(model.matrix_topics_words_, X, M=20)\n",
    "# or\n",
    "perplexity = model.perplexity_\n",
    "coherence = model.coherence_"
   ]
  },
  {
   "cell_type": "code",
   "execution_count": 30,
   "id": "1349537d",
   "metadata": {},
   "outputs": [
    {
     "name": "stderr",
     "output_type": "stream",
     "text": [
      "/Users/davidchu/opt/anaconda3/lib/python3.9/site-packages/tmplot/_helpers.py:38: UserWarning: Please install \"tomotopy\" package to analyze its models.\n",
      "Run `pip install tomotopy` in the console.\n",
      "  warn(\n",
      "/Users/davidchu/opt/anaconda3/lib/python3.9/site-packages/tmplot/_helpers.py:38: UserWarning: Please install \"tomotopy\" package to analyze its models.\n",
      "Run `pip install tomotopy` in the console.\n",
      "  warn(\n",
      "/Users/davidchu/opt/anaconda3/lib/python3.9/site-packages/tmplot/_helpers.py:38: UserWarning: Please install \"tomotopy\" package to analyze its models.\n",
      "Run `pip install tomotopy` in the console.\n",
      "  warn(\n",
      "/Users/davidchu/opt/anaconda3/lib/python3.9/site-packages/tmplot/_helpers.py:38: UserWarning: Please install \"tomotopy\" package to analyze its models.\n",
      "Run `pip install tomotopy` in the console.\n",
      "  warn(\n"
     ]
    },
    {
     "data": {
      "application/vnd.jupyter.widget-view+json": {
       "model_id": "f53d2ae8ec094e5391c7d4a6d5a7ae38",
       "version_major": 2,
       "version_minor": 0
      },
      "text/plain": [
       "VBox(children=(VBox(children=(HBox(children=(HTML(value='<b>Select a topic</b>:'), Dropdown(options=((0, 0), (…"
      ]
     },
     "metadata": {},
     "output_type": "display_data"
    }
   ],
   "source": [
    "import tmplot as tmp\n",
    "\n",
    "# Run the interactive report interface\n",
    "tmp.report(model=model, docs=texts)"
   ]
  },
  {
   "cell_type": "code",
   "execution_count": 34,
   "id": "5509d686",
   "metadata": {},
   "outputs": [],
   "source": [
    "import pickle as pkl\n",
    "import tmplot as tmp\n",
    "import glob\n",
    "\n",
    "# Loading saved models\n",
    "models_files = sorted(glob.glob(r'results/model[0-9].pkl'))\n",
    "models = []\n",
    "for fn in models_files:\n",
    "    file = open(fn, 'rb')\n",
    "    models.append(pkl.load(file))\n",
    "    file.close()"
   ]
  },
  {
   "cell_type": "code",
   "execution_count": 39,
   "id": "ce310508",
   "metadata": {},
   "outputs": [
    {
     "ename": "IndexError",
     "evalue": "list index out of range",
     "output_type": "error",
     "traceback": [
      "\u001b[0;31m---------------------------------------------------------------------------\u001b[0m",
      "\u001b[0;31mIndexError\u001b[0m                                Traceback (most recent call last)",
      "Input \u001b[0;32mIn [39]\u001b[0m, in \u001b[0;36m<cell line: 6>\u001b[0;34m()\u001b[0m\n\u001b[1;32m      3\u001b[0m reference_model \u001b[38;5;241m=\u001b[39m np\u001b[38;5;241m.\u001b[39mrandom\u001b[38;5;241m.\u001b[39mrandint(\u001b[38;5;241m1\u001b[39m, \u001b[38;5;241m6\u001b[39m)\n\u001b[1;32m      5\u001b[0m \u001b[38;5;66;03m# Getting close topics\u001b[39;00m\n\u001b[0;32m----> 6\u001b[0m close_topics, close_kl \u001b[38;5;241m=\u001b[39m \u001b[43mtmp\u001b[49m\u001b[38;5;241;43m.\u001b[39;49m\u001b[43mget_closest_topics\u001b[49m\u001b[43m(\u001b[49m\n\u001b[1;32m      7\u001b[0m \u001b[43m    \u001b[49m\u001b[43mmodels\u001b[49m\u001b[43m,\u001b[49m\u001b[43m \u001b[49m\u001b[43mmethod\u001b[49m\u001b[38;5;241;43m=\u001b[39;49m\u001b[38;5;124;43m\"\u001b[39;49m\u001b[38;5;124;43mskzlb\u001b[39;49m\u001b[38;5;124;43m\"\u001b[39;49m\u001b[43m,\u001b[49m\u001b[43m \u001b[49m\u001b[43mref\u001b[49m\u001b[38;5;241;43m=\u001b[39;49m\u001b[43mreference_model\u001b[49m\u001b[43m)\u001b[49m\n\u001b[1;32m      9\u001b[0m \u001b[38;5;66;03m# Getting stable topics\u001b[39;00m\n\u001b[1;32m     10\u001b[0m stable_topics, stable_kl \u001b[38;5;241m=\u001b[39m tmp\u001b[38;5;241m.\u001b[39mget_stable_topics(\n\u001b[1;32m     11\u001b[0m     close_topics, close_kl, ref\u001b[38;5;241m=\u001b[39mreference_model, thres\u001b[38;5;241m=\u001b[39m\u001b[38;5;241m0.7\u001b[39m)\n",
      "File \u001b[0;32m~/opt/anaconda3/lib/python3.9/site-packages/tmplot/_stability.py:72\u001b[0m, in \u001b[0;36mget_closest_topics\u001b[0;34m(models, ref, method, top_words, verbose)\u001b[0m\n\u001b[1;32m     69\u001b[0m ref \u001b[38;5;241m=\u001b[39m models_num \u001b[38;5;241m-\u001b[39m \u001b[38;5;241m1\u001b[39m \u001b[38;5;28;01mif\u001b[39;00m ref \u001b[38;5;241m>\u001b[39m\u001b[38;5;241m=\u001b[39m models_num \u001b[38;5;28;01melse\u001b[39;00m ref\n\u001b[1;32m     71\u001b[0m \u001b[38;5;66;03m# Reference model\u001b[39;00m\n\u001b[0;32m---> 72\u001b[0m model_ref \u001b[38;5;241m=\u001b[39m \u001b[43mmodels\u001b[49m\u001b[43m[\u001b[49m\u001b[43mref\u001b[49m\u001b[43m]\u001b[49m\n\u001b[1;32m     74\u001b[0m \u001b[38;5;66;03m# Words vs topics matrix (phi)\u001b[39;00m\n\u001b[1;32m     75\u001b[0m model_ref_phi \u001b[38;5;241m=\u001b[39m get_phi(model_ref)\n",
      "\u001b[0;31mIndexError\u001b[0m: list index out of range"
     ]
    }
   ],
   "source": [
    "# Choosing reference model\n",
    "np.random.seed(122334)\n",
    "reference_model = np.random.randint(1, 6)\n",
    "\n",
    "# Getting close topics\n",
    "close_topics, close_kl = tmp.get_closest_topics(\n",
    "    models, method=\"skzlb\", ref=reference_model)\n",
    "\n",
    "# Getting stable topics\n",
    "stable_topics, stable_kl = tmp.get_stable_topics(\n",
    "    close_topics, close_kl, ref=reference_model, thres=0.7)\n",
    "\n",
    "# Stable topics indices list\n",
    "print(stable_topics[:, reference_model])"
   ]
  }
 ],
 "metadata": {
  "kernelspec": {
   "display_name": "Python 3 (ipykernel)",
   "language": "python",
   "name": "python3"
  },
  "language_info": {
   "codemirror_mode": {
    "name": "ipython",
    "version": 3
   },
   "file_extension": ".py",
   "mimetype": "text/x-python",
   "name": "python",
   "nbconvert_exporter": "python",
   "pygments_lexer": "ipython3",
   "version": "3.9.12"
  }
 },
 "nbformat": 4,
 "nbformat_minor": 5
}
