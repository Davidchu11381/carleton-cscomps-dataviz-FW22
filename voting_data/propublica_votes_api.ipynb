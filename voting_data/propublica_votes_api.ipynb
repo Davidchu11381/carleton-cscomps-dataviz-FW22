{
 "cells": [
  {
   "cell_type": "code",
   "execution_count": 2,
   "metadata": {},
   "outputs": [],
   "source": [
    "import requests\n",
    "import datetime\n",
    "\n",
    "import pandas as pd\n",
    "import pymongo\n",
    "from tqdm import tqdm\n",
    "\n",
    "from credentials import CONGRESS_API_KEY, PROPUBLICA_API_KEY"
   ]
  },
  {
   "attachments": {},
   "cell_type": "markdown",
   "metadata": {},
   "source": [
    "get a specific roll call vote:\n",
    "\n",
    "GET https://api.propublica.org/congress/v1/{congress}/{chamber}/sessions/{session-number}/votes/{roll-call-number}.json\n",
    "\n",
    "get votes by date:\n",
    "\n",
    "GET https://api.propublica.org/congress/v1/{chamber}/votes/{year}/{month}.json\n",
    "\n",
    "get member's vote positions by ID:\n",
    "\n",
    "GET https://api.propublica.org/congress/v1/members/{member-id}/votes.json\n",
    "\n",
    "get all members (filter by in-office to get current):\n",
    "\n",
    "GET https://api.propublica.org/congress/v1/{congress}/{chamber}/members.json\n"
   ]
  },
  {
   "cell_type": "code",
   "execution_count": null,
   "metadata": {},
   "outputs": [],
   "source": [
    "'''\n",
    "pull all congress members to get propublica IDs\n",
    "match with existing entries in congresspeople mongodb using first, last names and chamber = type {'sen', 'rep'}\n",
    "'''"
   ]
  },
  {
   "cell_type": "code",
   "execution_count": 10,
   "metadata": {},
   "outputs": [],
   "source": [
    "client = pymongo.MongoClient(\"mongodb://localhost:27017/\") # must be run on olin312-04\n",
    "db = client[\"comps\"]\n",
    "votes_collection = db[\"votes\"]\n",
    "bills_collection = db['bills']\n",
    "congresspeople_collection = db['congresspeople']\n",
    "committees_collection = db[\"committees\"]"
   ]
  },
  {
   "cell_type": "code",
   "execution_count": 7,
   "metadata": {},
   "outputs": [],
   "source": [
    "def get_members(congress, chamber):\n",
    "    url = f\"https://api.propublica.org/congress/v1/{congress}/{chamber}/members.json\"\n",
    "    headers = {\"X-API-Key\": PROPUBLICA_API_KEY}\n",
    "    response = requests.get(url=url, headers=headers)\n",
    "    if response.ok:\n",
    "        return response.json()['results'][0]['members']\n",
    "    else:\n",
    "        response.raise_for_status()"
   ]
  },
  {
   "cell_type": "code",
   "execution_count": 8,
   "metadata": {},
   "outputs": [],
   "source": [
    "'''\n",
    "unsuitable: only returns 20 most recent votes\n",
    "'''\n",
    "def get_vote_positions(member_id):\n",
    "    url = f\"https://api.propublica.org/congress/v1/members/{member_id}/votes.json\"\n",
    "    headers = {\"X-API-Key\": PROPUBLICA_API_KEY}\n",
    "    response = requests.get(url=url, headers=headers)\n",
    "    if response.ok:\n",
    "        return response.json()#['results'][0]['votes']\n",
    "    else:\n",
    "        response.raise_for_status()"
   ]
  },
  {
   "cell_type": "code",
   "execution_count": 47,
   "metadata": {},
   "outputs": [],
   "source": [
    "all_members = get_members(117, \"house\") + get_members(117, \"senate\")\n",
    "for member in all_members:\n",
    "    try:\n",
    "        with_pct = member[\"votes_with_party_pct\"]\n",
    "    except KeyError:\n",
    "        with_pct = None\n",
    "    try:\n",
    "        against_pct = member[\"votes_against_party_pct\"]\n",
    "    except KeyError:\n",
    "        against_pct = None\n",
    "    congresspeople_collection.update_one(\n",
    "        {\n",
    "            #search on these keys: first name is not consistent bc of nicknames\n",
    "            \"url\": member[\"url\"]\n",
    "        },\n",
    "        {\"$set\": {\n",
    "            \"propublica_id\": member['id'],\n",
    "            'dw_nominate': member['dw_nominate'],\n",
    "            \"votes_with_party_pct\": with_pct,\n",
    "            \"votes_against_party_pct\": against_pct}})"
   ]
  },
  {
   "cell_type": "code",
   "execution_count": 11,
   "metadata": {},
   "outputs": [],
   "source": [
    "def get_congress_years(congress_num):\n",
    "    url = f\"https://api.congress.gov/v3/congress/{congress_num}/\"\n",
    "    param_dict = {\n",
    "        \"api_key\": CONGRESS_API_KEY,\n",
    "    }\n",
    "    response = requests.get(url=url, params=param_dict)\n",
    "    if response.ok:\n",
    "        this_congress = response.json()['congress']\n",
    "        return int(this_congress['startYear']), int(this_congress['endYear'])\n",
    "    else:\n",
    "        response.raise_for_status()"
   ]
  },
  {
   "cell_type": "code",
   "execution_count": 4,
   "metadata": {},
   "outputs": [],
   "source": [
    "def get_vote_uris(year):\n",
    "    vote_uris = []\n",
    "    for month in [\"01\", \"02\", \"03\", \"04\", \"05\", \"06\", \"07\", \"08\", \"09\", \"10\", \"11\", \"12\"]:\n",
    "        url = f\"https://api.propublica.org/congress/v1/both/votes/{year}/{month}.json\"\n",
    "        headers = {\"X-API-Key\": PROPUBLICA_API_KEY}\n",
    "        response = requests.get(url=url, headers=headers)\n",
    "        if response.ok:\n",
    "            try:\n",
    "                vote_uris.extend([vote['vote_uri'] for vote in response.json()['results']['votes']])\n",
    "            except KeyError:\n",
    "                print(f\"Missing fields in query for {year}-{month}\")\n",
    "        else:\n",
    "            response.raise_for_status()\n",
    "    return vote_uris"
   ]
  },
  {
   "cell_type": "code",
   "execution_count": 5,
   "metadata": {},
   "outputs": [],
   "source": [
    "vote_uris = get_vote_uris(2021) + get_vote_uris(2022)"
   ]
  },
  {
   "cell_type": "code",
   "execution_count": 36,
   "metadata": {},
   "outputs": [
    {
     "data": {
      "text/plain": [
       "1949"
      ]
     },
     "execution_count": 36,
     "metadata": {},
     "output_type": "execute_result"
    }
   ],
   "source": [
    "def store_votes_by_bill(vote_uri, votes_collection):\n",
    "    response = requests.get(url=vote_uri, headers={\"X-API-Key\": PROPUBLICA_API_KEY})\n",
    "    if response.ok:\n",
    "        vote_data = response.json()['results']['votes']['vote']\n",
    "        try:\n",
    "            bill_id = vote_data['bill']['bill_id']\n",
    "            store_bill_data(bill_id)\n",
    "            \n",
    "        except KeyError:\n",
    "            bill_id = None\n",
    "            print(vote_data)    \n",
    "        \n",
    "        for position in vote_data['positions']:\n",
    "            vote_doc = {\n",
    "                'bill_id': bill_id,\n",
    "                'member_propublica_id': position['member_id'],\n",
    "                'vote_position': position['vote_position'],\n",
    "                'description': vote_data['description'],\n",
    "                'vote_type': vote_data['vote_type'],\n",
    "                'date': vote_data['date']\n",
    "            }\n",
    "            votes_collection.insert_one(vote_doc)\n",
    "        \n",
    "    else:\n",
    "        response.raise_for_status()"
   ]
  },
  {
   "cell_type": "code",
   "execution_count": 8,
   "metadata": {},
   "outputs": [
    {
     "data": {
      "text/plain": [
       "{'status': 'OK',\n",
       " 'copyright': 'Copyright (c) 2023 Pro Publica Inc. All Rights Reserved.',\n",
       " 'results': [{'bill_id': 'sres16-117',\n",
       "   'bill_slug': 'sres16',\n",
       "   'congress': '117',\n",
       "   'bill': 'S.RES.16',\n",
       "   'bill_type': 'sres',\n",
       "   'number': 'S.RES.16',\n",
       "   'bill_uri': 'https://api.propublica.org/congress/v1/117/bills/sres16.json',\n",
       "   'title': 'A resolution to provide for related procedures concerning the article of impeachment against Donald John Trump, President of the United States.',\n",
       "   'short_title': 'A resolution to provide for related procedures concerning the article of impeachment against Donald John Trump, President of the United States.',\n",
       "   'sponsor_title': '',\n",
       "   'sponsor': 'Charles E. Schumer',\n",
       "   'sponsor_id': 'S000148',\n",
       "   'sponsor_uri': 'https://api.propublica.org/congress/v1/members/S000148.json',\n",
       "   'sponsor_party': 'D',\n",
       "   'sponsor_state': 'NY',\n",
       "   'gpo_pdf_uri': None,\n",
       "   'congressdotgov_url': 'https://www.congress.gov/bill/117th-congress/senate-resolution/16',\n",
       "   'govtrack_url': 'https://www.govtrack.us/congress/bills/117/sres16',\n",
       "   'introduced_date': '2021-01-26',\n",
       "   'active': True,\n",
       "   'last_vote': '2021-01-26',\n",
       "   'house_passage': None,\n",
       "   'senate_passage': None,\n",
       "   'enacted': None,\n",
       "   'vetoed': None,\n",
       "   'cosponsors': 0,\n",
       "   'cosponsors_by_party': {},\n",
       "   'withdrawn_cosponsors': 0,\n",
       "   'primary_subject': '',\n",
       "   'committees': '',\n",
       "   'committee_codes': [],\n",
       "   'subcommittee_codes': [],\n",
       "   'latest_major_action_date': '2021-01-27',\n",
       "   'latest_major_action': 'Message on Senate action sent to the House.',\n",
       "   'house_passage_vote': None,\n",
       "   'senate_passage_vote': None,\n",
       "   'summary': 'This resolution establishes procedures concerning the article of impeachment against former President Donald John Trump, including specific issues to be briefed by the parties, deadlines for filing trial documents, and the date for consideration of the article. ',\n",
       "   'summary_short': 'This resolution establishes procedures concerning the article of impeachment against former President Donald John Trump, including specific issues to be briefed by the parties, deadlines for filing trial documents, and the date for consideration of the article. ',\n",
       "   'cbo_estimate_url': None,\n",
       "   'versions': [{'status': 'Agreed to Senate',\n",
       "     'title': 'ATS',\n",
       "     'url': 'https://www.govinfo.gov/content/pkg/BILLS-117sres16ats/xml/BILLS-117sres16ats.xml',\n",
       "     'congressdotgov_url': 'https://www.congress.gov/bill/117th-congress/senate-resolution/16/text/ats'}],\n",
       "   'actions': [{'id': 3,\n",
       "     'chamber': 'Senate',\n",
       "     'action_type': 'Floor',\n",
       "     'datetime': '2021-01-27',\n",
       "     'description': 'Message on Senate action sent to the House.'},\n",
       "    {'id': 2,\n",
       "     'chamber': 'Senate',\n",
       "     'action_type': 'Floor',\n",
       "     'datetime': '2021-01-26',\n",
       "     'description': 'Submitted in the Senate, considered, and agreed to without amendment by Yea-Nay Vote. 83 - 17. Record Vote Number: 9.'},\n",
       "    {'id': 1,\n",
       "     'chamber': 'Senate',\n",
       "     'action_type': 'Floor',\n",
       "     'datetime': '2021-01-26',\n",
       "     'description': 'Submitted in the Senate, considered, and agreed to without amendment by Yea-Nay Vote. 83 - 17. Record Vote Number: 9. (consideration: CR S143; text: CR S155-156)'}],\n",
       "   'presidential_statements': [],\n",
       "   'votes': [{'chamber': 'Senate',\n",
       "     'date': '2021-01-26',\n",
       "     'time': '15:25:00',\n",
       "     'roll_call': '9',\n",
       "     'question': 'On the Resolution',\n",
       "     'result': 'Resolution Agreed to',\n",
       "     'total_yes': 83,\n",
       "     'total_no': 17,\n",
       "     'total_not_voting': 0,\n",
       "     'api_url': 'https://api.propublica.org/congress/v1/117/senate/sessions/1/votes/9.json'}]}]}"
      ]
     },
     "execution_count": 8,
     "metadata": {},
     "output_type": "execute_result"
    }
   ],
   "source": [
    "response = requests.get(url=vote_uris[1], headers={\"X-API-Key\": PROPUBLICA_API_KEY})\n",
    "vote_data = response.json()['results']['votes']['vote']\n",
    "bill_uri = vote_data['bill']['api_uri']\n",
    "bill_response = requests.get(url=bill_uri, headers={\"X-API-Key\": PROPUBLICA_API_KEY})\n",
    "bill_response.json()"
   ]
  },
  {
   "attachments": {},
   "cell_type": "markdown",
   "metadata": {},
   "source": [
    "Loading bills"
   ]
  },
  {
   "cell_type": "code",
   "execution_count": 52,
   "metadata": {},
   "outputs": [],
   "source": [
    "def store_bills(congress, insert_in_db=True):\n",
    "    url = f\"https://api.propublica.org/congress/v1/{congress}/both/bills/introduced.json\"\n",
    "    offset = 0\n",
    "    bill_list = []\n",
    "    while True:\n",
    "        response = requests.get(url=url, headers={\"X-API-Key\": PROPUBLICA_API_KEY}, params={\"offset\": offset})\n",
    "        if response.ok:\n",
    "            results = response.json()['results']\n",
    "            bills = results[0]['bills']\n",
    "            if bills == []:\n",
    "                break\n",
    "            offset += 20\n",
    "            if insert_in_db:\n",
    "                bills_collection.insert_many(bills)\n",
    "            else:\n",
    "                bill_list.extend(bills)\n",
    "        else:\n",
    "            print(f\"Query response code: {response.status_code}\")\n",
    "            return bill_list, offset\n",
    "    return bill_list, offset"
   ]
  },
  {
   "cell_type": "code",
   "execution_count": 53,
   "metadata": {},
   "outputs": [],
   "source": [
    "bill_list, offset = store_bills(117)"
   ]
  },
  {
   "attachments": {},
   "cell_type": "markdown",
   "metadata": {},
   "source": [
    "Loading committees"
   ]
  },
  {
   "cell_type": "code",
   "execution_count": 63,
   "metadata": {},
   "outputs": [],
   "source": [
    "def store_committee_memberships(congress):\n",
    "    for doc in tqdm(congresspeople_collection.find()):\n",
    "        member_id = doc['propublica_id']\n",
    "        url = f\"https://api.propublica.org/congress/v1/members/{member_id}.json\"\n",
    "        response = requests.get(url, headers={\"X-API-Key\": PROPUBLICA_API_KEY})\n",
    "        if response.ok:\n",
    "            results = response.json()['results'][0]\n",
    "            roles = [role for role in results['roles'] if role['congress'] == str(congress)]\n",
    "            if len(roles) == 0:\n",
    "                continue\n",
    "            else:\n",
    "                for role in roles:\n",
    "                    committees = [committee['name'] for committee in role['committees']]\n",
    "                    subcommittees = [subcommittee['name'] for subcommittee in role['subcommittees']]\n",
    "                    congresspeople_collection.update_one(\n",
    "                        {\"_id\": doc[\"_id\"]}, \n",
    "                        {\"$addToSet\": {\"committees\": {\"$each\": committees}, \"subcommittees\": {\"$each\": subcommittees}}}\n",
    "                    )\n",
    "        else:\n",
    "            print(f\"Query response code: {response.status_code}\")"
   ]
  },
  {
   "cell_type": "code",
   "execution_count": 64,
   "metadata": {},
   "outputs": [
    {
     "name": "stderr",
     "output_type": "stream",
     "text": [
      "538it [02:06,  4.25it/s]\n"
     ]
    }
   ],
   "source": [
    "store_committee_memberships(117)"
   ]
  },
  {
   "cell_type": "code",
   "execution_count": 61,
   "metadata": {},
   "outputs": [],
   "source": [
    "member_id = \"M000355\"\n",
    "committees, subcommittees = [], []\n",
    "url = f\"https://api.propublica.org/congress/v1/members/{member_id}.json\"\n",
    "response = requests.get(url, headers={\"X-API-Key\": PROPUBLICA_API_KEY})\n",
    "if response.ok:\n",
    "    results = response.json()['results'][0]\n",
    "    roles = [role for role in results['roles'] if role['congress'] == \"117\"]\n",
    "    if len(roles) != 0:\n",
    "        for role in roles:\n",
    "            committees.extend([committee['name'] for committee in role['committees']])\n",
    "            subcommittees.extend([subcommittee['name'] for subcommittee in role['subcommittees']])"
   ]
  },
  {
   "cell_type": "code",
   "execution_count": 62,
   "metadata": {},
   "outputs": [
    {
     "data": {
      "text/plain": [
       "['Committee on Rules and Administration',\n",
       " 'Committee on Agriculture, Nutrition, and Forestry',\n",
       " 'Committee on Appropriations',\n",
       " 'Select Committee on Intelligence']"
      ]
     },
     "execution_count": 62,
     "metadata": {},
     "output_type": "execute_result"
    }
   ],
   "source": [
    "committees"
   ]
  },
  {
   "attachments": {},
   "cell_type": "markdown",
   "metadata": {},
   "source": [
    "inserting committees and subcommittees into db"
   ]
  },
  {
   "cell_type": "code",
   "execution_count": 13,
   "metadata": {},
   "outputs": [],
   "source": [
    "committees = []\n",
    "subcommittees = []\n",
    "no_committees = 0\n",
    "for doc in congresspeople_collection.find():\n",
    "    try:\n",
    "        new_comittees = [committee for committee in doc[\"committees\"] if committee not in committees]\n",
    "        new_subcomittees = [subcommittee for subcommittee in doc[\"subcommittees\"] if subcommittee not in subcommittees]\n",
    "        committees.extend(new_comittees)\n",
    "        subcommittees.extend(new_subcomittees)\n",
    "    except KeyError:\n",
    "        no_committees += 1"
   ]
  },
  {
   "cell_type": "code",
   "execution_count": 16,
   "metadata": {},
   "outputs": [
    {
     "data": {
      "text/plain": [
       "<pymongo.results.InsertManyResult at 0x7fede3b710c0>"
      ]
     },
     "execution_count": 16,
     "metadata": {},
     "output_type": "execute_result"
    }
   ],
   "source": [
    "committees_collection.insert_many([{\"type\": \"committee\", \"name\": committee} for committee in committees])\n",
    "committees_collection.insert_many([{\"type\": \"subcommittee\", \"name\": subcommittee} for subcommittee in subcommittees])"
   ]
  },
  {
   "cell_type": "code",
   "execution_count": 66,
   "metadata": {},
   "outputs": [
    {
     "data": {
      "text/plain": [
       "{'': 17823}"
      ]
     },
     "execution_count": 66,
     "metadata": {},
     "output_type": "execute_result"
    }
   ],
   "source": [
    "primary_subjects = {}\n",
    "for doc in bills_collection.find():\n",
    "    subject = doc[\"primary_subject\"]\n",
    "    if subject in primary_subjects:\n",
    "        primary_subjects[subject] += 1\n",
    "    else:\n",
    "        primary_subjects[subject] = 1\n",
    "primary_subjects"
   ]
  },
  {
   "cell_type": "code",
   "execution_count": 75,
   "metadata": {},
   "outputs": [],
   "source": [
    "def get_bill_subjects(bill_id, congress):\n",
    "    url = f\"https://api.propublica.org/congress/v1/{congress}/bills/{bill_id}/subjects.json\"\n",
    "    subjects = []\n",
    "    initial_response = requests.get(url=url, headers={\"X-API-Key\": PROPUBLICA_API_KEY})\n",
    "    if initial_response.ok:\n",
    "        num_results = initial_response.json()['num_results']\n",
    "        for i in range((num_results // 20) + 1):\n",
    "            offset = 20 * i\n",
    "            response = requests.get(\n",
    "                url=url, \n",
    "                headers={\"X-API-Key\": PROPUBLICA_API_KEY}, \n",
    "                params={\"offset\": offset}\n",
    "            ).json()\n",
    "            subjects.extend([subject['name'] for subject in response['results'][0]['subjects']])\n",
    "    return subjects\n",
    "\n",
    "    "
   ]
  },
  {
   "cell_type": "code",
   "execution_count": 71,
   "metadata": {},
   "outputs": [
    {
     "data": {
      "text/plain": [
       "5"
      ]
     },
     "execution_count": 71,
     "metadata": {},
     "output_type": "execute_result"
    }
   ],
   "source": [
    "114 // 20"
   ]
  },
  {
   "cell_type": "code",
   "execution_count": 73,
   "metadata": {},
   "outputs": [
    {
     "data": {
      "text/plain": [
       "{'status': 'OK',\n",
       " 'copyright': 'Copyright (c) 2023 Pro Publica Inc. All Rights Reserved.',\n",
       " 'num_results': 114,\n",
       " 'offset': 100,\n",
       " 'results': [{'congress': '115',\n",
       "   'bill_id': 'hr2810-115',\n",
       "   'bill_slug': 'hr2810',\n",
       "   'bill_type': 'hr',\n",
       "   'number': 'H.R.2810',\n",
       "   'bill_uri': 'https://api.propublica.org/congress/v1/115/bills/hr2810.json',\n",
       "   'url_number': 'hr2810',\n",
       "   'title': 'To authorize appropriations for fiscal year 2018 for military activities of the Department of Defense and for military construction, to prescribe military personnel strengths for such fiscal year, and for other purposes.',\n",
       "   'sponsor_title': 'Rep.',\n",
       "   'sponsor_id': 'T000238',\n",
       "   'sponsor_name': 'William M. Thornberry',\n",
       "   'sponsor_state': 'TX',\n",
       "   'sponsor_party': 'R',\n",
       "   'sponsor_uri': 'https://api.propublica.org/congress/v1/members/T000238.json',\n",
       "   'introduced_date': '2017-06-07',\n",
       "   'number_of_cosponsors': 1,\n",
       "   'committees': 'House Transportation and Infrastructure Committee',\n",
       "   'latest_major_action_date': '2017-12-12',\n",
       "   'latest_major_action': 'Became Public Law No: 115-91.',\n",
       "   'house_passage_vote': '2017-10-12',\n",
       "   'senate_passage_vote': '2017-09-18',\n",
       "   'subjects': [{'name': 'Broadcasting, cable, digital technologies',\n",
       "     'url_name': 'broadcasting-cable-digital-technologies'},\n",
       "    {'name': 'Pollution liability', 'url_name': 'pollution-liability'},\n",
       "    {'name': 'Photography and imaging', 'url_name': 'photography-and-imaging'},\n",
       "    {'name': 'Residential rehabilitation and home repair',\n",
       "     'url_name': 'residential-rehabilitation-and-home-repair'},\n",
       "    {'name': 'Citizenship and naturalization',\n",
       "     'url_name': 'citizenship-and-naturalization'},\n",
       "    {'name': 'Palau', 'url_name': 'palau'},\n",
       "    {'name': 'Military education and training',\n",
       "     'url_name': 'military-education-and-training'},\n",
       "    {'name': 'Computer security and identity theft',\n",
       "     'url_name': 'computer-security-and-identity-theft'},\n",
       "    {'name': 'Service animals', 'url_name': 'service-animals'},\n",
       "    {'name': 'Climate change and greenhouse gases',\n",
       "     'url_name': 'climate-change-and-greenhouse-gases'},\n",
       "    {'name': 'Government studies and investigations',\n",
       "     'url_name': 'government-studies-and-investigations'},\n",
       "    {'name': 'Debt collection', 'url_name': 'debt-collection'},\n",
       "    {'name': 'Presidents and presidential powers, Vice Presidents',\n",
       "     'url_name': 'presidents-and-presidential-powers-vice-presidents'},\n",
       "    {'name': 'Armed Forces and National Security',\n",
       "     'url_name': 'armed-forces-and-national-security'}]}]}"
      ]
     },
     "execution_count": 73,
     "metadata": {},
     "output_type": "execute_result"
    }
   ],
   "source": [
    "url = \"https://api.propublica.org/congress/v1/115/bills/hr2810/subjects.json\"\n",
    "offset = 100\n",
    "response = requests.get(url=url, headers={\"X-API-Key\": PROPUBLICA_API_KEY}, params={\"offset\": offset}).json()\n",
    "response"
   ]
  },
  {
   "cell_type": "code",
   "execution_count": 76,
   "metadata": {},
   "outputs": [
    {
     "name": "stderr",
     "output_type": "stream",
     "text": [
      "984it [10:13,  1.77it/s]"
     ]
    }
   ],
   "source": [
    "congress = 117\n",
    "bills = bills_collection.find()\n",
    "for bill in tqdm(bills):\n",
    "    subjects = get_bill_subjects(bill['bill_slug'], congress)\n",
    "    bills_collection.find_one_and_update(\n",
    "        {\"_id\": bill['_id']},\n",
    "        {\"$set\": {\"subjects\": subjects}})"
   ]
  },
  {
   "cell_type": "code",
   "execution_count": 8,
   "metadata": {},
   "outputs": [
    {
     "name": "stdout",
     "output_type": "stream",
     "text": [
      "8774\n",
      "17823\n"
     ]
    }
   ],
   "source": [
    "bills = bills_collection.find()\n",
    "with_subjects = 0\n",
    "nonempty_subjects = 0\n",
    "total = 0\n",
    "for bill in bills:\n",
    "    total += 1\n",
    "    if \"subjects\" in bill:\n",
    "        with_subjects += 1\n",
    "print(with_subjects)\n",
    "print(total)"
   ]
  }
 ],
 "metadata": {
  "kernelspec": {
   "display_name": "Python 3",
   "language": "python",
   "name": "python3"
  },
  "language_info": {
   "codemirror_mode": {
    "name": "ipython",
    "version": 3
   },
   "file_extension": ".py",
   "mimetype": "text/x-python",
   "name": "python",
   "nbconvert_exporter": "python",
   "pygments_lexer": "ipython3",
   "version": "3.10.6"
  },
  "orig_nbformat": 4,
  "vscode": {
   "interpreter": {
    "hash": "916dbcbb3f70747c44a77c7bcd40155683ae19c65e1c03b4aa3499c5328201f1"
   }
  }
 },
 "nbformat": 4,
 "nbformat_minor": 2
}
