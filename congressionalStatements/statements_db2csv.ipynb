{
 "cells": [
  {
   "cell_type": "code",
   "execution_count": 3,
   "metadata": {},
   "outputs": [],
   "source": [
    "import re\n",
    "\n",
    "import pymongo\n",
    "import pandas as pd"
   ]
  },
  {
   "cell_type": "code",
   "execution_count": 4,
   "metadata": {},
   "outputs": [],
   "source": [
    "client = pymongo.MongoClient(\"mongodb://localhost:27017/\") # must be run on olin312-04!!\n",
    "db = client[\"comps\"]\n",
    "statements = db['statements']"
   ]
  },
  {
   "cell_type": "code",
   "execution_count": 5,
   "metadata": {},
   "outputs": [],
   "source": [
    "statements_dict_list = []\n",
    "for doc in statements.find():\n",
    "    for statement in doc['statements']:\n",
    "        statements_dict_list.append({'opensecrets_id': doc['opensecrets_id'], 'date': doc['date'], 'statement_text': statement})\n",
    "statements_df = pd.DataFrame.from_records(statements_dict_list)"
   ]
  },
  {
   "cell_type": "code",
   "execution_count": 6,
   "metadata": {},
   "outputs": [
    {
     "data": {
      "text/html": [
       "<div>\n",
       "<style scoped>\n",
       "    .dataframe tbody tr th:only-of-type {\n",
       "        vertical-align: middle;\n",
       "    }\n",
       "\n",
       "    .dataframe tbody tr th {\n",
       "        vertical-align: top;\n",
       "    }\n",
       "\n",
       "    .dataframe thead th {\n",
       "        text-align: right;\n",
       "    }\n",
       "</style>\n",
       "<table border=\"1\" class=\"dataframe\">\n",
       "  <thead>\n",
       "    <tr style=\"text-align: right;\">\n",
       "      <th></th>\n",
       "      <th>opensecrets_id</th>\n",
       "      <th>date</th>\n",
       "      <th>statement_text</th>\n",
       "    </tr>\n",
       "  </thead>\n",
       "  <tbody>\n",
       "    <tr>\n",
       "      <th>0</th>\n",
       "      <td>N00033640</td>\n",
       "      <td>2021-01-03</td>\n",
       "      <td>Mr. JEFFRIES. Madam Clerk, I rise today at the...</td>\n",
       "    </tr>\n",
       "    <tr>\n",
       "      <th>1</th>\n",
       "      <td>N00033640</td>\n",
       "      <td>2021-01-03</td>\n",
       "      <td>Mr. JEFFRIES. Madam Speaker, I yield to the di...</td>\n",
       "    </tr>\n",
       "    <tr>\n",
       "      <th>2</th>\n",
       "      <td>N00028152</td>\n",
       "      <td>2021-01-03</td>\n",
       "      <td>Mr. MCCARTHY. Colleagues, friends, and fellow ...</td>\n",
       "    </tr>\n",
       "    <tr>\n",
       "      <th>3</th>\n",
       "      <td>N00030670</td>\n",
       "      <td>2021-01-03</td>\n",
       "      <td>Mr. YOUNG. Madam Speaker, before I issue the o...</td>\n",
       "    </tr>\n",
       "    <tr>\n",
       "      <th>4</th>\n",
       "      <td>N00042268</td>\n",
       "      <td>2021-01-03</td>\n",
       "      <td>Mr. ROY. Madam Speaker, on my responsibility a...</td>\n",
       "    </tr>\n",
       "  </tbody>\n",
       "</table>\n",
       "</div>"
      ],
      "text/plain": [
       "  opensecrets_id        date  \\\n",
       "0      N00033640  2021-01-03   \n",
       "1      N00033640  2021-01-03   \n",
       "2      N00028152  2021-01-03   \n",
       "3      N00030670  2021-01-03   \n",
       "4      N00042268  2021-01-03   \n",
       "\n",
       "                                      statement_text  \n",
       "0  Mr. JEFFRIES. Madam Clerk, I rise today at the...  \n",
       "1  Mr. JEFFRIES. Madam Speaker, I yield to the di...  \n",
       "2  Mr. MCCARTHY. Colleagues, friends, and fellow ...  \n",
       "3  Mr. YOUNG. Madam Speaker, before I issue the o...  \n",
       "4  Mr. ROY. Madam Speaker, on my responsibility a...  "
      ]
     },
     "execution_count": 6,
     "metadata": {},
     "output_type": "execute_result"
    }
   ],
   "source": [
    "statements_df.head()"
   ]
  },
  {
   "cell_type": "code",
   "execution_count": 6,
   "metadata": {},
   "outputs": [],
   "source": [
    "statements_df.to_csv('../../Statements/statements.csv')"
   ]
  },
  {
   "cell_type": "code",
   "execution_count": 24,
   "metadata": {},
   "outputs": [],
   "source": [
    "statements_df['statement_text'] = statements_df['statement_text'].str.split(r'(?<!Ms|Mr)\\.').str[3:].str.join('.')"
   ]
  },
  {
   "cell_type": "code",
   "execution_count": 25,
   "metadata": {},
   "outputs": [
    {
     "data": {
      "text/plain": [
       "0         NANCY PELOSI believes in the goodness of the ...\n",
       "1                                                         \n",
       "2         Since Congress first sat in this room, Americ...\n",
       "3         I have served with you longer than anybody el...\n",
       "4         Under the precedents, the Chair will ask the ...\n",
       "                               ...                        \n",
       "27291     In that role, Ms. Brown was a witness to the ...\n",
       "27292                                                     \n",
       "27293     until 11:30 a.m. on Tuesday, October 18, 2022...\n",
       "27294    R. 1560: Ms. A DAMS and Ms. V ELA´ZQUEZ . H.R....\n",
       "27295     7750: Mr. P ETERS . H.R. 7810: Mr. E SPAILLAT...\n",
       "Name: statement_text, Length: 27296, dtype: object"
      ]
     },
     "execution_count": 25,
     "metadata": {},
     "output_type": "execute_result"
    }
   ],
   "source": [
    "statements_df['statement_text']"
   ]
  },
  {
   "cell_type": "code",
   "execution_count": 26,
   "metadata": {},
   "outputs": [],
   "source": [
    "statements_df = statements_df[statements_df['statement_text'] != '']"
   ]
  },
  {
   "cell_type": "code",
   "execution_count": 28,
   "metadata": {},
   "outputs": [],
   "source": [
    "statements_df.to_csv('../../Statements/statements_trimmed.csv')"
   ]
  },
  {
   "cell_type": "code",
   "execution_count": null,
   "metadata": {},
   "outputs": [],
   "source": []
  }
 ],
 "metadata": {
  "kernelspec": {
   "display_name": "Python 3",
   "language": "python",
   "name": "python3"
  },
  "language_info": {
   "codemirror_mode": {
    "name": "ipython",
    "version": 3
   },
   "file_extension": ".py",
   "mimetype": "text/x-python",
   "name": "python",
   "nbconvert_exporter": "python",
   "pygments_lexer": "ipython3",
   "version": "3.10.6 (main, Nov 14 2022, 16:10:14) [GCC 11.3.0]"
  },
  "orig_nbformat": 4,
  "vscode": {
   "interpreter": {
    "hash": "916dbcbb3f70747c44a77c7bcd40155683ae19c65e1c03b4aa3499c5328201f1"
   }
  }
 },
 "nbformat": 4,
 "nbformat_minor": 2
}
